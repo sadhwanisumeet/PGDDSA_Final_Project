{
  "cells": [
    {
      "cell_type": "markdown",
      "id": "aec45bc4",
      "metadata": {
        "papermill": {
          "duration": 0.049682,
          "end_time": "2022-07-07T16:30:09.275919",
          "exception": false,
          "start_time": "2022-07-07T16:30:09.226237",
          "status": "completed"
        },
        "tags": [],
        "id": "aec45bc4"
      },
      "source": [
        "### Analysis of Innings-wise Batsmen scores in International Cricket Matches\n",
        "#### Data for the period of 41years: 21-Feb-1981 to 23-Jun-2022"
      ]
    },
    {
      "cell_type": "markdown",
      "source": [
        "### Importing the required Libraries"
      ],
      "metadata": {
        "id": "wFGgyTO_zgEi"
      },
      "id": "wFGgyTO_zgEi"
    },
    {
      "cell_type": "code",
      "execution_count": 1,
      "id": "bfaff028",
      "metadata": {
        "execution": {
          "iopub.execute_input": "2022-07-07T16:30:09.359608Z",
          "iopub.status.busy": "2022-07-07T16:30:09.359123Z",
          "iopub.status.idle": "2022-07-07T16:30:10.450352Z",
          "shell.execute_reply": "2022-07-07T16:30:10.449011Z"
        },
        "papermill": {
          "duration": 1.134815,
          "end_time": "2022-07-07T16:30:10.453532",
          "exception": false,
          "start_time": "2022-07-07T16:30:09.318717",
          "status": "completed"
        },
        "tags": [],
        "id": "bfaff028"
      },
      "outputs": [],
      "source": [
        "import pandas as pd\n",
        "import numpy as np\n",
        "import matplotlib.pyplot as plt\n",
        "import seaborn as sns\n",
        "\n",
        "import warnings\n",
        "warnings.filterwarnings(\"ignore\")"
      ]
    },
    {
      "cell_type": "markdown",
      "source": [
        "#### Reading data from the file into a Dataframe"
      ],
      "metadata": {
        "id": "xnLEjr9Gz_Yc"
      },
      "id": "xnLEjr9Gz_Yc"
    },
    {
      "cell_type": "code",
      "execution_count": 3,
      "id": "5c894ffe",
      "metadata": {
        "execution": {
          "iopub.execute_input": "2022-07-07T16:30:10.530220Z",
          "iopub.status.busy": "2022-07-07T16:30:10.529561Z",
          "iopub.status.idle": "2022-07-07T16:30:11.136906Z",
          "shell.execute_reply": "2022-07-07T16:30:11.135758Z"
        },
        "papermill": {
          "duration": 0.648829,
          "end_time": "2022-07-07T16:30:11.140086",
          "exception": false,
          "start_time": "2022-07-07T16:30:10.491257",
          "status": "completed"
        },
        "tags": [],
        "id": "5c894ffe"
      },
      "outputs": [],
      "source": [
        "df = pd.read_csv('All_International_Cricket_Innings_Batsmen.csv')"
      ]
    },
    {
      "cell_type": "code",
      "execution_count": 4,
      "id": "abb3720b",
      "metadata": {
        "execution": {
          "iopub.execute_input": "2022-07-07T16:30:11.217121Z",
          "iopub.status.busy": "2022-07-07T16:30:11.216712Z",
          "iopub.status.idle": "2022-07-07T16:30:11.245192Z",
          "shell.execute_reply": "2022-07-07T16:30:11.243661Z"
        },
        "papermill": {
          "duration": 0.069729,
          "end_time": "2022-07-07T16:30:11.248268",
          "exception": false,
          "start_time": "2022-07-07T16:30:11.178539",
          "status": "completed"
        },
        "tags": [],
        "colab": {
          "base_uri": "https://localhost:8080/",
          "height": 206
        },
        "id": "abb3720b",
        "outputId": "3f8653f3-d593-49d1-9827-b4b18f966926"
      },
      "outputs": [
        {
          "output_type": "execute_result",
          "data": {
            "text/plain": [
              "   Unnamed: 0              Player Runs Mins  BF 4s 6s     SR Inns  Unnamed: 8  \\\n",
              "0          44     TWM Latham (NZ)    0    5   6  0  0      0    1         NaN   \n",
              "1          45       WA Young (NZ)   20   57  42  2  0  47.61    1         NaN   \n",
              "2          46  KS Williamson (NZ)   31   97  64  5  0  48.43    1         NaN   \n",
              "3          47      DP Conway (NZ)   26  100  62  5  0  41.93    1         NaN   \n",
              "4          48    HM Nicholls (NZ)   19  137  99  1  0  19.19    1         NaN   \n",
              "\n",
              "       Opposition Ground Start Date  \n",
              "0  Test v England  Leeds  23-Jun-22  \n",
              "1  Test v England  Leeds  23-Jun-22  \n",
              "2  Test v England  Leeds  23-Jun-22  \n",
              "3  Test v England  Leeds  23-Jun-22  \n",
              "4  Test v England  Leeds  23-Jun-22  "
            ],
            "text/html": [
              "\n",
              "  <div id=\"df-9cb2847e-8d41-4bc0-b6ca-351f83791741\">\n",
              "    <div class=\"colab-df-container\">\n",
              "      <div>\n",
              "<style scoped>\n",
              "    .dataframe tbody tr th:only-of-type {\n",
              "        vertical-align: middle;\n",
              "    }\n",
              "\n",
              "    .dataframe tbody tr th {\n",
              "        vertical-align: top;\n",
              "    }\n",
              "\n",
              "    .dataframe thead th {\n",
              "        text-align: right;\n",
              "    }\n",
              "</style>\n",
              "<table border=\"1\" class=\"dataframe\">\n",
              "  <thead>\n",
              "    <tr style=\"text-align: right;\">\n",
              "      <th></th>\n",
              "      <th>Unnamed: 0</th>\n",
              "      <th>Player</th>\n",
              "      <th>Runs</th>\n",
              "      <th>Mins</th>\n",
              "      <th>BF</th>\n",
              "      <th>4s</th>\n",
              "      <th>6s</th>\n",
              "      <th>SR</th>\n",
              "      <th>Inns</th>\n",
              "      <th>Unnamed: 8</th>\n",
              "      <th>Opposition</th>\n",
              "      <th>Ground</th>\n",
              "      <th>Start Date</th>\n",
              "    </tr>\n",
              "  </thead>\n",
              "  <tbody>\n",
              "    <tr>\n",
              "      <th>0</th>\n",
              "      <td>44</td>\n",
              "      <td>TWM Latham (NZ)</td>\n",
              "      <td>0</td>\n",
              "      <td>5</td>\n",
              "      <td>6</td>\n",
              "      <td>0</td>\n",
              "      <td>0</td>\n",
              "      <td>0</td>\n",
              "      <td>1</td>\n",
              "      <td>NaN</td>\n",
              "      <td>Test v England</td>\n",
              "      <td>Leeds</td>\n",
              "      <td>23-Jun-22</td>\n",
              "    </tr>\n",
              "    <tr>\n",
              "      <th>1</th>\n",
              "      <td>45</td>\n",
              "      <td>WA Young (NZ)</td>\n",
              "      <td>20</td>\n",
              "      <td>57</td>\n",
              "      <td>42</td>\n",
              "      <td>2</td>\n",
              "      <td>0</td>\n",
              "      <td>47.61</td>\n",
              "      <td>1</td>\n",
              "      <td>NaN</td>\n",
              "      <td>Test v England</td>\n",
              "      <td>Leeds</td>\n",
              "      <td>23-Jun-22</td>\n",
              "    </tr>\n",
              "    <tr>\n",
              "      <th>2</th>\n",
              "      <td>46</td>\n",
              "      <td>KS Williamson (NZ)</td>\n",
              "      <td>31</td>\n",
              "      <td>97</td>\n",
              "      <td>64</td>\n",
              "      <td>5</td>\n",
              "      <td>0</td>\n",
              "      <td>48.43</td>\n",
              "      <td>1</td>\n",
              "      <td>NaN</td>\n",
              "      <td>Test v England</td>\n",
              "      <td>Leeds</td>\n",
              "      <td>23-Jun-22</td>\n",
              "    </tr>\n",
              "    <tr>\n",
              "      <th>3</th>\n",
              "      <td>47</td>\n",
              "      <td>DP Conway (NZ)</td>\n",
              "      <td>26</td>\n",
              "      <td>100</td>\n",
              "      <td>62</td>\n",
              "      <td>5</td>\n",
              "      <td>0</td>\n",
              "      <td>41.93</td>\n",
              "      <td>1</td>\n",
              "      <td>NaN</td>\n",
              "      <td>Test v England</td>\n",
              "      <td>Leeds</td>\n",
              "      <td>23-Jun-22</td>\n",
              "    </tr>\n",
              "    <tr>\n",
              "      <th>4</th>\n",
              "      <td>48</td>\n",
              "      <td>HM Nicholls (NZ)</td>\n",
              "      <td>19</td>\n",
              "      <td>137</td>\n",
              "      <td>99</td>\n",
              "      <td>1</td>\n",
              "      <td>0</td>\n",
              "      <td>19.19</td>\n",
              "      <td>1</td>\n",
              "      <td>NaN</td>\n",
              "      <td>Test v England</td>\n",
              "      <td>Leeds</td>\n",
              "      <td>23-Jun-22</td>\n",
              "    </tr>\n",
              "  </tbody>\n",
              "</table>\n",
              "</div>\n",
              "      <button class=\"colab-df-convert\" onclick=\"convertToInteractive('df-9cb2847e-8d41-4bc0-b6ca-351f83791741')\"\n",
              "              title=\"Convert this dataframe to an interactive table.\"\n",
              "              style=\"display:none;\">\n",
              "        \n",
              "  <svg xmlns=\"http://www.w3.org/2000/svg\" height=\"24px\"viewBox=\"0 0 24 24\"\n",
              "       width=\"24px\">\n",
              "    <path d=\"M0 0h24v24H0V0z\" fill=\"none\"/>\n",
              "    <path d=\"M18.56 5.44l.94 2.06.94-2.06 2.06-.94-2.06-.94-.94-2.06-.94 2.06-2.06.94zm-11 1L8.5 8.5l.94-2.06 2.06-.94-2.06-.94L8.5 2.5l-.94 2.06-2.06.94zm10 10l.94 2.06.94-2.06 2.06-.94-2.06-.94-.94-2.06-.94 2.06-2.06.94z\"/><path d=\"M17.41 7.96l-1.37-1.37c-.4-.4-.92-.59-1.43-.59-.52 0-1.04.2-1.43.59L10.3 9.45l-7.72 7.72c-.78.78-.78 2.05 0 2.83L4 21.41c.39.39.9.59 1.41.59.51 0 1.02-.2 1.41-.59l7.78-7.78 2.81-2.81c.8-.78.8-2.07 0-2.86zM5.41 20L4 18.59l7.72-7.72 1.47 1.35L5.41 20z\"/>\n",
              "  </svg>\n",
              "      </button>\n",
              "      \n",
              "  <style>\n",
              "    .colab-df-container {\n",
              "      display:flex;\n",
              "      flex-wrap:wrap;\n",
              "      gap: 12px;\n",
              "    }\n",
              "\n",
              "    .colab-df-convert {\n",
              "      background-color: #E8F0FE;\n",
              "      border: none;\n",
              "      border-radius: 50%;\n",
              "      cursor: pointer;\n",
              "      display: none;\n",
              "      fill: #1967D2;\n",
              "      height: 32px;\n",
              "      padding: 0 0 0 0;\n",
              "      width: 32px;\n",
              "    }\n",
              "\n",
              "    .colab-df-convert:hover {\n",
              "      background-color: #E2EBFA;\n",
              "      box-shadow: 0px 1px 2px rgba(60, 64, 67, 0.3), 0px 1px 3px 1px rgba(60, 64, 67, 0.15);\n",
              "      fill: #174EA6;\n",
              "    }\n",
              "\n",
              "    [theme=dark] .colab-df-convert {\n",
              "      background-color: #3B4455;\n",
              "      fill: #D2E3FC;\n",
              "    }\n",
              "\n",
              "    [theme=dark] .colab-df-convert:hover {\n",
              "      background-color: #434B5C;\n",
              "      box-shadow: 0px 1px 3px 1px rgba(0, 0, 0, 0.15);\n",
              "      filter: drop-shadow(0px 1px 2px rgba(0, 0, 0, 0.3));\n",
              "      fill: #FFFFFF;\n",
              "    }\n",
              "  </style>\n",
              "\n",
              "      <script>\n",
              "        const buttonEl =\n",
              "          document.querySelector('#df-9cb2847e-8d41-4bc0-b6ca-351f83791741 button.colab-df-convert');\n",
              "        buttonEl.style.display =\n",
              "          google.colab.kernel.accessAllowed ? 'block' : 'none';\n",
              "\n",
              "        async function convertToInteractive(key) {\n",
              "          const element = document.querySelector('#df-9cb2847e-8d41-4bc0-b6ca-351f83791741');\n",
              "          const dataTable =\n",
              "            await google.colab.kernel.invokeFunction('convertToInteractive',\n",
              "                                                     [key], {});\n",
              "          if (!dataTable) return;\n",
              "\n",
              "          const docLinkHtml = 'Like what you see? Visit the ' +\n",
              "            '<a target=\"_blank\" href=https://colab.research.google.com/notebooks/data_table.ipynb>data table notebook</a>'\n",
              "            + ' to learn more about interactive tables.';\n",
              "          element.innerHTML = '';\n",
              "          dataTable['output_type'] = 'display_data';\n",
              "          await google.colab.output.renderOutput(dataTable, element);\n",
              "          const docLink = document.createElement('div');\n",
              "          docLink.innerHTML = docLinkHtml;\n",
              "          element.appendChild(docLink);\n",
              "        }\n",
              "      </script>\n",
              "    </div>\n",
              "  </div>\n",
              "  "
            ]
          },
          "metadata": {},
          "execution_count": 4
        }
      ],
      "source": [
        "# Displaying the first 5 records from the dataframe\n",
        "\n",
        "df.head(5)"
      ]
    },
    {
      "cell_type": "code",
      "source": [
        "# Displaying the last 5 records from the dataframe\n",
        "\n",
        "df.tail(5)"
      ],
      "metadata": {
        "colab": {
          "base_uri": "https://localhost:8080/",
          "height": 206
        },
        "id": "aCgykXcX8b15",
        "outputId": "3c764797-b8eb-45da-baec-d93fbbe77079"
      },
      "id": "aCgykXcX8b15",
      "execution_count": 5,
      "outputs": [
        {
          "output_type": "execute_result",
          "data": {
            "text/plain": [
              "        Unnamed: 0                  Player Runs Mins  BF 4s 6s     SR Inns  \\\n",
              "192342         186     SMH Kirmani (INDIA)   11   50  36  1  0  30.55    4   \n",
              "192343         187     N Kapil Dev (INDIA)    9   36  26  1  0  34.61    4   \n",
              "192344         188       RMH Binny (INDIA)  26*  111  86  2  0  30.23    4   \n",
              "192345         189      RJ Shastri (INDIA)   19   70  54  3  0  35.18    4   \n",
              "192346         190  B Yograj Singh (INDIA)    6   37  28  1  0  21.42    4   \n",
              "\n",
              "        Unnamed: 8          Opposition      Ground Start Date  \n",
              "192342         NaN  Test v New Zealand  Wellington  21-Feb-81  \n",
              "192343         NaN  Test v New Zealand  Wellington  21-Feb-81  \n",
              "192344         NaN  Test v New Zealand  Wellington  21-Feb-81  \n",
              "192345         NaN  Test v New Zealand  Wellington  21-Feb-81  \n",
              "192346         NaN  Test v New Zealand  Wellington  21-Feb-81  "
            ],
            "text/html": [
              "\n",
              "  <div id=\"df-5ec50364-91a7-4653-88ad-916f9632bd5a\">\n",
              "    <div class=\"colab-df-container\">\n",
              "      <div>\n",
              "<style scoped>\n",
              "    .dataframe tbody tr th:only-of-type {\n",
              "        vertical-align: middle;\n",
              "    }\n",
              "\n",
              "    .dataframe tbody tr th {\n",
              "        vertical-align: top;\n",
              "    }\n",
              "\n",
              "    .dataframe thead th {\n",
              "        text-align: right;\n",
              "    }\n",
              "</style>\n",
              "<table border=\"1\" class=\"dataframe\">\n",
              "  <thead>\n",
              "    <tr style=\"text-align: right;\">\n",
              "      <th></th>\n",
              "      <th>Unnamed: 0</th>\n",
              "      <th>Player</th>\n",
              "      <th>Runs</th>\n",
              "      <th>Mins</th>\n",
              "      <th>BF</th>\n",
              "      <th>4s</th>\n",
              "      <th>6s</th>\n",
              "      <th>SR</th>\n",
              "      <th>Inns</th>\n",
              "      <th>Unnamed: 8</th>\n",
              "      <th>Opposition</th>\n",
              "      <th>Ground</th>\n",
              "      <th>Start Date</th>\n",
              "    </tr>\n",
              "  </thead>\n",
              "  <tbody>\n",
              "    <tr>\n",
              "      <th>192342</th>\n",
              "      <td>186</td>\n",
              "      <td>SMH Kirmani (INDIA)</td>\n",
              "      <td>11</td>\n",
              "      <td>50</td>\n",
              "      <td>36</td>\n",
              "      <td>1</td>\n",
              "      <td>0</td>\n",
              "      <td>30.55</td>\n",
              "      <td>4</td>\n",
              "      <td>NaN</td>\n",
              "      <td>Test v New Zealand</td>\n",
              "      <td>Wellington</td>\n",
              "      <td>21-Feb-81</td>\n",
              "    </tr>\n",
              "    <tr>\n",
              "      <th>192343</th>\n",
              "      <td>187</td>\n",
              "      <td>N Kapil Dev (INDIA)</td>\n",
              "      <td>9</td>\n",
              "      <td>36</td>\n",
              "      <td>26</td>\n",
              "      <td>1</td>\n",
              "      <td>0</td>\n",
              "      <td>34.61</td>\n",
              "      <td>4</td>\n",
              "      <td>NaN</td>\n",
              "      <td>Test v New Zealand</td>\n",
              "      <td>Wellington</td>\n",
              "      <td>21-Feb-81</td>\n",
              "    </tr>\n",
              "    <tr>\n",
              "      <th>192344</th>\n",
              "      <td>188</td>\n",
              "      <td>RMH Binny (INDIA)</td>\n",
              "      <td>26*</td>\n",
              "      <td>111</td>\n",
              "      <td>86</td>\n",
              "      <td>2</td>\n",
              "      <td>0</td>\n",
              "      <td>30.23</td>\n",
              "      <td>4</td>\n",
              "      <td>NaN</td>\n",
              "      <td>Test v New Zealand</td>\n",
              "      <td>Wellington</td>\n",
              "      <td>21-Feb-81</td>\n",
              "    </tr>\n",
              "    <tr>\n",
              "      <th>192345</th>\n",
              "      <td>189</td>\n",
              "      <td>RJ Shastri (INDIA)</td>\n",
              "      <td>19</td>\n",
              "      <td>70</td>\n",
              "      <td>54</td>\n",
              "      <td>3</td>\n",
              "      <td>0</td>\n",
              "      <td>35.18</td>\n",
              "      <td>4</td>\n",
              "      <td>NaN</td>\n",
              "      <td>Test v New Zealand</td>\n",
              "      <td>Wellington</td>\n",
              "      <td>21-Feb-81</td>\n",
              "    </tr>\n",
              "    <tr>\n",
              "      <th>192346</th>\n",
              "      <td>190</td>\n",
              "      <td>B Yograj Singh (INDIA)</td>\n",
              "      <td>6</td>\n",
              "      <td>37</td>\n",
              "      <td>28</td>\n",
              "      <td>1</td>\n",
              "      <td>0</td>\n",
              "      <td>21.42</td>\n",
              "      <td>4</td>\n",
              "      <td>NaN</td>\n",
              "      <td>Test v New Zealand</td>\n",
              "      <td>Wellington</td>\n",
              "      <td>21-Feb-81</td>\n",
              "    </tr>\n",
              "  </tbody>\n",
              "</table>\n",
              "</div>\n",
              "      <button class=\"colab-df-convert\" onclick=\"convertToInteractive('df-5ec50364-91a7-4653-88ad-916f9632bd5a')\"\n",
              "              title=\"Convert this dataframe to an interactive table.\"\n",
              "              style=\"display:none;\">\n",
              "        \n",
              "  <svg xmlns=\"http://www.w3.org/2000/svg\" height=\"24px\"viewBox=\"0 0 24 24\"\n",
              "       width=\"24px\">\n",
              "    <path d=\"M0 0h24v24H0V0z\" fill=\"none\"/>\n",
              "    <path d=\"M18.56 5.44l.94 2.06.94-2.06 2.06-.94-2.06-.94-.94-2.06-.94 2.06-2.06.94zm-11 1L8.5 8.5l.94-2.06 2.06-.94-2.06-.94L8.5 2.5l-.94 2.06-2.06.94zm10 10l.94 2.06.94-2.06 2.06-.94-2.06-.94-.94-2.06-.94 2.06-2.06.94z\"/><path d=\"M17.41 7.96l-1.37-1.37c-.4-.4-.92-.59-1.43-.59-.52 0-1.04.2-1.43.59L10.3 9.45l-7.72 7.72c-.78.78-.78 2.05 0 2.83L4 21.41c.39.39.9.59 1.41.59.51 0 1.02-.2 1.41-.59l7.78-7.78 2.81-2.81c.8-.78.8-2.07 0-2.86zM5.41 20L4 18.59l7.72-7.72 1.47 1.35L5.41 20z\"/>\n",
              "  </svg>\n",
              "      </button>\n",
              "      \n",
              "  <style>\n",
              "    .colab-df-container {\n",
              "      display:flex;\n",
              "      flex-wrap:wrap;\n",
              "      gap: 12px;\n",
              "    }\n",
              "\n",
              "    .colab-df-convert {\n",
              "      background-color: #E8F0FE;\n",
              "      border: none;\n",
              "      border-radius: 50%;\n",
              "      cursor: pointer;\n",
              "      display: none;\n",
              "      fill: #1967D2;\n",
              "      height: 32px;\n",
              "      padding: 0 0 0 0;\n",
              "      width: 32px;\n",
              "    }\n",
              "\n",
              "    .colab-df-convert:hover {\n",
              "      background-color: #E2EBFA;\n",
              "      box-shadow: 0px 1px 2px rgba(60, 64, 67, 0.3), 0px 1px 3px 1px rgba(60, 64, 67, 0.15);\n",
              "      fill: #174EA6;\n",
              "    }\n",
              "\n",
              "    [theme=dark] .colab-df-convert {\n",
              "      background-color: #3B4455;\n",
              "      fill: #D2E3FC;\n",
              "    }\n",
              "\n",
              "    [theme=dark] .colab-df-convert:hover {\n",
              "      background-color: #434B5C;\n",
              "      box-shadow: 0px 1px 3px 1px rgba(0, 0, 0, 0.15);\n",
              "      filter: drop-shadow(0px 1px 2px rgba(0, 0, 0, 0.3));\n",
              "      fill: #FFFFFF;\n",
              "    }\n",
              "  </style>\n",
              "\n",
              "      <script>\n",
              "        const buttonEl =\n",
              "          document.querySelector('#df-5ec50364-91a7-4653-88ad-916f9632bd5a button.colab-df-convert');\n",
              "        buttonEl.style.display =\n",
              "          google.colab.kernel.accessAllowed ? 'block' : 'none';\n",
              "\n",
              "        async function convertToInteractive(key) {\n",
              "          const element = document.querySelector('#df-5ec50364-91a7-4653-88ad-916f9632bd5a');\n",
              "          const dataTable =\n",
              "            await google.colab.kernel.invokeFunction('convertToInteractive',\n",
              "                                                     [key], {});\n",
              "          if (!dataTable) return;\n",
              "\n",
              "          const docLinkHtml = 'Like what you see? Visit the ' +\n",
              "            '<a target=\"_blank\" href=https://colab.research.google.com/notebooks/data_table.ipynb>data table notebook</a>'\n",
              "            + ' to learn more about interactive tables.';\n",
              "          element.innerHTML = '';\n",
              "          dataTable['output_type'] = 'display_data';\n",
              "          await google.colab.output.renderOutput(dataTable, element);\n",
              "          const docLink = document.createElement('div');\n",
              "          docLink.innerHTML = docLinkHtml;\n",
              "          element.appendChild(docLink);\n",
              "        }\n",
              "      </script>\n",
              "    </div>\n",
              "  </div>\n",
              "  "
            ]
          },
          "metadata": {},
          "execution_count": 5
        }
      ]
    },
    {
      "cell_type": "markdown",
      "id": "67bf3d11",
      "metadata": {
        "papermill": {
          "duration": 0.037673,
          "end_time": "2022-07-07T16:30:11.323439",
          "exception": false,
          "start_time": "2022-07-07T16:30:11.285766",
          "status": "completed"
        },
        "tags": [],
        "id": "67bf3d11"
      },
      "source": [
        "## Description of data represented by the columns in the dataset:\n",
        "##### 1. Player (Team) - Name of the player and the team that the player represents\n",
        "##### 2. Runs - The runs scored by the player in the innings of that particular match\n",
        "##### 3. Mins - The number of minutes player was at the crease (ground )\n",
        "##### 4. BF - Number of balls faced by the Player during that innings\n",
        "##### 5. 4s - Number of fours hit by the player in that innings\n",
        "##### 6. 6s - Number of six hit by the player in that innings\n",
        "##### 7. SR - Strike Rate of the player in the corresponding innings. Strike rate is the number of runs scored per 100 balls faced.\n",
        "##### 8. Inns - The inning of the match in which the batsmen scored these runs. Test matches consist of 4 innings while ODI & T20I have 2 innings.\n",
        "##### 9. Opposition - This column mentions the format of the match (Test, ODI, T20I) and name of the Opponent Team.\n",
        "##### 10. Ground - Name of the ground/stadium where the match was played."
      ]
    },
    {
      "cell_type": "code",
      "execution_count": 6,
      "id": "ac45912c",
      "metadata": {
        "execution": {
          "iopub.execute_input": "2022-07-07T16:30:11.402498Z",
          "iopub.status.busy": "2022-07-07T16:30:11.401701Z",
          "iopub.status.idle": "2022-07-07T16:30:11.409733Z",
          "shell.execute_reply": "2022-07-07T16:30:11.408445Z"
        },
        "papermill": {
          "duration": 0.051182,
          "end_time": "2022-07-07T16:30:11.412358",
          "exception": false,
          "start_time": "2022-07-07T16:30:11.361176",
          "status": "completed"
        },
        "tags": [],
        "colab": {
          "base_uri": "https://localhost:8080/"
        },
        "id": "ac45912c",
        "outputId": "2289bf28-657b-4b19-b606-e90dbdf73a97"
      },
      "outputs": [
        {
          "output_type": "execute_result",
          "data": {
            "text/plain": [
              "(192347, 13)"
            ]
          },
          "metadata": {},
          "execution_count": 6
        }
      ],
      "source": [
        "# Checking the shape of the dataframe\n",
        "\n",
        "df.shape"
      ]
    },
    {
      "cell_type": "code",
      "execution_count": null,
      "id": "96fd7b58",
      "metadata": {
        "execution": {
          "iopub.execute_input": "2022-07-07T16:30:11.491238Z",
          "iopub.status.busy": "2022-07-07T16:30:11.490827Z",
          "iopub.status.idle": "2022-07-07T16:30:11.685084Z",
          "shell.execute_reply": "2022-07-07T16:30:11.683686Z"
        },
        "papermill": {
          "duration": 0.237519,
          "end_time": "2022-07-07T16:30:11.687746",
          "exception": false,
          "start_time": "2022-07-07T16:30:11.450227",
          "status": "completed"
        },
        "tags": [],
        "colab": {
          "base_uri": "https://localhost:8080/"
        },
        "id": "96fd7b58",
        "outputId": "4296219b-1745-4840-9989-3dec85bc89b0"
      },
      "outputs": [
        {
          "output_type": "execute_result",
          "data": {
            "text/plain": [
              "Unnamed: 0         0\n",
              "Player             0\n",
              "Runs               0\n",
              "Mins               0\n",
              "BF                 0\n",
              "4s                 0\n",
              "6s                 0\n",
              "SR                 0\n",
              "Inns               0\n",
              "Unnamed: 8    192347\n",
              "Opposition         0\n",
              "Ground             0\n",
              "Start Date         0\n",
              "dtype: int64"
            ]
          },
          "metadata": {},
          "execution_count": 13
        }
      ],
      "source": [
        "# Checking the total number of NULL values in each column\n",
        "\n",
        "df.isnull().sum()"
      ]
    },
    {
      "cell_type": "code",
      "execution_count": null,
      "id": "750847ab",
      "metadata": {
        "execution": {
          "iopub.execute_input": "2022-07-07T16:30:11.766974Z",
          "iopub.status.busy": "2022-07-07T16:30:11.765915Z",
          "iopub.status.idle": "2022-07-07T16:30:11.799733Z",
          "shell.execute_reply": "2022-07-07T16:30:11.798519Z"
        },
        "papermill": {
          "duration": 0.076801,
          "end_time": "2022-07-07T16:30:11.802546",
          "exception": false,
          "start_time": "2022-07-07T16:30:11.725745",
          "status": "completed"
        },
        "tags": [],
        "id": "750847ab"
      },
      "outputs": [],
      "source": [
        "# The aboove output shows that none of the columns, except \"Unnamed: 8\", has NULL values.\n",
        "# Infact \"Unnamed: 8\" column does not have any values.\n",
        "# So, dropping that column as it would not be helpful for any analysis."
      ]
    },
    {
      "cell_type": "code",
      "source": [
        "df.drop(labels=['Unnamed: 0','Unnamed: 8'],axis=1,inplace=True)"
      ],
      "metadata": {
        "id": "6pS9kRDJ_9pU"
      },
      "id": "6pS9kRDJ_9pU",
      "execution_count": 7,
      "outputs": []
    },
    {
      "cell_type": "code",
      "execution_count": 8,
      "id": "277f2ebb",
      "metadata": {
        "execution": {
          "iopub.execute_input": "2022-07-07T16:30:11.878761Z",
          "iopub.status.busy": "2022-07-07T16:30:11.877851Z",
          "iopub.status.idle": "2022-07-07T16:30:12.085971Z",
          "shell.execute_reply": "2022-07-07T16:30:12.084533Z"
        },
        "papermill": {
          "duration": 0.248736,
          "end_time": "2022-07-07T16:30:12.088483",
          "exception": false,
          "start_time": "2022-07-07T16:30:11.839747",
          "status": "completed"
        },
        "tags": [],
        "colab": {
          "base_uri": "https://localhost:8080/"
        },
        "id": "277f2ebb",
        "outputId": "6af74529-fca6-408d-bd02-f8f7cbba1889"
      },
      "outputs": [
        {
          "output_type": "execute_result",
          "data": {
            "text/plain": [
              "37"
            ]
          },
          "metadata": {},
          "execution_count": 8
        }
      ],
      "source": [
        "#Checking for number of duplicate values\n",
        "\n",
        "df.duplicated().sum()"
      ]
    },
    {
      "cell_type": "code",
      "execution_count": null,
      "id": "5c50c77c",
      "metadata": {
        "execution": {
          "iopub.execute_input": "2022-07-07T16:30:12.165564Z",
          "iopub.status.busy": "2022-07-07T16:30:12.165166Z",
          "iopub.status.idle": "2022-07-07T16:30:12.404248Z",
          "shell.execute_reply": "2022-07-07T16:30:12.402778Z"
        },
        "papermill": {
          "duration": 0.281266,
          "end_time": "2022-07-07T16:30:12.407137",
          "exception": false,
          "start_time": "2022-07-07T16:30:12.125871",
          "status": "completed"
        },
        "tags": [],
        "id": "5c50c77c"
      },
      "outputs": [],
      "source": [
        "# There are total 37 duplicate values in the data.\n",
        "# Dropping the duplicate values to avoid redundancy."
      ]
    },
    {
      "cell_type": "code",
      "source": [
        "df.drop_duplicates(inplace=True)"
      ],
      "metadata": {
        "id": "pbn02DpmAIKy"
      },
      "id": "pbn02DpmAIKy",
      "execution_count": 9,
      "outputs": []
    },
    {
      "cell_type": "code",
      "execution_count": 10,
      "id": "2563b889",
      "metadata": {
        "execution": {
          "iopub.execute_input": "2022-07-07T16:30:12.482820Z",
          "iopub.status.busy": "2022-07-07T16:30:12.482413Z",
          "iopub.status.idle": "2022-07-07T16:30:12.501801Z",
          "shell.execute_reply": "2022-07-07T16:30:12.500313Z"
        },
        "papermill": {
          "duration": 0.059804,
          "end_time": "2022-07-07T16:30:12.504122",
          "exception": false,
          "start_time": "2022-07-07T16:30:12.444318",
          "status": "completed"
        },
        "tags": [],
        "colab": {
          "base_uri": "https://localhost:8080/",
          "height": 206
        },
        "id": "2563b889",
        "outputId": "e2c3a408-7e42-4cf8-8e93-6e55c0536967"
      },
      "outputs": [
        {
          "output_type": "execute_result",
          "data": {
            "text/plain": [
              "               Player Runs Mins  BF 4s 6s     SR Inns      Opposition Ground  \\\n",
              "0     TWM Latham (NZ)    0    5   6  0  0      0    1  Test v England  Leeds   \n",
              "1       WA Young (NZ)   20   57  42  2  0  47.61    1  Test v England  Leeds   \n",
              "2  KS Williamson (NZ)   31   97  64  5  0  48.43    1  Test v England  Leeds   \n",
              "3      DP Conway (NZ)   26  100  62  5  0  41.93    1  Test v England  Leeds   \n",
              "4    HM Nicholls (NZ)   19  137  99  1  0  19.19    1  Test v England  Leeds   \n",
              "\n",
              "  Start Date  \n",
              "0  23-Jun-22  \n",
              "1  23-Jun-22  \n",
              "2  23-Jun-22  \n",
              "3  23-Jun-22  \n",
              "4  23-Jun-22  "
            ],
            "text/html": [
              "\n",
              "  <div id=\"df-ed717547-4faf-49b5-8ef7-5f1991e597d9\">\n",
              "    <div class=\"colab-df-container\">\n",
              "      <div>\n",
              "<style scoped>\n",
              "    .dataframe tbody tr th:only-of-type {\n",
              "        vertical-align: middle;\n",
              "    }\n",
              "\n",
              "    .dataframe tbody tr th {\n",
              "        vertical-align: top;\n",
              "    }\n",
              "\n",
              "    .dataframe thead th {\n",
              "        text-align: right;\n",
              "    }\n",
              "</style>\n",
              "<table border=\"1\" class=\"dataframe\">\n",
              "  <thead>\n",
              "    <tr style=\"text-align: right;\">\n",
              "      <th></th>\n",
              "      <th>Player</th>\n",
              "      <th>Runs</th>\n",
              "      <th>Mins</th>\n",
              "      <th>BF</th>\n",
              "      <th>4s</th>\n",
              "      <th>6s</th>\n",
              "      <th>SR</th>\n",
              "      <th>Inns</th>\n",
              "      <th>Opposition</th>\n",
              "      <th>Ground</th>\n",
              "      <th>Start Date</th>\n",
              "    </tr>\n",
              "  </thead>\n",
              "  <tbody>\n",
              "    <tr>\n",
              "      <th>0</th>\n",
              "      <td>TWM Latham (NZ)</td>\n",
              "      <td>0</td>\n",
              "      <td>5</td>\n",
              "      <td>6</td>\n",
              "      <td>0</td>\n",
              "      <td>0</td>\n",
              "      <td>0</td>\n",
              "      <td>1</td>\n",
              "      <td>Test v England</td>\n",
              "      <td>Leeds</td>\n",
              "      <td>23-Jun-22</td>\n",
              "    </tr>\n",
              "    <tr>\n",
              "      <th>1</th>\n",
              "      <td>WA Young (NZ)</td>\n",
              "      <td>20</td>\n",
              "      <td>57</td>\n",
              "      <td>42</td>\n",
              "      <td>2</td>\n",
              "      <td>0</td>\n",
              "      <td>47.61</td>\n",
              "      <td>1</td>\n",
              "      <td>Test v England</td>\n",
              "      <td>Leeds</td>\n",
              "      <td>23-Jun-22</td>\n",
              "    </tr>\n",
              "    <tr>\n",
              "      <th>2</th>\n",
              "      <td>KS Williamson (NZ)</td>\n",
              "      <td>31</td>\n",
              "      <td>97</td>\n",
              "      <td>64</td>\n",
              "      <td>5</td>\n",
              "      <td>0</td>\n",
              "      <td>48.43</td>\n",
              "      <td>1</td>\n",
              "      <td>Test v England</td>\n",
              "      <td>Leeds</td>\n",
              "      <td>23-Jun-22</td>\n",
              "    </tr>\n",
              "    <tr>\n",
              "      <th>3</th>\n",
              "      <td>DP Conway (NZ)</td>\n",
              "      <td>26</td>\n",
              "      <td>100</td>\n",
              "      <td>62</td>\n",
              "      <td>5</td>\n",
              "      <td>0</td>\n",
              "      <td>41.93</td>\n",
              "      <td>1</td>\n",
              "      <td>Test v England</td>\n",
              "      <td>Leeds</td>\n",
              "      <td>23-Jun-22</td>\n",
              "    </tr>\n",
              "    <tr>\n",
              "      <th>4</th>\n",
              "      <td>HM Nicholls (NZ)</td>\n",
              "      <td>19</td>\n",
              "      <td>137</td>\n",
              "      <td>99</td>\n",
              "      <td>1</td>\n",
              "      <td>0</td>\n",
              "      <td>19.19</td>\n",
              "      <td>1</td>\n",
              "      <td>Test v England</td>\n",
              "      <td>Leeds</td>\n",
              "      <td>23-Jun-22</td>\n",
              "    </tr>\n",
              "  </tbody>\n",
              "</table>\n",
              "</div>\n",
              "      <button class=\"colab-df-convert\" onclick=\"convertToInteractive('df-ed717547-4faf-49b5-8ef7-5f1991e597d9')\"\n",
              "              title=\"Convert this dataframe to an interactive table.\"\n",
              "              style=\"display:none;\">\n",
              "        \n",
              "  <svg xmlns=\"http://www.w3.org/2000/svg\" height=\"24px\"viewBox=\"0 0 24 24\"\n",
              "       width=\"24px\">\n",
              "    <path d=\"M0 0h24v24H0V0z\" fill=\"none\"/>\n",
              "    <path d=\"M18.56 5.44l.94 2.06.94-2.06 2.06-.94-2.06-.94-.94-2.06-.94 2.06-2.06.94zm-11 1L8.5 8.5l.94-2.06 2.06-.94-2.06-.94L8.5 2.5l-.94 2.06-2.06.94zm10 10l.94 2.06.94-2.06 2.06-.94-2.06-.94-.94-2.06-.94 2.06-2.06.94z\"/><path d=\"M17.41 7.96l-1.37-1.37c-.4-.4-.92-.59-1.43-.59-.52 0-1.04.2-1.43.59L10.3 9.45l-7.72 7.72c-.78.78-.78 2.05 0 2.83L4 21.41c.39.39.9.59 1.41.59.51 0 1.02-.2 1.41-.59l7.78-7.78 2.81-2.81c.8-.78.8-2.07 0-2.86zM5.41 20L4 18.59l7.72-7.72 1.47 1.35L5.41 20z\"/>\n",
              "  </svg>\n",
              "      </button>\n",
              "      \n",
              "  <style>\n",
              "    .colab-df-container {\n",
              "      display:flex;\n",
              "      flex-wrap:wrap;\n",
              "      gap: 12px;\n",
              "    }\n",
              "\n",
              "    .colab-df-convert {\n",
              "      background-color: #E8F0FE;\n",
              "      border: none;\n",
              "      border-radius: 50%;\n",
              "      cursor: pointer;\n",
              "      display: none;\n",
              "      fill: #1967D2;\n",
              "      height: 32px;\n",
              "      padding: 0 0 0 0;\n",
              "      width: 32px;\n",
              "    }\n",
              "\n",
              "    .colab-df-convert:hover {\n",
              "      background-color: #E2EBFA;\n",
              "      box-shadow: 0px 1px 2px rgba(60, 64, 67, 0.3), 0px 1px 3px 1px rgba(60, 64, 67, 0.15);\n",
              "      fill: #174EA6;\n",
              "    }\n",
              "\n",
              "    [theme=dark] .colab-df-convert {\n",
              "      background-color: #3B4455;\n",
              "      fill: #D2E3FC;\n",
              "    }\n",
              "\n",
              "    [theme=dark] .colab-df-convert:hover {\n",
              "      background-color: #434B5C;\n",
              "      box-shadow: 0px 1px 3px 1px rgba(0, 0, 0, 0.15);\n",
              "      filter: drop-shadow(0px 1px 2px rgba(0, 0, 0, 0.3));\n",
              "      fill: #FFFFFF;\n",
              "    }\n",
              "  </style>\n",
              "\n",
              "      <script>\n",
              "        const buttonEl =\n",
              "          document.querySelector('#df-ed717547-4faf-49b5-8ef7-5f1991e597d9 button.colab-df-convert');\n",
              "        buttonEl.style.display =\n",
              "          google.colab.kernel.accessAllowed ? 'block' : 'none';\n",
              "\n",
              "        async function convertToInteractive(key) {\n",
              "          const element = document.querySelector('#df-ed717547-4faf-49b5-8ef7-5f1991e597d9');\n",
              "          const dataTable =\n",
              "            await google.colab.kernel.invokeFunction('convertToInteractive',\n",
              "                                                     [key], {});\n",
              "          if (!dataTable) return;\n",
              "\n",
              "          const docLinkHtml = 'Like what you see? Visit the ' +\n",
              "            '<a target=\"_blank\" href=https://colab.research.google.com/notebooks/data_table.ipynb>data table notebook</a>'\n",
              "            + ' to learn more about interactive tables.';\n",
              "          element.innerHTML = '';\n",
              "          dataTable['output_type'] = 'display_data';\n",
              "          await google.colab.output.renderOutput(dataTable, element);\n",
              "          const docLink = document.createElement('div');\n",
              "          docLink.innerHTML = docLinkHtml;\n",
              "          element.appendChild(docLink);\n",
              "        }\n",
              "      </script>\n",
              "    </div>\n",
              "  </div>\n",
              "  "
            ]
          },
          "metadata": {},
          "execution_count": 10
        }
      ],
      "source": [
        "df.head(5)"
      ]
    },
    {
      "cell_type": "markdown",
      "id": "605aa1c2",
      "metadata": {
        "papermill": {
          "duration": 0.037352,
          "end_time": "2022-07-07T16:30:12.578673",
          "exception": false,
          "start_time": "2022-07-07T16:30:12.541321",
          "status": "completed"
        },
        "tags": [],
        "id": "605aa1c2"
      },
      "source": [
        "### The \"Player\" column has 2 values for each record - Player name and Team/Country.\n",
        "#### Extracting both the values in 2 separate columns.\n",
        "#### This would be helpful for better analysis."
      ]
    },
    {
      "cell_type": "code",
      "execution_count": 11,
      "id": "c58f766f",
      "metadata": {
        "execution": {
          "iopub.execute_input": "2022-07-07T16:30:12.654471Z",
          "iopub.status.busy": "2022-07-07T16:30:12.654077Z",
          "iopub.status.idle": "2022-07-07T16:30:12.668429Z",
          "shell.execute_reply": "2022-07-07T16:30:12.667227Z"
        },
        "papermill": {
          "duration": 0.054956,
          "end_time": "2022-07-07T16:30:12.670784",
          "exception": false,
          "start_time": "2022-07-07T16:30:12.615828",
          "status": "completed"
        },
        "tags": [],
        "colab": {
          "base_uri": "https://localhost:8080/"
        },
        "id": "c58f766f",
        "outputId": "220513ff-0842-4679-f876-aee28c0e8a05"
      },
      "outputs": [
        {
          "output_type": "execute_result",
          "data": {
            "text/plain": [
              "91134           I Sharma (INDIA)\n",
              "106270         LE Plunkett (ENG)\n",
              "56723           BMAJ Mendis (SL)\n",
              "127769           GP Thorpe (ENG)\n",
              "182193          Zakir Khan (PAK)\n",
              "33073     Mohammed Shami (INDIA)\n",
              "100248     Shakib Al Hasan (BAN)\n",
              "127280              M Ntini (SA)\n",
              "174314          MD Marshall (WI)\n",
              "Name: Player, dtype: object"
            ]
          },
          "metadata": {},
          "execution_count": 11
        }
      ],
      "source": [
        " df['Player'].sample(9)"
      ]
    },
    {
      "cell_type": "code",
      "execution_count": 12,
      "id": "2e21538c",
      "metadata": {
        "execution": {
          "iopub.execute_input": "2022-07-07T16:30:12.750491Z",
          "iopub.status.busy": "2022-07-07T16:30:12.750048Z",
          "iopub.status.idle": "2022-07-07T16:30:13.132493Z",
          "shell.execute_reply": "2022-07-07T16:30:13.131107Z"
        },
        "papermill": {
          "duration": 0.426387,
          "end_time": "2022-07-07T16:30:13.135297",
          "exception": false,
          "start_time": "2022-07-07T16:30:12.708910",
          "status": "completed"
        },
        "tags": [],
        "id": "2e21538c"
      },
      "outputs": [],
      "source": [
        "import re\n",
        "df['Player']=df['Player'].replace(to_replace='\\(\\d+\\)',value='',regex=True)"
      ]
    },
    {
      "cell_type": "code",
      "execution_count": 13,
      "id": "9ac9e75d",
      "metadata": {
        "execution": {
          "iopub.execute_input": "2022-07-07T16:30:13.213833Z",
          "iopub.status.busy": "2022-07-07T16:30:13.213413Z",
          "iopub.status.idle": "2022-07-07T16:30:13.223502Z",
          "shell.execute_reply": "2022-07-07T16:30:13.222264Z"
        },
        "papermill": {
          "duration": 0.052607,
          "end_time": "2022-07-07T16:30:13.225709",
          "exception": false,
          "start_time": "2022-07-07T16:30:13.173102",
          "status": "completed"
        },
        "tags": [],
        "colab": {
          "base_uri": "https://localhost:8080/"
        },
        "id": "9ac9e75d",
        "outputId": "effd506d-548a-42b7-89b3-5bff54e23002"
      },
      "outputs": [
        {
          "output_type": "execute_result",
          "data": {
            "text/plain": [
              "0                TWM Latham (NZ)\n",
              "1                  WA Young (NZ)\n",
              "2             KS Williamson (NZ)\n",
              "3                 DP Conway (NZ)\n",
              "4               HM Nicholls (NZ)\n",
              "                   ...          \n",
              "192342       SMH Kirmani (INDIA)\n",
              "192343       N Kapil Dev (INDIA)\n",
              "192344         RMH Binny (INDIA)\n",
              "192345        RJ Shastri (INDIA)\n",
              "192346    B Yograj Singh (INDIA)\n",
              "Name: Player, Length: 192310, dtype: object"
            ]
          },
          "metadata": {},
          "execution_count": 13
        }
      ],
      "source": [
        "df['Player']"
      ]
    },
    {
      "cell_type": "code",
      "execution_count": 14,
      "id": "9f540309",
      "metadata": {
        "execution": {
          "iopub.execute_input": "2022-07-07T16:30:13.303453Z",
          "iopub.status.busy": "2022-07-07T16:30:13.302968Z",
          "iopub.status.idle": "2022-07-07T16:30:13.684504Z",
          "shell.execute_reply": "2022-07-07T16:30:13.683139Z"
        },
        "papermill": {
          "duration": 0.424328,
          "end_time": "2022-07-07T16:30:13.687465",
          "exception": false,
          "start_time": "2022-07-07T16:30:13.263137",
          "status": "completed"
        },
        "tags": [],
        "id": "9f540309"
      },
      "outputs": [],
      "source": [
        "df['Player']=df['Player'].replace(to_replace='\\(\\d+\\)',value='',regex=True)"
      ]
    },
    {
      "cell_type": "code",
      "execution_count": 15,
      "id": "d5d36b38",
      "metadata": {
        "execution": {
          "iopub.execute_input": "2022-07-07T16:30:13.767134Z",
          "iopub.status.busy": "2022-07-07T16:30:13.766671Z",
          "iopub.status.idle": "2022-07-07T16:30:14.380098Z",
          "shell.execute_reply": "2022-07-07T16:30:14.378814Z"
        },
        "papermill": {
          "duration": 0.655996,
          "end_time": "2022-07-07T16:30:14.383042",
          "exception": false,
          "start_time": "2022-07-07T16:30:13.727046",
          "status": "completed"
        },
        "tags": [],
        "id": "d5d36b38"
      },
      "outputs": [],
      "source": [
        "df['Player_Name']=df['Player'].str.split('(',expand=True)[0]"
      ]
    },
    {
      "cell_type": "code",
      "execution_count": 16,
      "id": "d98a4684",
      "metadata": {
        "execution": {
          "iopub.execute_input": "2022-07-07T16:30:14.461504Z",
          "iopub.status.busy": "2022-07-07T16:30:14.461089Z",
          "iopub.status.idle": "2022-07-07T16:30:14.922342Z",
          "shell.execute_reply": "2022-07-07T16:30:14.920992Z"
        },
        "papermill": {
          "duration": 0.503318,
          "end_time": "2022-07-07T16:30:14.925084",
          "exception": false,
          "start_time": "2022-07-07T16:30:14.421766",
          "status": "completed"
        },
        "tags": [],
        "id": "d98a4684"
      },
      "outputs": [],
      "source": [
        "df['Team']=df['Player'].str.split('(',expand=True)[1]"
      ]
    },
    {
      "cell_type": "code",
      "execution_count": 17,
      "id": "0d87b36a",
      "metadata": {
        "execution": {
          "iopub.execute_input": "2022-07-07T16:30:15.002375Z",
          "iopub.status.busy": "2022-07-07T16:30:15.001989Z",
          "iopub.status.idle": "2022-07-07T16:30:15.611222Z",
          "shell.execute_reply": "2022-07-07T16:30:15.609759Z"
        },
        "papermill": {
          "duration": 0.651436,
          "end_time": "2022-07-07T16:30:15.614049",
          "exception": false,
          "start_time": "2022-07-07T16:30:14.962613",
          "status": "completed"
        },
        "tags": [],
        "id": "0d87b36a"
      },
      "outputs": [],
      "source": [
        "df['Team']=df['Team'].str.split(')',expand=True)[0]"
      ]
    },
    {
      "cell_type": "code",
      "execution_count": 18,
      "id": "ef3727bb",
      "metadata": {
        "execution": {
          "iopub.execute_input": "2022-07-07T16:30:15.694119Z",
          "iopub.status.busy": "2022-07-07T16:30:15.692980Z",
          "iopub.status.idle": "2022-07-07T16:30:15.807418Z",
          "shell.execute_reply": "2022-07-07T16:30:15.806019Z"
        },
        "papermill": {
          "duration": 0.15776,
          "end_time": "2022-07-07T16:30:15.810412",
          "exception": false,
          "start_time": "2022-07-07T16:30:15.652652",
          "status": "completed"
        },
        "tags": [],
        "id": "ef3727bb"
      },
      "outputs": [],
      "source": [
        "df['Player_Name']=df['Player_Name'].str.strip()"
      ]
    },
    {
      "cell_type": "code",
      "execution_count": 19,
      "id": "ade121d8",
      "metadata": {
        "execution": {
          "iopub.execute_input": "2022-07-07T16:30:15.890637Z",
          "iopub.status.busy": "2022-07-07T16:30:15.890232Z",
          "iopub.status.idle": "2022-07-07T16:30:16.013874Z",
          "shell.execute_reply": "2022-07-07T16:30:16.012514Z"
        },
        "papermill": {
          "duration": 0.167287,
          "end_time": "2022-07-07T16:30:16.016878",
          "exception": false,
          "start_time": "2022-07-07T16:30:15.849591",
          "status": "completed"
        },
        "tags": [],
        "id": "ade121d8"
      },
      "outputs": [],
      "source": [
        "# Now, dropping the \"Player\" column, as 2 separate columns have been created for the same data.\n",
        "\n",
        "df.drop(labels='Player',axis=1,inplace=True)"
      ]
    },
    {
      "cell_type": "code",
      "execution_count": 20,
      "id": "f9e0435a",
      "metadata": {
        "execution": {
          "iopub.execute_input": "2022-07-07T16:30:16.096674Z",
          "iopub.status.busy": "2022-07-07T16:30:16.096253Z",
          "iopub.status.idle": "2022-07-07T16:30:16.116425Z",
          "shell.execute_reply": "2022-07-07T16:30:16.114717Z"
        },
        "papermill": {
          "duration": 0.062713,
          "end_time": "2022-07-07T16:30:16.118916",
          "exception": false,
          "start_time": "2022-07-07T16:30:16.056203",
          "status": "completed"
        },
        "tags": [],
        "colab": {
          "base_uri": "https://localhost:8080/",
          "height": 112
        },
        "id": "f9e0435a",
        "outputId": "6da53aa4-28b8-4a8a-9ee7-489416510c7f"
      },
      "outputs": [
        {
          "output_type": "execute_result",
          "data": {
            "text/plain": [
              "  Runs Mins  BF 4s 6s     SR Inns      Opposition Ground Start Date  \\\n",
              "0    0    5   6  0  0      0    1  Test v England  Leeds  23-Jun-22   \n",
              "1   20   57  42  2  0  47.61    1  Test v England  Leeds  23-Jun-22   \n",
              "\n",
              "  Player_Name Team  \n",
              "0  TWM Latham   NZ  \n",
              "1    WA Young   NZ  "
            ],
            "text/html": [
              "\n",
              "  <div id=\"df-b82aaf07-8a25-4009-953c-8b8a52e690ba\">\n",
              "    <div class=\"colab-df-container\">\n",
              "      <div>\n",
              "<style scoped>\n",
              "    .dataframe tbody tr th:only-of-type {\n",
              "        vertical-align: middle;\n",
              "    }\n",
              "\n",
              "    .dataframe tbody tr th {\n",
              "        vertical-align: top;\n",
              "    }\n",
              "\n",
              "    .dataframe thead th {\n",
              "        text-align: right;\n",
              "    }\n",
              "</style>\n",
              "<table border=\"1\" class=\"dataframe\">\n",
              "  <thead>\n",
              "    <tr style=\"text-align: right;\">\n",
              "      <th></th>\n",
              "      <th>Runs</th>\n",
              "      <th>Mins</th>\n",
              "      <th>BF</th>\n",
              "      <th>4s</th>\n",
              "      <th>6s</th>\n",
              "      <th>SR</th>\n",
              "      <th>Inns</th>\n",
              "      <th>Opposition</th>\n",
              "      <th>Ground</th>\n",
              "      <th>Start Date</th>\n",
              "      <th>Player_Name</th>\n",
              "      <th>Team</th>\n",
              "    </tr>\n",
              "  </thead>\n",
              "  <tbody>\n",
              "    <tr>\n",
              "      <th>0</th>\n",
              "      <td>0</td>\n",
              "      <td>5</td>\n",
              "      <td>6</td>\n",
              "      <td>0</td>\n",
              "      <td>0</td>\n",
              "      <td>0</td>\n",
              "      <td>1</td>\n",
              "      <td>Test v England</td>\n",
              "      <td>Leeds</td>\n",
              "      <td>23-Jun-22</td>\n",
              "      <td>TWM Latham</td>\n",
              "      <td>NZ</td>\n",
              "    </tr>\n",
              "    <tr>\n",
              "      <th>1</th>\n",
              "      <td>20</td>\n",
              "      <td>57</td>\n",
              "      <td>42</td>\n",
              "      <td>2</td>\n",
              "      <td>0</td>\n",
              "      <td>47.61</td>\n",
              "      <td>1</td>\n",
              "      <td>Test v England</td>\n",
              "      <td>Leeds</td>\n",
              "      <td>23-Jun-22</td>\n",
              "      <td>WA Young</td>\n",
              "      <td>NZ</td>\n",
              "    </tr>\n",
              "  </tbody>\n",
              "</table>\n",
              "</div>\n",
              "      <button class=\"colab-df-convert\" onclick=\"convertToInteractive('df-b82aaf07-8a25-4009-953c-8b8a52e690ba')\"\n",
              "              title=\"Convert this dataframe to an interactive table.\"\n",
              "              style=\"display:none;\">\n",
              "        \n",
              "  <svg xmlns=\"http://www.w3.org/2000/svg\" height=\"24px\"viewBox=\"0 0 24 24\"\n",
              "       width=\"24px\">\n",
              "    <path d=\"M0 0h24v24H0V0z\" fill=\"none\"/>\n",
              "    <path d=\"M18.56 5.44l.94 2.06.94-2.06 2.06-.94-2.06-.94-.94-2.06-.94 2.06-2.06.94zm-11 1L8.5 8.5l.94-2.06 2.06-.94-2.06-.94L8.5 2.5l-.94 2.06-2.06.94zm10 10l.94 2.06.94-2.06 2.06-.94-2.06-.94-.94-2.06-.94 2.06-2.06.94z\"/><path d=\"M17.41 7.96l-1.37-1.37c-.4-.4-.92-.59-1.43-.59-.52 0-1.04.2-1.43.59L10.3 9.45l-7.72 7.72c-.78.78-.78 2.05 0 2.83L4 21.41c.39.39.9.59 1.41.59.51 0 1.02-.2 1.41-.59l7.78-7.78 2.81-2.81c.8-.78.8-2.07 0-2.86zM5.41 20L4 18.59l7.72-7.72 1.47 1.35L5.41 20z\"/>\n",
              "  </svg>\n",
              "      </button>\n",
              "      \n",
              "  <style>\n",
              "    .colab-df-container {\n",
              "      display:flex;\n",
              "      flex-wrap:wrap;\n",
              "      gap: 12px;\n",
              "    }\n",
              "\n",
              "    .colab-df-convert {\n",
              "      background-color: #E8F0FE;\n",
              "      border: none;\n",
              "      border-radius: 50%;\n",
              "      cursor: pointer;\n",
              "      display: none;\n",
              "      fill: #1967D2;\n",
              "      height: 32px;\n",
              "      padding: 0 0 0 0;\n",
              "      width: 32px;\n",
              "    }\n",
              "\n",
              "    .colab-df-convert:hover {\n",
              "      background-color: #E2EBFA;\n",
              "      box-shadow: 0px 1px 2px rgba(60, 64, 67, 0.3), 0px 1px 3px 1px rgba(60, 64, 67, 0.15);\n",
              "      fill: #174EA6;\n",
              "    }\n",
              "\n",
              "    [theme=dark] .colab-df-convert {\n",
              "      background-color: #3B4455;\n",
              "      fill: #D2E3FC;\n",
              "    }\n",
              "\n",
              "    [theme=dark] .colab-df-convert:hover {\n",
              "      background-color: #434B5C;\n",
              "      box-shadow: 0px 1px 3px 1px rgba(0, 0, 0, 0.15);\n",
              "      filter: drop-shadow(0px 1px 2px rgba(0, 0, 0, 0.3));\n",
              "      fill: #FFFFFF;\n",
              "    }\n",
              "  </style>\n",
              "\n",
              "      <script>\n",
              "        const buttonEl =\n",
              "          document.querySelector('#df-b82aaf07-8a25-4009-953c-8b8a52e690ba button.colab-df-convert');\n",
              "        buttonEl.style.display =\n",
              "          google.colab.kernel.accessAllowed ? 'block' : 'none';\n",
              "\n",
              "        async function convertToInteractive(key) {\n",
              "          const element = document.querySelector('#df-b82aaf07-8a25-4009-953c-8b8a52e690ba');\n",
              "          const dataTable =\n",
              "            await google.colab.kernel.invokeFunction('convertToInteractive',\n",
              "                                                     [key], {});\n",
              "          if (!dataTable) return;\n",
              "\n",
              "          const docLinkHtml = 'Like what you see? Visit the ' +\n",
              "            '<a target=\"_blank\" href=https://colab.research.google.com/notebooks/data_table.ipynb>data table notebook</a>'\n",
              "            + ' to learn more about interactive tables.';\n",
              "          element.innerHTML = '';\n",
              "          dataTable['output_type'] = 'display_data';\n",
              "          await google.colab.output.renderOutput(dataTable, element);\n",
              "          const docLink = document.createElement('div');\n",
              "          docLink.innerHTML = docLinkHtml;\n",
              "          element.appendChild(docLink);\n",
              "        }\n",
              "      </script>\n",
              "    </div>\n",
              "  </div>\n",
              "  "
            ]
          },
          "metadata": {},
          "execution_count": 20
        }
      ],
      "source": [
        "df.head(2)"
      ]
    },
    {
      "cell_type": "markdown",
      "id": "7401fb3e",
      "metadata": {
        "papermill": {
          "duration": 0.038965,
          "end_time": "2022-07-07T16:30:16.196221",
          "exception": false,
          "start_time": "2022-07-07T16:30:16.157256",
          "status": "completed"
        },
        "tags": [],
        "id": "7401fb3e"
      },
      "source": [
        "Now analysing the \"Runs\" column of the dataset to represent its data in a clear way."
      ]
    },
    {
      "cell_type": "code",
      "execution_count": 23,
      "id": "e1bcda8b",
      "metadata": {
        "execution": {
          "iopub.execute_input": "2022-07-07T16:30:16.274460Z",
          "iopub.status.busy": "2022-07-07T16:30:16.274084Z",
          "iopub.status.idle": "2022-07-07T16:30:16.285806Z",
          "shell.execute_reply": "2022-07-07T16:30:16.284814Z"
        },
        "papermill": {
          "duration": 0.053941,
          "end_time": "2022-07-07T16:30:16.288036",
          "exception": false,
          "start_time": "2022-07-07T16:30:16.234095",
          "status": "completed"
        },
        "tags": [],
        "colab": {
          "base_uri": "https://localhost:8080/"
        },
        "id": "e1bcda8b",
        "outputId": "be355ef7-bb13-4239-e329-5f7f0e48d488"
      },
      "outputs": [
        {
          "output_type": "execute_result",
          "data": {
            "text/plain": [
              "7189       24\n",
              "114736     77\n",
              "56513      44\n",
              "122707     33\n",
              "72545       0\n",
              "65444      10\n",
              "19581       6\n",
              "187143    DNB\n",
              "163876      2\n",
              "80805       2\n",
              "Name: Runs, dtype: object"
            ]
          },
          "metadata": {},
          "execution_count": 23
        }
      ],
      "source": [
        "df['Runs'].sample(10)"
      ]
    },
    {
      "cell_type": "markdown",
      "source": [
        "If value in the \"Runs\" column is followed by \"*\" - this means that the batsmen was Not Out in that innings. </br>\n"
      ],
      "metadata": {
        "id": "vT6y0qe5BGyv"
      },
      "id": "vT6y0qe5BGyv"
    },
    {
      "cell_type": "code",
      "execution_count": 24,
      "id": "354dc52c",
      "metadata": {
        "execution": {
          "iopub.execute_input": "2022-07-07T16:30:16.368021Z",
          "iopub.status.busy": "2022-07-07T16:30:16.367351Z",
          "iopub.status.idle": "2022-07-07T16:30:16.415081Z",
          "shell.execute_reply": "2022-07-07T16:30:16.414126Z"
        },
        "papermill": {
          "duration": 0.090992,
          "end_time": "2022-07-07T16:30:16.417621",
          "exception": false,
          "start_time": "2022-07-07T16:30:16.326629",
          "status": "completed"
        },
        "tags": [],
        "id": "354dc52c"
      },
      "outputs": [],
      "source": [
        "df['wicket']=['not out' if '*' in i else 'out' for i in df.Runs]"
      ]
    },
    {
      "cell_type": "code",
      "execution_count": 25,
      "id": "d1ef909f",
      "metadata": {
        "execution": {
          "iopub.execute_input": "2022-07-07T16:30:16.495077Z",
          "iopub.status.busy": "2022-07-07T16:30:16.494636Z",
          "iopub.status.idle": "2022-07-07T16:30:16.512798Z",
          "shell.execute_reply": "2022-07-07T16:30:16.511952Z"
        },
        "papermill": {
          "duration": 0.059512,
          "end_time": "2022-07-07T16:30:16.514782",
          "exception": false,
          "start_time": "2022-07-07T16:30:16.455270",
          "status": "completed"
        },
        "tags": [],
        "colab": {
          "base_uri": "https://localhost:8080/",
          "height": 112
        },
        "id": "d1ef909f",
        "outputId": "35074fe4-3e85-474e-cb14-fd683a3c621b"
      },
      "outputs": [
        {
          "output_type": "execute_result",
          "data": {
            "text/plain": [
              "  Runs Mins  BF 4s 6s     SR Inns      Opposition Ground Start Date  \\\n",
              "0    0    5   6  0  0      0    1  Test v England  Leeds  23-Jun-22   \n",
              "1   20   57  42  2  0  47.61    1  Test v England  Leeds  23-Jun-22   \n",
              "\n",
              "  Player_Name Team wicket  \n",
              "0  TWM Latham   NZ    out  \n",
              "1    WA Young   NZ    out  "
            ],
            "text/html": [
              "\n",
              "  <div id=\"df-b9b7cf61-2890-446d-8c0d-4c337193e950\">\n",
              "    <div class=\"colab-df-container\">\n",
              "      <div>\n",
              "<style scoped>\n",
              "    .dataframe tbody tr th:only-of-type {\n",
              "        vertical-align: middle;\n",
              "    }\n",
              "\n",
              "    .dataframe tbody tr th {\n",
              "        vertical-align: top;\n",
              "    }\n",
              "\n",
              "    .dataframe thead th {\n",
              "        text-align: right;\n",
              "    }\n",
              "</style>\n",
              "<table border=\"1\" class=\"dataframe\">\n",
              "  <thead>\n",
              "    <tr style=\"text-align: right;\">\n",
              "      <th></th>\n",
              "      <th>Runs</th>\n",
              "      <th>Mins</th>\n",
              "      <th>BF</th>\n",
              "      <th>4s</th>\n",
              "      <th>6s</th>\n",
              "      <th>SR</th>\n",
              "      <th>Inns</th>\n",
              "      <th>Opposition</th>\n",
              "      <th>Ground</th>\n",
              "      <th>Start Date</th>\n",
              "      <th>Player_Name</th>\n",
              "      <th>Team</th>\n",
              "      <th>wicket</th>\n",
              "    </tr>\n",
              "  </thead>\n",
              "  <tbody>\n",
              "    <tr>\n",
              "      <th>0</th>\n",
              "      <td>0</td>\n",
              "      <td>5</td>\n",
              "      <td>6</td>\n",
              "      <td>0</td>\n",
              "      <td>0</td>\n",
              "      <td>0</td>\n",
              "      <td>1</td>\n",
              "      <td>Test v England</td>\n",
              "      <td>Leeds</td>\n",
              "      <td>23-Jun-22</td>\n",
              "      <td>TWM Latham</td>\n",
              "      <td>NZ</td>\n",
              "      <td>out</td>\n",
              "    </tr>\n",
              "    <tr>\n",
              "      <th>1</th>\n",
              "      <td>20</td>\n",
              "      <td>57</td>\n",
              "      <td>42</td>\n",
              "      <td>2</td>\n",
              "      <td>0</td>\n",
              "      <td>47.61</td>\n",
              "      <td>1</td>\n",
              "      <td>Test v England</td>\n",
              "      <td>Leeds</td>\n",
              "      <td>23-Jun-22</td>\n",
              "      <td>WA Young</td>\n",
              "      <td>NZ</td>\n",
              "      <td>out</td>\n",
              "    </tr>\n",
              "  </tbody>\n",
              "</table>\n",
              "</div>\n",
              "      <button class=\"colab-df-convert\" onclick=\"convertToInteractive('df-b9b7cf61-2890-446d-8c0d-4c337193e950')\"\n",
              "              title=\"Convert this dataframe to an interactive table.\"\n",
              "              style=\"display:none;\">\n",
              "        \n",
              "  <svg xmlns=\"http://www.w3.org/2000/svg\" height=\"24px\"viewBox=\"0 0 24 24\"\n",
              "       width=\"24px\">\n",
              "    <path d=\"M0 0h24v24H0V0z\" fill=\"none\"/>\n",
              "    <path d=\"M18.56 5.44l.94 2.06.94-2.06 2.06-.94-2.06-.94-.94-2.06-.94 2.06-2.06.94zm-11 1L8.5 8.5l.94-2.06 2.06-.94-2.06-.94L8.5 2.5l-.94 2.06-2.06.94zm10 10l.94 2.06.94-2.06 2.06-.94-2.06-.94-.94-2.06-.94 2.06-2.06.94z\"/><path d=\"M17.41 7.96l-1.37-1.37c-.4-.4-.92-.59-1.43-.59-.52 0-1.04.2-1.43.59L10.3 9.45l-7.72 7.72c-.78.78-.78 2.05 0 2.83L4 21.41c.39.39.9.59 1.41.59.51 0 1.02-.2 1.41-.59l7.78-7.78 2.81-2.81c.8-.78.8-2.07 0-2.86zM5.41 20L4 18.59l7.72-7.72 1.47 1.35L5.41 20z\"/>\n",
              "  </svg>\n",
              "      </button>\n",
              "      \n",
              "  <style>\n",
              "    .colab-df-container {\n",
              "      display:flex;\n",
              "      flex-wrap:wrap;\n",
              "      gap: 12px;\n",
              "    }\n",
              "\n",
              "    .colab-df-convert {\n",
              "      background-color: #E8F0FE;\n",
              "      border: none;\n",
              "      border-radius: 50%;\n",
              "      cursor: pointer;\n",
              "      display: none;\n",
              "      fill: #1967D2;\n",
              "      height: 32px;\n",
              "      padding: 0 0 0 0;\n",
              "      width: 32px;\n",
              "    }\n",
              "\n",
              "    .colab-df-convert:hover {\n",
              "      background-color: #E2EBFA;\n",
              "      box-shadow: 0px 1px 2px rgba(60, 64, 67, 0.3), 0px 1px 3px 1px rgba(60, 64, 67, 0.15);\n",
              "      fill: #174EA6;\n",
              "    }\n",
              "\n",
              "    [theme=dark] .colab-df-convert {\n",
              "      background-color: #3B4455;\n",
              "      fill: #D2E3FC;\n",
              "    }\n",
              "\n",
              "    [theme=dark] .colab-df-convert:hover {\n",
              "      background-color: #434B5C;\n",
              "      box-shadow: 0px 1px 3px 1px rgba(0, 0, 0, 0.15);\n",
              "      filter: drop-shadow(0px 1px 2px rgba(0, 0, 0, 0.3));\n",
              "      fill: #FFFFFF;\n",
              "    }\n",
              "  </style>\n",
              "\n",
              "      <script>\n",
              "        const buttonEl =\n",
              "          document.querySelector('#df-b9b7cf61-2890-446d-8c0d-4c337193e950 button.colab-df-convert');\n",
              "        buttonEl.style.display =\n",
              "          google.colab.kernel.accessAllowed ? 'block' : 'none';\n",
              "\n",
              "        async function convertToInteractive(key) {\n",
              "          const element = document.querySelector('#df-b9b7cf61-2890-446d-8c0d-4c337193e950');\n",
              "          const dataTable =\n",
              "            await google.colab.kernel.invokeFunction('convertToInteractive',\n",
              "                                                     [key], {});\n",
              "          if (!dataTable) return;\n",
              "\n",
              "          const docLinkHtml = 'Like what you see? Visit the ' +\n",
              "            '<a target=\"_blank\" href=https://colab.research.google.com/notebooks/data_table.ipynb>data table notebook</a>'\n",
              "            + ' to learn more about interactive tables.';\n",
              "          element.innerHTML = '';\n",
              "          dataTable['output_type'] = 'display_data';\n",
              "          await google.colab.output.renderOutput(dataTable, element);\n",
              "          const docLink = document.createElement('div');\n",
              "          docLink.innerHTML = docLinkHtml;\n",
              "          element.appendChild(docLink);\n",
              "        }\n",
              "      </script>\n",
              "    </div>\n",
              "  </div>\n",
              "  "
            ]
          },
          "metadata": {},
          "execution_count": 25
        }
      ],
      "source": [
        "df.head(2)"
      ]
    },
    {
      "cell_type": "code",
      "execution_count": 26,
      "id": "873d5e60",
      "metadata": {
        "execution": {
          "iopub.execute_input": "2022-07-07T16:30:16.592819Z",
          "iopub.status.busy": "2022-07-07T16:30:16.592143Z",
          "iopub.status.idle": "2022-07-07T16:30:16.708901Z",
          "shell.execute_reply": "2022-07-07T16:30:16.707605Z"
        },
        "papermill": {
          "duration": 0.158574,
          "end_time": "2022-07-07T16:30:16.711342",
          "exception": false,
          "start_time": "2022-07-07T16:30:16.552768",
          "status": "completed"
        },
        "tags": [],
        "id": "873d5e60"
      },
      "outputs": [],
      "source": [
        "df['Runs']=df['Runs'].str.replace('*',' ')"
      ]
    },
    {
      "cell_type": "code",
      "execution_count": 27,
      "id": "6e52aac0",
      "metadata": {
        "execution": {
          "iopub.execute_input": "2022-07-07T16:30:16.790851Z",
          "iopub.status.busy": "2022-07-07T16:30:16.790447Z",
          "iopub.status.idle": "2022-07-07T16:30:16.884311Z",
          "shell.execute_reply": "2022-07-07T16:30:16.882997Z"
        },
        "papermill": {
          "duration": 0.137301,
          "end_time": "2022-07-07T16:30:16.887097",
          "exception": false,
          "start_time": "2022-07-07T16:30:16.749796",
          "status": "completed"
        },
        "tags": [],
        "id": "6e52aac0"
      },
      "outputs": [],
      "source": [
        "df['Runs']=df['Runs'].str.strip()"
      ]
    },
    {
      "cell_type": "code",
      "execution_count": 28,
      "id": "d5618b47",
      "metadata": {
        "execution": {
          "iopub.execute_input": "2022-07-07T16:30:16.969519Z",
          "iopub.status.busy": "2022-07-07T16:30:16.968794Z",
          "iopub.status.idle": "2022-07-07T16:30:17.020309Z",
          "shell.execute_reply": "2022-07-07T16:30:17.019329Z"
        },
        "papermill": {
          "duration": 0.095016,
          "end_time": "2022-07-07T16:30:17.022874",
          "exception": false,
          "start_time": "2022-07-07T16:30:16.927858",
          "status": "completed"
        },
        "tags": [],
        "id": "d5618b47"
      },
      "outputs": [],
      "source": [
        "df['Score']=['runs' if i.isdigit() else i for  i in df.Runs]"
      ]
    },
    {
      "cell_type": "code",
      "execution_count": 29,
      "id": "3abf2e7b",
      "metadata": {
        "execution": {
          "iopub.execute_input": "2022-07-07T16:30:17.102434Z",
          "iopub.status.busy": "2022-07-07T16:30:17.102007Z",
          "iopub.status.idle": "2022-07-07T16:30:17.125657Z",
          "shell.execute_reply": "2022-07-07T16:30:17.124287Z"
        },
        "papermill": {
          "duration": 0.066067,
          "end_time": "2022-07-07T16:30:17.128110",
          "exception": false,
          "start_time": "2022-07-07T16:30:17.062043",
          "status": "completed"
        },
        "tags": [],
        "colab": {
          "base_uri": "https://localhost:8080/",
          "height": 112
        },
        "id": "3abf2e7b",
        "outputId": "db66e103-3c73-4c59-fb59-addea1eb9016"
      },
      "outputs": [
        {
          "output_type": "execute_result",
          "data": {
            "text/plain": [
              "  Runs Mins  BF 4s 6s     SR Inns      Opposition Ground Start Date  \\\n",
              "0    0    5   6  0  0      0    1  Test v England  Leeds  23-Jun-22   \n",
              "1   20   57  42  2  0  47.61    1  Test v England  Leeds  23-Jun-22   \n",
              "\n",
              "  Player_Name Team wicket Score  \n",
              "0  TWM Latham   NZ    out  runs  \n",
              "1    WA Young   NZ    out  runs  "
            ],
            "text/html": [
              "\n",
              "  <div id=\"df-fa2cb03f-6f5b-4b58-8a3c-75e9f6c2d0d2\">\n",
              "    <div class=\"colab-df-container\">\n",
              "      <div>\n",
              "<style scoped>\n",
              "    .dataframe tbody tr th:only-of-type {\n",
              "        vertical-align: middle;\n",
              "    }\n",
              "\n",
              "    .dataframe tbody tr th {\n",
              "        vertical-align: top;\n",
              "    }\n",
              "\n",
              "    .dataframe thead th {\n",
              "        text-align: right;\n",
              "    }\n",
              "</style>\n",
              "<table border=\"1\" class=\"dataframe\">\n",
              "  <thead>\n",
              "    <tr style=\"text-align: right;\">\n",
              "      <th></th>\n",
              "      <th>Runs</th>\n",
              "      <th>Mins</th>\n",
              "      <th>BF</th>\n",
              "      <th>4s</th>\n",
              "      <th>6s</th>\n",
              "      <th>SR</th>\n",
              "      <th>Inns</th>\n",
              "      <th>Opposition</th>\n",
              "      <th>Ground</th>\n",
              "      <th>Start Date</th>\n",
              "      <th>Player_Name</th>\n",
              "      <th>Team</th>\n",
              "      <th>wicket</th>\n",
              "      <th>Score</th>\n",
              "    </tr>\n",
              "  </thead>\n",
              "  <tbody>\n",
              "    <tr>\n",
              "      <th>0</th>\n",
              "      <td>0</td>\n",
              "      <td>5</td>\n",
              "      <td>6</td>\n",
              "      <td>0</td>\n",
              "      <td>0</td>\n",
              "      <td>0</td>\n",
              "      <td>1</td>\n",
              "      <td>Test v England</td>\n",
              "      <td>Leeds</td>\n",
              "      <td>23-Jun-22</td>\n",
              "      <td>TWM Latham</td>\n",
              "      <td>NZ</td>\n",
              "      <td>out</td>\n",
              "      <td>runs</td>\n",
              "    </tr>\n",
              "    <tr>\n",
              "      <th>1</th>\n",
              "      <td>20</td>\n",
              "      <td>57</td>\n",
              "      <td>42</td>\n",
              "      <td>2</td>\n",
              "      <td>0</td>\n",
              "      <td>47.61</td>\n",
              "      <td>1</td>\n",
              "      <td>Test v England</td>\n",
              "      <td>Leeds</td>\n",
              "      <td>23-Jun-22</td>\n",
              "      <td>WA Young</td>\n",
              "      <td>NZ</td>\n",
              "      <td>out</td>\n",
              "      <td>runs</td>\n",
              "    </tr>\n",
              "  </tbody>\n",
              "</table>\n",
              "</div>\n",
              "      <button class=\"colab-df-convert\" onclick=\"convertToInteractive('df-fa2cb03f-6f5b-4b58-8a3c-75e9f6c2d0d2')\"\n",
              "              title=\"Convert this dataframe to an interactive table.\"\n",
              "              style=\"display:none;\">\n",
              "        \n",
              "  <svg xmlns=\"http://www.w3.org/2000/svg\" height=\"24px\"viewBox=\"0 0 24 24\"\n",
              "       width=\"24px\">\n",
              "    <path d=\"M0 0h24v24H0V0z\" fill=\"none\"/>\n",
              "    <path d=\"M18.56 5.44l.94 2.06.94-2.06 2.06-.94-2.06-.94-.94-2.06-.94 2.06-2.06.94zm-11 1L8.5 8.5l.94-2.06 2.06-.94-2.06-.94L8.5 2.5l-.94 2.06-2.06.94zm10 10l.94 2.06.94-2.06 2.06-.94-2.06-.94-.94-2.06-.94 2.06-2.06.94z\"/><path d=\"M17.41 7.96l-1.37-1.37c-.4-.4-.92-.59-1.43-.59-.52 0-1.04.2-1.43.59L10.3 9.45l-7.72 7.72c-.78.78-.78 2.05 0 2.83L4 21.41c.39.39.9.59 1.41.59.51 0 1.02-.2 1.41-.59l7.78-7.78 2.81-2.81c.8-.78.8-2.07 0-2.86zM5.41 20L4 18.59l7.72-7.72 1.47 1.35L5.41 20z\"/>\n",
              "  </svg>\n",
              "      </button>\n",
              "      \n",
              "  <style>\n",
              "    .colab-df-container {\n",
              "      display:flex;\n",
              "      flex-wrap:wrap;\n",
              "      gap: 12px;\n",
              "    }\n",
              "\n",
              "    .colab-df-convert {\n",
              "      background-color: #E8F0FE;\n",
              "      border: none;\n",
              "      border-radius: 50%;\n",
              "      cursor: pointer;\n",
              "      display: none;\n",
              "      fill: #1967D2;\n",
              "      height: 32px;\n",
              "      padding: 0 0 0 0;\n",
              "      width: 32px;\n",
              "    }\n",
              "\n",
              "    .colab-df-convert:hover {\n",
              "      background-color: #E2EBFA;\n",
              "      box-shadow: 0px 1px 2px rgba(60, 64, 67, 0.3), 0px 1px 3px 1px rgba(60, 64, 67, 0.15);\n",
              "      fill: #174EA6;\n",
              "    }\n",
              "\n",
              "    [theme=dark] .colab-df-convert {\n",
              "      background-color: #3B4455;\n",
              "      fill: #D2E3FC;\n",
              "    }\n",
              "\n",
              "    [theme=dark] .colab-df-convert:hover {\n",
              "      background-color: #434B5C;\n",
              "      box-shadow: 0px 1px 3px 1px rgba(0, 0, 0, 0.15);\n",
              "      filter: drop-shadow(0px 1px 2px rgba(0, 0, 0, 0.3));\n",
              "      fill: #FFFFFF;\n",
              "    }\n",
              "  </style>\n",
              "\n",
              "      <script>\n",
              "        const buttonEl =\n",
              "          document.querySelector('#df-fa2cb03f-6f5b-4b58-8a3c-75e9f6c2d0d2 button.colab-df-convert');\n",
              "        buttonEl.style.display =\n",
              "          google.colab.kernel.accessAllowed ? 'block' : 'none';\n",
              "\n",
              "        async function convertToInteractive(key) {\n",
              "          const element = document.querySelector('#df-fa2cb03f-6f5b-4b58-8a3c-75e9f6c2d0d2');\n",
              "          const dataTable =\n",
              "            await google.colab.kernel.invokeFunction('convertToInteractive',\n",
              "                                                     [key], {});\n",
              "          if (!dataTable) return;\n",
              "\n",
              "          const docLinkHtml = 'Like what you see? Visit the ' +\n",
              "            '<a target=\"_blank\" href=https://colab.research.google.com/notebooks/data_table.ipynb>data table notebook</a>'\n",
              "            + ' to learn more about interactive tables.';\n",
              "          element.innerHTML = '';\n",
              "          dataTable['output_type'] = 'display_data';\n",
              "          await google.colab.output.renderOutput(dataTable, element);\n",
              "          const docLink = document.createElement('div');\n",
              "          docLink.innerHTML = docLinkHtml;\n",
              "          element.appendChild(docLink);\n",
              "        }\n",
              "      </script>\n",
              "    </div>\n",
              "  </div>\n",
              "  "
            ]
          },
          "metadata": {},
          "execution_count": 29
        }
      ],
      "source": [
        "df.head(2)"
      ]
    },
    {
      "cell_type": "code",
      "execution_count": 30,
      "id": "17924876",
      "metadata": {
        "execution": {
          "iopub.execute_input": "2022-07-07T16:30:17.208377Z",
          "iopub.status.busy": "2022-07-07T16:30:17.207209Z",
          "iopub.status.idle": "2022-07-07T16:30:17.237772Z",
          "shell.execute_reply": "2022-07-07T16:30:17.236899Z"
        },
        "papermill": {
          "duration": 0.073167,
          "end_time": "2022-07-07T16:30:17.240206",
          "exception": false,
          "start_time": "2022-07-07T16:30:17.167039",
          "status": "completed"
        },
        "tags": [],
        "colab": {
          "base_uri": "https://localhost:8080/"
        },
        "id": "17924876",
        "outputId": "a493eade-d570-4969-f0f9-ead2d0874088"
      },
      "outputs": [
        {
          "output_type": "execute_result",
          "data": {
            "text/plain": [
              "Index(['runs', 'DNB', 'TDNB', 'sub', 'absent'], dtype='object')"
            ]
          },
          "metadata": {},
          "execution_count": 30
        }
      ],
      "source": [
        "df['Score'].value_counts().index"
      ]
    },
    {
      "cell_type": "markdown",
      "source": [
        "<b>DNB (Did Not Bat) -</b> This means that the batsmen did not get to bat in the corresponding innings.<br><br>\n",
        "<b>TDNB (Team Did Not Bat) -</b> This means that the entire team did not bat in the corresponding innings.<br><br>\n",
        "<b>sub (Substitue) -</b> The playing 11 are declared by the team at the start of the match. And then during the match, if a player has been injured or becomes ill, then the Umpires allow a Substitute/replacement player with the applicable playing rules. The player is allowed resume playing after recovery.<br><br>\n",
        "<b>Absent -</b> After announcing the playing 11, if a batsman is not able to come to the pitch to bat even without facing a ball, due to prior illness or injury, then player is marked as absent. "
      ],
      "metadata": {
        "id": "QVAuR-y5CBZ9"
      },
      "id": "QVAuR-y5CBZ9"
    },
    {
      "cell_type": "code",
      "execution_count": 31,
      "id": "cb293ec2",
      "metadata": {
        "execution": {
          "iopub.execute_input": "2022-07-07T16:30:17.408176Z",
          "iopub.status.busy": "2022-07-07T16:30:17.407547Z",
          "iopub.status.idle": "2022-07-07T16:30:17.596600Z",
          "shell.execute_reply": "2022-07-07T16:30:17.595600Z"
        },
        "papermill": {
          "duration": 0.232409,
          "end_time": "2022-07-07T16:30:17.599202",
          "exception": false,
          "start_time": "2022-07-07T16:30:17.366793",
          "status": "completed"
        },
        "tags": [],
        "id": "cb293ec2"
      },
      "outputs": [],
      "source": [
        "df1=df[(df['Score']=='DNB') | (df['Score']=='TDNB') | (df['Score']=='sub') | (df['Score']=='absent')]"
      ]
    },
    {
      "cell_type": "code",
      "execution_count": 32,
      "id": "939097c5",
      "metadata": {
        "execution": {
          "iopub.execute_input": "2022-07-07T16:30:17.681178Z",
          "iopub.status.busy": "2022-07-07T16:30:17.680479Z",
          "iopub.status.idle": "2022-07-07T16:30:17.685084Z",
          "shell.execute_reply": "2022-07-07T16:30:17.684151Z"
        },
        "papermill": {
          "duration": 0.048273,
          "end_time": "2022-07-07T16:30:17.687437",
          "exception": false,
          "start_time": "2022-07-07T16:30:17.639164",
          "status": "completed"
        },
        "tags": [],
        "id": "939097c5"
      },
      "outputs": [],
      "source": [
        "dic={'DNB':0, 'TDNB':0, 'sub':0, 'absent':0}"
      ]
    },
    {
      "cell_type": "code",
      "execution_count": 33,
      "id": "7d4d833a",
      "metadata": {
        "execution": {
          "iopub.execute_input": "2022-07-07T16:30:17.768093Z",
          "iopub.status.busy": "2022-07-07T16:30:17.767398Z",
          "iopub.status.idle": "2022-07-07T16:30:17.823101Z",
          "shell.execute_reply": "2022-07-07T16:30:17.821768Z"
        },
        "papermill": {
          "duration": 0.0992,
          "end_time": "2022-07-07T16:30:17.826135",
          "exception": false,
          "start_time": "2022-07-07T16:30:17.726935",
          "status": "completed"
        },
        "tags": [],
        "id": "7d4d833a"
      },
      "outputs": [],
      "source": [
        "df['Runs'].replace(dic,inplace=True)"
      ]
    },
    {
      "cell_type": "code",
      "execution_count": 34,
      "id": "b66856ef",
      "metadata": {
        "execution": {
          "iopub.execute_input": "2022-07-07T16:30:17.905662Z",
          "iopub.status.busy": "2022-07-07T16:30:17.905263Z",
          "iopub.status.idle": "2022-07-07T16:30:17.972310Z",
          "shell.execute_reply": "2022-07-07T16:30:17.971005Z"
        },
        "papermill": {
          "duration": 0.109963,
          "end_time": "2022-07-07T16:30:17.975356",
          "exception": false,
          "start_time": "2022-07-07T16:30:17.865393",
          "status": "completed"
        },
        "tags": [],
        "id": "b66856ef"
      },
      "outputs": [],
      "source": [
        "df.drop(index=df1.index,axis=0,inplace=True)"
      ]
    },
    {
      "cell_type": "code",
      "execution_count": 35,
      "id": "f12ea262",
      "metadata": {
        "execution": {
          "iopub.execute_input": "2022-07-07T16:30:18.059110Z",
          "iopub.status.busy": "2022-07-07T16:30:18.058316Z",
          "iopub.status.idle": "2022-07-07T16:30:18.148837Z",
          "shell.execute_reply": "2022-07-07T16:30:18.147540Z"
        },
        "papermill": {
          "duration": 0.135384,
          "end_time": "2022-07-07T16:30:18.151685",
          "exception": false,
          "start_time": "2022-07-07T16:30:18.016301",
          "status": "completed"
        },
        "tags": [],
        "id": "f12ea262"
      },
      "outputs": [],
      "source": [
        "df1.replace('-',0,inplace=True)"
      ]
    },
    {
      "cell_type": "code",
      "execution_count": 36,
      "id": "b0c2be4f",
      "metadata": {
        "execution": {
          "iopub.execute_input": "2022-07-07T16:30:18.233840Z",
          "iopub.status.busy": "2022-07-07T16:30:18.233110Z",
          "iopub.status.idle": "2022-07-07T16:30:18.239929Z",
          "shell.execute_reply": "2022-07-07T16:30:18.239053Z"
        },
        "papermill": {
          "duration": 0.050379,
          "end_time": "2022-07-07T16:30:18.242106",
          "exception": false,
          "start_time": "2022-07-07T16:30:18.191727",
          "status": "completed"
        },
        "tags": [],
        "colab": {
          "base_uri": "https://localhost:8080/"
        },
        "id": "b0c2be4f",
        "outputId": "695cd561-3529-4106-c9e3-9dba2688726d"
      },
      "outputs": [
        {
          "output_type": "execute_result",
          "data": {
            "text/plain": [
              "((156160, 14), (36150, 14))"
            ]
          },
          "metadata": {},
          "execution_count": 36
        }
      ],
      "source": [
        "df.shape,df1.shape"
      ]
    },
    {
      "cell_type": "code",
      "execution_count": 37,
      "id": "9f8eb5cc",
      "metadata": {
        "execution": {
          "iopub.execute_input": "2022-07-07T16:30:18.322618Z",
          "iopub.status.busy": "2022-07-07T16:30:18.321979Z",
          "iopub.status.idle": "2022-07-07T16:30:18.376020Z",
          "shell.execute_reply": "2022-07-07T16:30:18.375009Z"
        },
        "papermill": {
          "duration": 0.097554,
          "end_time": "2022-07-07T16:30:18.378527",
          "exception": false,
          "start_time": "2022-07-07T16:30:18.280973",
          "status": "completed"
        },
        "tags": [],
        "id": "9f8eb5cc"
      },
      "outputs": [],
      "source": [
        "final_df=pd.concat([df,df1],ignore_index=True)"
      ]
    },
    {
      "cell_type": "code",
      "execution_count": 38,
      "id": "a4b3c9d0",
      "metadata": {
        "execution": {
          "iopub.execute_input": "2022-07-07T16:30:18.460145Z",
          "iopub.status.busy": "2022-07-07T16:30:18.459726Z",
          "iopub.status.idle": "2022-07-07T16:30:18.514454Z",
          "shell.execute_reply": "2022-07-07T16:30:18.513529Z"
        },
        "papermill": {
          "duration": 0.098543,
          "end_time": "2022-07-07T16:30:18.517077",
          "exception": false,
          "start_time": "2022-07-07T16:30:18.418534",
          "status": "completed"
        },
        "tags": [],
        "id": "a4b3c9d0"
      },
      "outputs": [],
      "source": [
        "final_df['Runs'].replace(dic,inplace=True)"
      ]
    },
    {
      "cell_type": "code",
      "execution_count": 39,
      "id": "861bba1e",
      "metadata": {
        "execution": {
          "iopub.execute_input": "2022-07-07T16:30:18.600156Z",
          "iopub.status.busy": "2022-07-07T16:30:18.599438Z",
          "iopub.status.idle": "2022-07-07T16:30:18.618502Z",
          "shell.execute_reply": "2022-07-07T16:30:18.617422Z"
        },
        "papermill": {
          "duration": 0.063644,
          "end_time": "2022-07-07T16:30:18.620923",
          "exception": false,
          "start_time": "2022-07-07T16:30:18.557279",
          "status": "completed"
        },
        "tags": [],
        "colab": {
          "base_uri": "https://localhost:8080/",
          "height": 112
        },
        "id": "861bba1e",
        "outputId": "3ecd607c-b124-4280-9f60-88e0c446b55c"
      },
      "outputs": [
        {
          "output_type": "execute_result",
          "data": {
            "text/plain": [
              "  Runs Mins  BF 4s 6s     SR Inns      Opposition Ground Start Date  \\\n",
              "0    0    5   6  0  0      0    1  Test v England  Leeds  23-Jun-22   \n",
              "1   20   57  42  2  0  47.61    1  Test v England  Leeds  23-Jun-22   \n",
              "\n",
              "  Player_Name Team wicket Score  \n",
              "0  TWM Latham   NZ    out  runs  \n",
              "1    WA Young   NZ    out  runs  "
            ],
            "text/html": [
              "\n",
              "  <div id=\"df-469b075a-b973-4052-bcdd-e16039645f59\">\n",
              "    <div class=\"colab-df-container\">\n",
              "      <div>\n",
              "<style scoped>\n",
              "    .dataframe tbody tr th:only-of-type {\n",
              "        vertical-align: middle;\n",
              "    }\n",
              "\n",
              "    .dataframe tbody tr th {\n",
              "        vertical-align: top;\n",
              "    }\n",
              "\n",
              "    .dataframe thead th {\n",
              "        text-align: right;\n",
              "    }\n",
              "</style>\n",
              "<table border=\"1\" class=\"dataframe\">\n",
              "  <thead>\n",
              "    <tr style=\"text-align: right;\">\n",
              "      <th></th>\n",
              "      <th>Runs</th>\n",
              "      <th>Mins</th>\n",
              "      <th>BF</th>\n",
              "      <th>4s</th>\n",
              "      <th>6s</th>\n",
              "      <th>SR</th>\n",
              "      <th>Inns</th>\n",
              "      <th>Opposition</th>\n",
              "      <th>Ground</th>\n",
              "      <th>Start Date</th>\n",
              "      <th>Player_Name</th>\n",
              "      <th>Team</th>\n",
              "      <th>wicket</th>\n",
              "      <th>Score</th>\n",
              "    </tr>\n",
              "  </thead>\n",
              "  <tbody>\n",
              "    <tr>\n",
              "      <th>0</th>\n",
              "      <td>0</td>\n",
              "      <td>5</td>\n",
              "      <td>6</td>\n",
              "      <td>0</td>\n",
              "      <td>0</td>\n",
              "      <td>0</td>\n",
              "      <td>1</td>\n",
              "      <td>Test v England</td>\n",
              "      <td>Leeds</td>\n",
              "      <td>23-Jun-22</td>\n",
              "      <td>TWM Latham</td>\n",
              "      <td>NZ</td>\n",
              "      <td>out</td>\n",
              "      <td>runs</td>\n",
              "    </tr>\n",
              "    <tr>\n",
              "      <th>1</th>\n",
              "      <td>20</td>\n",
              "      <td>57</td>\n",
              "      <td>42</td>\n",
              "      <td>2</td>\n",
              "      <td>0</td>\n",
              "      <td>47.61</td>\n",
              "      <td>1</td>\n",
              "      <td>Test v England</td>\n",
              "      <td>Leeds</td>\n",
              "      <td>23-Jun-22</td>\n",
              "      <td>WA Young</td>\n",
              "      <td>NZ</td>\n",
              "      <td>out</td>\n",
              "      <td>runs</td>\n",
              "    </tr>\n",
              "  </tbody>\n",
              "</table>\n",
              "</div>\n",
              "      <button class=\"colab-df-convert\" onclick=\"convertToInteractive('df-469b075a-b973-4052-bcdd-e16039645f59')\"\n",
              "              title=\"Convert this dataframe to an interactive table.\"\n",
              "              style=\"display:none;\">\n",
              "        \n",
              "  <svg xmlns=\"http://www.w3.org/2000/svg\" height=\"24px\"viewBox=\"0 0 24 24\"\n",
              "       width=\"24px\">\n",
              "    <path d=\"M0 0h24v24H0V0z\" fill=\"none\"/>\n",
              "    <path d=\"M18.56 5.44l.94 2.06.94-2.06 2.06-.94-2.06-.94-.94-2.06-.94 2.06-2.06.94zm-11 1L8.5 8.5l.94-2.06 2.06-.94-2.06-.94L8.5 2.5l-.94 2.06-2.06.94zm10 10l.94 2.06.94-2.06 2.06-.94-2.06-.94-.94-2.06-.94 2.06-2.06.94z\"/><path d=\"M17.41 7.96l-1.37-1.37c-.4-.4-.92-.59-1.43-.59-.52 0-1.04.2-1.43.59L10.3 9.45l-7.72 7.72c-.78.78-.78 2.05 0 2.83L4 21.41c.39.39.9.59 1.41.59.51 0 1.02-.2 1.41-.59l7.78-7.78 2.81-2.81c.8-.78.8-2.07 0-2.86zM5.41 20L4 18.59l7.72-7.72 1.47 1.35L5.41 20z\"/>\n",
              "  </svg>\n",
              "      </button>\n",
              "      \n",
              "  <style>\n",
              "    .colab-df-container {\n",
              "      display:flex;\n",
              "      flex-wrap:wrap;\n",
              "      gap: 12px;\n",
              "    }\n",
              "\n",
              "    .colab-df-convert {\n",
              "      background-color: #E8F0FE;\n",
              "      border: none;\n",
              "      border-radius: 50%;\n",
              "      cursor: pointer;\n",
              "      display: none;\n",
              "      fill: #1967D2;\n",
              "      height: 32px;\n",
              "      padding: 0 0 0 0;\n",
              "      width: 32px;\n",
              "    }\n",
              "\n",
              "    .colab-df-convert:hover {\n",
              "      background-color: #E2EBFA;\n",
              "      box-shadow: 0px 1px 2px rgba(60, 64, 67, 0.3), 0px 1px 3px 1px rgba(60, 64, 67, 0.15);\n",
              "      fill: #174EA6;\n",
              "    }\n",
              "\n",
              "    [theme=dark] .colab-df-convert {\n",
              "      background-color: #3B4455;\n",
              "      fill: #D2E3FC;\n",
              "    }\n",
              "\n",
              "    [theme=dark] .colab-df-convert:hover {\n",
              "      background-color: #434B5C;\n",
              "      box-shadow: 0px 1px 3px 1px rgba(0, 0, 0, 0.15);\n",
              "      filter: drop-shadow(0px 1px 2px rgba(0, 0, 0, 0.3));\n",
              "      fill: #FFFFFF;\n",
              "    }\n",
              "  </style>\n",
              "\n",
              "      <script>\n",
              "        const buttonEl =\n",
              "          document.querySelector('#df-469b075a-b973-4052-bcdd-e16039645f59 button.colab-df-convert');\n",
              "        buttonEl.style.display =\n",
              "          google.colab.kernel.accessAllowed ? 'block' : 'none';\n",
              "\n",
              "        async function convertToInteractive(key) {\n",
              "          const element = document.querySelector('#df-469b075a-b973-4052-bcdd-e16039645f59');\n",
              "          const dataTable =\n",
              "            await google.colab.kernel.invokeFunction('convertToInteractive',\n",
              "                                                     [key], {});\n",
              "          if (!dataTable) return;\n",
              "\n",
              "          const docLinkHtml = 'Like what you see? Visit the ' +\n",
              "            '<a target=\"_blank\" href=https://colab.research.google.com/notebooks/data_table.ipynb>data table notebook</a>'\n",
              "            + ' to learn more about interactive tables.';\n",
              "          element.innerHTML = '';\n",
              "          dataTable['output_type'] = 'display_data';\n",
              "          await google.colab.output.renderOutput(dataTable, element);\n",
              "          const docLink = document.createElement('div');\n",
              "          docLink.innerHTML = docLinkHtml;\n",
              "          element.appendChild(docLink);\n",
              "        }\n",
              "      </script>\n",
              "    </div>\n",
              "  </div>\n",
              "  "
            ]
          },
          "metadata": {},
          "execution_count": 39
        }
      ],
      "source": [
        "final_df.head(2)"
      ]
    },
    {
      "cell_type": "code",
      "execution_count": 40,
      "id": "2a804e1f",
      "metadata": {
        "execution": {
          "iopub.execute_input": "2022-07-07T16:30:18.702621Z",
          "iopub.status.busy": "2022-07-07T16:30:18.702045Z",
          "iopub.status.idle": "2022-07-07T16:30:18.733446Z",
          "shell.execute_reply": "2022-07-07T16:30:18.732337Z"
        },
        "papermill": {
          "duration": 0.074935,
          "end_time": "2022-07-07T16:30:18.735998",
          "exception": false,
          "start_time": "2022-07-07T16:30:18.661063",
          "status": "completed"
        },
        "tags": [],
        "id": "2a804e1f"
      },
      "outputs": [],
      "source": [
        "final_df['Runs']=final_df['Runs'].astype(int)"
      ]
    },
    {
      "cell_type": "code",
      "execution_count": 41,
      "id": "972045dc",
      "metadata": {
        "execution": {
          "iopub.execute_input": "2022-07-07T16:30:18.817189Z",
          "iopub.status.busy": "2022-07-07T16:30:18.816518Z",
          "iopub.status.idle": "2022-07-07T16:30:18.893639Z",
          "shell.execute_reply": "2022-07-07T16:30:18.892409Z"
        },
        "papermill": {
          "duration": 0.120704,
          "end_time": "2022-07-07T16:30:18.896441",
          "exception": false,
          "start_time": "2022-07-07T16:30:18.775737",
          "status": "completed"
        },
        "tags": [],
        "id": "972045dc"
      },
      "outputs": [],
      "source": [
        "# Creating new column \"situation_of_player\" from wicket and score\n",
        "final_df['situation_of_player']=np.where(final_df['wicket']=='out',np.where(final_df['Score']=='runs','out',final_df['Score']),\n",
        "        np.where(final_df['Score']=='runs','not out',final_df['Score']))"
      ]
    },
    {
      "cell_type": "code",
      "execution_count": 42,
      "id": "ae006997",
      "metadata": {
        "execution": {
          "iopub.execute_input": "2022-07-07T16:30:18.978978Z",
          "iopub.status.busy": "2022-07-07T16:30:18.978543Z",
          "iopub.status.idle": "2022-07-07T16:30:19.094275Z",
          "shell.execute_reply": "2022-07-07T16:30:19.093151Z"
        },
        "papermill": {
          "duration": 0.160958,
          "end_time": "2022-07-07T16:30:19.097176",
          "exception": false,
          "start_time": "2022-07-07T16:30:18.936218",
          "status": "completed"
        },
        "tags": [],
        "id": "ae006997"
      },
      "outputs": [],
      "source": [
        "final_df.drop(labels=['wicket','Score'],axis=1,inplace=True)"
      ]
    },
    {
      "cell_type": "code",
      "execution_count": 43,
      "id": "78d2ad3b",
      "metadata": {
        "execution": {
          "iopub.execute_input": "2022-07-07T16:30:19.178850Z",
          "iopub.status.busy": "2022-07-07T16:30:19.178470Z",
          "iopub.status.idle": "2022-07-07T16:30:19.208142Z",
          "shell.execute_reply": "2022-07-07T16:30:19.206881Z"
        },
        "papermill": {
          "duration": 0.074884,
          "end_time": "2022-07-07T16:30:19.211560",
          "exception": false,
          "start_time": "2022-07-07T16:30:19.136676",
          "status": "completed"
        },
        "tags": [],
        "colab": {
          "base_uri": "https://localhost:8080/"
        },
        "id": "78d2ad3b",
        "outputId": "03514a7a-41a0-4733-99b6-615a08f7e77f"
      },
      "outputs": [
        {
          "output_type": "execute_result",
          "data": {
            "text/plain": [
              "out        129562\n",
              "DNB         34293\n",
              "not out     26598\n",
              "TDNB         1562\n",
              "sub           172\n",
              "absent        123\n",
              "Name: situation_of_player, dtype: int64"
            ]
          },
          "metadata": {},
          "execution_count": 43
        }
      ],
      "source": [
        "final_df['situation_of_player'].value_counts()"
      ]
    },
    {
      "cell_type": "markdown",
      "id": "cbf2df9d",
      "metadata": {
        "papermill": {
          "duration": 0.039878,
          "end_time": "2022-07-07T16:30:22.326515",
          "exception": false,
          "start_time": "2022-07-07T16:30:22.286637",
          "status": "completed"
        },
        "tags": [],
        "id": "cbf2df9d"
      },
      "source": [
        "#### \"Opposition\" column in the dataset consists of 2 values for each record - Format of the match and Opponent Team.<br><br>\n",
        "#### So splitting the column into 2 columns - <b>Format</b> and <b>Opponent Team</b>"
      ]
    },
    {
      "cell_type": "code",
      "execution_count": 47,
      "id": "2152e8a0",
      "metadata": {
        "execution": {
          "iopub.execute_input": "2022-07-07T16:30:22.408111Z",
          "iopub.status.busy": "2022-07-07T16:30:22.407426Z",
          "iopub.status.idle": "2022-07-07T16:30:23.037677Z",
          "shell.execute_reply": "2022-07-07T16:30:23.036641Z"
        },
        "papermill": {
          "duration": 0.674228,
          "end_time": "2022-07-07T16:30:23.040426",
          "exception": false,
          "start_time": "2022-07-07T16:30:22.366198",
          "status": "completed"
        },
        "tags": [],
        "id": "2152e8a0"
      },
      "outputs": [],
      "source": [
        "final_df['Format']=final_df['Opposition'].str.split(' v ',expand=True)[0]"
      ]
    },
    {
      "cell_type": "code",
      "execution_count": 48,
      "id": "7352b66c",
      "metadata": {
        "execution": {
          "iopub.execute_input": "2022-07-07T16:30:23.123646Z",
          "iopub.status.busy": "2022-07-07T16:30:23.122919Z",
          "iopub.status.idle": "2022-07-07T16:30:23.728038Z",
          "shell.execute_reply": "2022-07-07T16:30:23.726880Z"
        },
        "papermill": {
          "duration": 0.649771,
          "end_time": "2022-07-07T16:30:23.730750",
          "exception": false,
          "start_time": "2022-07-07T16:30:23.080979",
          "status": "completed"
        },
        "tags": [],
        "id": "7352b66c"
      },
      "outputs": [],
      "source": [
        "final_df['Opponent Team']=final_df['Opposition'].str.split(' v ',expand=True)[1]"
      ]
    },
    {
      "cell_type": "code",
      "execution_count": 49,
      "id": "c5af3117",
      "metadata": {
        "execution": {
          "iopub.execute_input": "2022-07-07T16:30:23.813254Z",
          "iopub.status.busy": "2022-07-07T16:30:23.812580Z",
          "iopub.status.idle": "2022-07-07T16:30:23.818518Z",
          "shell.execute_reply": "2022-07-07T16:30:23.817619Z"
        },
        "papermill": {
          "duration": 0.049712,
          "end_time": "2022-07-07T16:30:23.820626",
          "exception": false,
          "start_time": "2022-07-07T16:30:23.770914",
          "status": "completed"
        },
        "tags": [],
        "colab": {
          "base_uri": "https://localhost:8080/"
        },
        "id": "c5af3117",
        "outputId": "e0f84917-2feb-423b-e95a-6e39a5bf2d26"
      },
      "outputs": [
        {
          "output_type": "execute_result",
          "data": {
            "text/plain": [
              "(192310, 15)"
            ]
          },
          "metadata": {},
          "execution_count": 49
        }
      ],
      "source": [
        "final_df.shape"
      ]
    },
    {
      "cell_type": "code",
      "execution_count": 50,
      "id": "ac3f20f6",
      "metadata": {
        "execution": {
          "iopub.execute_input": "2022-07-07T16:30:23.904617Z",
          "iopub.status.busy": "2022-07-07T16:30:23.903828Z",
          "iopub.status.idle": "2022-07-07T16:30:24.030343Z",
          "shell.execute_reply": "2022-07-07T16:30:24.029269Z"
        },
        "papermill": {
          "duration": 0.171801,
          "end_time": "2022-07-07T16:30:24.032875",
          "exception": false,
          "start_time": "2022-07-07T16:30:23.861074",
          "status": "completed"
        },
        "tags": [],
        "id": "ac3f20f6"
      },
      "outputs": [],
      "source": [
        "final_df.drop(labels=['Opposition'],axis=1,inplace=True)"
      ]
    },
    {
      "cell_type": "code",
      "execution_count": 51,
      "id": "a46cbdf6",
      "metadata": {
        "execution": {
          "iopub.execute_input": "2022-07-07T16:30:24.115458Z",
          "iopub.status.busy": "2022-07-07T16:30:24.114767Z",
          "iopub.status.idle": "2022-07-07T16:30:24.132551Z",
          "shell.execute_reply": "2022-07-07T16:30:24.131627Z"
        },
        "papermill": {
          "duration": 0.062152,
          "end_time": "2022-07-07T16:30:24.134752",
          "exception": false,
          "start_time": "2022-07-07T16:30:24.072600",
          "status": "completed"
        },
        "tags": [],
        "colab": {
          "base_uri": "https://localhost:8080/",
          "height": 112
        },
        "id": "a46cbdf6",
        "outputId": "36b0339b-9449-4f51-fc14-4f1f5e14942f"
      },
      "outputs": [
        {
          "output_type": "execute_result",
          "data": {
            "text/plain": [
              "   Runs Mins  BF 4s 6s     SR Inns Ground Start Date Player_Name Team  \\\n",
              "0     0    5   6  0  0      0    1  Leeds  23-Jun-22  TWM Latham   NZ   \n",
              "1    20   57  42  2  0  47.61    1  Leeds  23-Jun-22    WA Young   NZ   \n",
              "\n",
              "  situation_of_player Format Opponent Team  \n",
              "0                 out   Test       England  \n",
              "1                 out   Test       England  "
            ],
            "text/html": [
              "\n",
              "  <div id=\"df-47e8e6ff-ff9f-4cb5-ac44-2ba4f618c8c2\">\n",
              "    <div class=\"colab-df-container\">\n",
              "      <div>\n",
              "<style scoped>\n",
              "    .dataframe tbody tr th:only-of-type {\n",
              "        vertical-align: middle;\n",
              "    }\n",
              "\n",
              "    .dataframe tbody tr th {\n",
              "        vertical-align: top;\n",
              "    }\n",
              "\n",
              "    .dataframe thead th {\n",
              "        text-align: right;\n",
              "    }\n",
              "</style>\n",
              "<table border=\"1\" class=\"dataframe\">\n",
              "  <thead>\n",
              "    <tr style=\"text-align: right;\">\n",
              "      <th></th>\n",
              "      <th>Runs</th>\n",
              "      <th>Mins</th>\n",
              "      <th>BF</th>\n",
              "      <th>4s</th>\n",
              "      <th>6s</th>\n",
              "      <th>SR</th>\n",
              "      <th>Inns</th>\n",
              "      <th>Ground</th>\n",
              "      <th>Start Date</th>\n",
              "      <th>Player_Name</th>\n",
              "      <th>Team</th>\n",
              "      <th>situation_of_player</th>\n",
              "      <th>Format</th>\n",
              "      <th>Opponent Team</th>\n",
              "    </tr>\n",
              "  </thead>\n",
              "  <tbody>\n",
              "    <tr>\n",
              "      <th>0</th>\n",
              "      <td>0</td>\n",
              "      <td>5</td>\n",
              "      <td>6</td>\n",
              "      <td>0</td>\n",
              "      <td>0</td>\n",
              "      <td>0</td>\n",
              "      <td>1</td>\n",
              "      <td>Leeds</td>\n",
              "      <td>23-Jun-22</td>\n",
              "      <td>TWM Latham</td>\n",
              "      <td>NZ</td>\n",
              "      <td>out</td>\n",
              "      <td>Test</td>\n",
              "      <td>England</td>\n",
              "    </tr>\n",
              "    <tr>\n",
              "      <th>1</th>\n",
              "      <td>20</td>\n",
              "      <td>57</td>\n",
              "      <td>42</td>\n",
              "      <td>2</td>\n",
              "      <td>0</td>\n",
              "      <td>47.61</td>\n",
              "      <td>1</td>\n",
              "      <td>Leeds</td>\n",
              "      <td>23-Jun-22</td>\n",
              "      <td>WA Young</td>\n",
              "      <td>NZ</td>\n",
              "      <td>out</td>\n",
              "      <td>Test</td>\n",
              "      <td>England</td>\n",
              "    </tr>\n",
              "  </tbody>\n",
              "</table>\n",
              "</div>\n",
              "      <button class=\"colab-df-convert\" onclick=\"convertToInteractive('df-47e8e6ff-ff9f-4cb5-ac44-2ba4f618c8c2')\"\n",
              "              title=\"Convert this dataframe to an interactive table.\"\n",
              "              style=\"display:none;\">\n",
              "        \n",
              "  <svg xmlns=\"http://www.w3.org/2000/svg\" height=\"24px\"viewBox=\"0 0 24 24\"\n",
              "       width=\"24px\">\n",
              "    <path d=\"M0 0h24v24H0V0z\" fill=\"none\"/>\n",
              "    <path d=\"M18.56 5.44l.94 2.06.94-2.06 2.06-.94-2.06-.94-.94-2.06-.94 2.06-2.06.94zm-11 1L8.5 8.5l.94-2.06 2.06-.94-2.06-.94L8.5 2.5l-.94 2.06-2.06.94zm10 10l.94 2.06.94-2.06 2.06-.94-2.06-.94-.94-2.06-.94 2.06-2.06.94z\"/><path d=\"M17.41 7.96l-1.37-1.37c-.4-.4-.92-.59-1.43-.59-.52 0-1.04.2-1.43.59L10.3 9.45l-7.72 7.72c-.78.78-.78 2.05 0 2.83L4 21.41c.39.39.9.59 1.41.59.51 0 1.02-.2 1.41-.59l7.78-7.78 2.81-2.81c.8-.78.8-2.07 0-2.86zM5.41 20L4 18.59l7.72-7.72 1.47 1.35L5.41 20z\"/>\n",
              "  </svg>\n",
              "      </button>\n",
              "      \n",
              "  <style>\n",
              "    .colab-df-container {\n",
              "      display:flex;\n",
              "      flex-wrap:wrap;\n",
              "      gap: 12px;\n",
              "    }\n",
              "\n",
              "    .colab-df-convert {\n",
              "      background-color: #E8F0FE;\n",
              "      border: none;\n",
              "      border-radius: 50%;\n",
              "      cursor: pointer;\n",
              "      display: none;\n",
              "      fill: #1967D2;\n",
              "      height: 32px;\n",
              "      padding: 0 0 0 0;\n",
              "      width: 32px;\n",
              "    }\n",
              "\n",
              "    .colab-df-convert:hover {\n",
              "      background-color: #E2EBFA;\n",
              "      box-shadow: 0px 1px 2px rgba(60, 64, 67, 0.3), 0px 1px 3px 1px rgba(60, 64, 67, 0.15);\n",
              "      fill: #174EA6;\n",
              "    }\n",
              "\n",
              "    [theme=dark] .colab-df-convert {\n",
              "      background-color: #3B4455;\n",
              "      fill: #D2E3FC;\n",
              "    }\n",
              "\n",
              "    [theme=dark] .colab-df-convert:hover {\n",
              "      background-color: #434B5C;\n",
              "      box-shadow: 0px 1px 3px 1px rgba(0, 0, 0, 0.15);\n",
              "      filter: drop-shadow(0px 1px 2px rgba(0, 0, 0, 0.3));\n",
              "      fill: #FFFFFF;\n",
              "    }\n",
              "  </style>\n",
              "\n",
              "      <script>\n",
              "        const buttonEl =\n",
              "          document.querySelector('#df-47e8e6ff-ff9f-4cb5-ac44-2ba4f618c8c2 button.colab-df-convert');\n",
              "        buttonEl.style.display =\n",
              "          google.colab.kernel.accessAllowed ? 'block' : 'none';\n",
              "\n",
              "        async function convertToInteractive(key) {\n",
              "          const element = document.querySelector('#df-47e8e6ff-ff9f-4cb5-ac44-2ba4f618c8c2');\n",
              "          const dataTable =\n",
              "            await google.colab.kernel.invokeFunction('convertToInteractive',\n",
              "                                                     [key], {});\n",
              "          if (!dataTable) return;\n",
              "\n",
              "          const docLinkHtml = 'Like what you see? Visit the ' +\n",
              "            '<a target=\"_blank\" href=https://colab.research.google.com/notebooks/data_table.ipynb>data table notebook</a>'\n",
              "            + ' to learn more about interactive tables.';\n",
              "          element.innerHTML = '';\n",
              "          dataTable['output_type'] = 'display_data';\n",
              "          await google.colab.output.renderOutput(dataTable, element);\n",
              "          const docLink = document.createElement('div');\n",
              "          docLink.innerHTML = docLinkHtml;\n",
              "          element.appendChild(docLink);\n",
              "        }\n",
              "      </script>\n",
              "    </div>\n",
              "  </div>\n",
              "  "
            ]
          },
          "metadata": {},
          "execution_count": 51
        }
      ],
      "source": [
        "final_df.head(2)"
      ]
    },
    {
      "cell_type": "markdown",
      "id": "3e4cf33d",
      "metadata": {
        "papermill": {
          "duration": 0.04118,
          "end_time": "2022-07-07T16:30:24.216932",
          "exception": false,
          "start_time": "2022-07-07T16:30:24.175752",
          "status": "completed"
        },
        "tags": [],
        "id": "3e4cf33d"
      },
      "source": [
        "#### Ground - Number of matches played on each ground"
      ]
    },
    {
      "cell_type": "code",
      "execution_count": 52,
      "id": "ead20203",
      "metadata": {
        "execution": {
          "iopub.execute_input": "2022-07-07T16:30:24.300770Z",
          "iopub.status.busy": "2022-07-07T16:30:24.300102Z",
          "iopub.status.idle": "2022-07-07T16:30:24.333151Z",
          "shell.execute_reply": "2022-07-07T16:30:24.331934Z"
        },
        "papermill": {
          "duration": 0.0773,
          "end_time": "2022-07-07T16:30:24.335724",
          "exception": false,
          "start_time": "2022-07-07T16:30:24.258424",
          "status": "completed"
        },
        "tags": [],
        "colab": {
          "base_uri": "https://localhost:8080/"
        },
        "id": "ead20203",
        "outputId": "f50d58c9-2dc0-4e3d-e550-24d8ba2be07a"
      },
      "outputs": [
        {
          "output_type": "execute_result",
          "data": {
            "text/plain": [
              "Sharjah       6281\n",
              "Harare        5879\n",
              "Sydney        5231\n",
              "Melbourne     5027\n",
              "Mirpur        4698\n",
              "              ... \n",
              "Berri           22\n",
              "Albury          22\n",
              "Vijayawada      22\n",
              "Nairobi         22\n",
              "Swansea         22\n",
              "Name: Ground, Length: 224, dtype: int64"
            ]
          },
          "metadata": {},
          "execution_count": 52
        }
      ],
      "source": [
        "final_df['Ground'].value_counts()"
      ]
    },
    {
      "cell_type": "markdown",
      "id": "5ccae6d5",
      "metadata": {
        "papermill": {
          "duration": 0.041203,
          "end_time": "2022-07-07T16:30:24.418219",
          "exception": false,
          "start_time": "2022-07-07T16:30:24.377016",
          "status": "completed"
        },
        "tags": [],
        "id": "5ccae6d5"
      },
      "source": [
        "#### Start Date - Splitting this column into 3 - year, Day and month"
      ]
    },
    {
      "cell_type": "code",
      "execution_count": 53,
      "id": "39351cc0",
      "metadata": {
        "execution": {
          "iopub.execute_input": "2022-07-07T16:30:24.503743Z",
          "iopub.status.busy": "2022-07-07T16:30:24.503328Z",
          "iopub.status.idle": "2022-07-07T16:30:42.204931Z",
          "shell.execute_reply": "2022-07-07T16:30:42.203618Z"
        },
        "papermill": {
          "duration": 17.747729,
          "end_time": "2022-07-07T16:30:42.207926",
          "exception": false,
          "start_time": "2022-07-07T16:30:24.460197",
          "status": "completed"
        },
        "tags": [],
        "id": "39351cc0"
      },
      "outputs": [],
      "source": [
        "time=pd.DatetimeIndex(final_df['Start Date'])"
      ]
    },
    {
      "cell_type": "code",
      "execution_count": 54,
      "id": "0ef9bf79",
      "metadata": {
        "execution": {
          "iopub.execute_input": "2022-07-07T16:30:42.319466Z",
          "iopub.status.busy": "2022-07-07T16:30:42.319052Z",
          "iopub.status.idle": "2022-07-07T16:30:42.343214Z",
          "shell.execute_reply": "2022-07-07T16:30:42.341899Z"
        },
        "papermill": {
          "duration": 0.079634,
          "end_time": "2022-07-07T16:30:42.346142",
          "exception": false,
          "start_time": "2022-07-07T16:30:42.266508",
          "status": "completed"
        },
        "tags": [],
        "id": "0ef9bf79"
      },
      "outputs": [],
      "source": [
        "final_df['year']=time.year"
      ]
    },
    {
      "cell_type": "code",
      "execution_count": 55,
      "id": "b494a989",
      "metadata": {
        "execution": {
          "iopub.execute_input": "2022-07-07T16:30:42.430032Z",
          "iopub.status.busy": "2022-07-07T16:30:42.429559Z",
          "iopub.status.idle": "2022-07-07T16:30:42.504547Z",
          "shell.execute_reply": "2022-07-07T16:30:42.503164Z"
        },
        "papermill": {
          "duration": 0.12053,
          "end_time": "2022-07-07T16:30:42.507275",
          "exception": false,
          "start_time": "2022-07-07T16:30:42.386745",
          "status": "completed"
        },
        "tags": [],
        "id": "b494a989"
      },
      "outputs": [],
      "source": [
        "final_df['Day']=time.day_name()"
      ]
    },
    {
      "cell_type": "code",
      "execution_count": 56,
      "id": "a7783030",
      "metadata": {
        "execution": {
          "iopub.execute_input": "2022-07-07T16:30:42.591050Z",
          "iopub.status.busy": "2022-07-07T16:30:42.590611Z",
          "iopub.status.idle": "2022-07-07T16:30:42.652279Z",
          "shell.execute_reply": "2022-07-07T16:30:42.650996Z"
        },
        "papermill": {
          "duration": 0.106381,
          "end_time": "2022-07-07T16:30:42.655019",
          "exception": false,
          "start_time": "2022-07-07T16:30:42.548638",
          "status": "completed"
        },
        "tags": [],
        "id": "a7783030"
      },
      "outputs": [],
      "source": [
        "final_df['month']=time.month_name()"
      ]
    },
    {
      "cell_type": "code",
      "execution_count": 57,
      "id": "6b6d3250",
      "metadata": {
        "execution": {
          "iopub.execute_input": "2022-07-07T16:30:42.738765Z",
          "iopub.status.busy": "2022-07-07T16:30:42.738390Z",
          "iopub.status.idle": "2022-07-07T16:30:42.918766Z",
          "shell.execute_reply": "2022-07-07T16:30:42.917617Z"
        },
        "papermill": {
          "duration": 0.225703,
          "end_time": "2022-07-07T16:30:42.921687",
          "exception": false,
          "start_time": "2022-07-07T16:30:42.695984",
          "status": "completed"
        },
        "tags": [],
        "id": "6b6d3250"
      },
      "outputs": [],
      "source": [
        "final_df.drop(labels='Start Date',axis=1,inplace=True)"
      ]
    },
    {
      "cell_type": "markdown",
      "id": "99b2c47f",
      "metadata": {
        "papermill": {
          "duration": 0.041011,
          "end_time": "2022-07-07T16:30:43.003259",
          "exception": false,
          "start_time": "2022-07-07T16:30:42.962248",
          "status": "completed"
        },
        "tags": [],
        "id": "99b2c47f"
      },
      "source": [
        "#### Adding more calculated columns in this dataset for further analysis"
      ]
    },
    {
      "cell_type": "code",
      "execution_count": 58,
      "id": "eaab28f4",
      "metadata": {
        "execution": {
          "iopub.execute_input": "2022-07-07T16:30:43.088474Z",
          "iopub.status.busy": "2022-07-07T16:30:43.088061Z",
          "iopub.status.idle": "2022-07-07T16:30:43.112108Z",
          "shell.execute_reply": "2022-07-07T16:30:43.110768Z"
        },
        "papermill": {
          "duration": 0.070019,
          "end_time": "2022-07-07T16:30:43.114782",
          "exception": false,
          "start_time": "2022-07-07T16:30:43.044763",
          "status": "completed"
        },
        "tags": [],
        "colab": {
          "base_uri": "https://localhost:8080/",
          "height": 206
        },
        "id": "eaab28f4",
        "outputId": "418bd535-ab25-4929-8d81-c4ad6d9921c0"
      },
      "outputs": [
        {
          "output_type": "execute_result",
          "data": {
            "text/plain": [
              "   Runs Mins  BF 4s 6s     SR Inns Ground    Player_Name Team  \\\n",
              "0     0    5   6  0  0      0    1  Leeds     TWM Latham   NZ   \n",
              "1    20   57  42  2  0  47.61    1  Leeds       WA Young   NZ   \n",
              "2    31   97  64  5  0  48.43    1  Leeds  KS Williamson   NZ   \n",
              "3    26  100  62  5  0  41.93    1  Leeds      DP Conway   NZ   \n",
              "4    19  137  99  1  0  19.19    1  Leeds    HM Nicholls   NZ   \n",
              "\n",
              "  situation_of_player Format Opponent Team  year       Day month  \n",
              "0                 out   Test       England  2022  Thursday  June  \n",
              "1                 out   Test       England  2022  Thursday  June  \n",
              "2                 out   Test       England  2022  Thursday  June  \n",
              "3                 out   Test       England  2022  Thursday  June  \n",
              "4                 out   Test       England  2022  Thursday  June  "
            ],
            "text/html": [
              "\n",
              "  <div id=\"df-5f4e7b30-80b3-4f76-a7e3-8b869c91a2a7\">\n",
              "    <div class=\"colab-df-container\">\n",
              "      <div>\n",
              "<style scoped>\n",
              "    .dataframe tbody tr th:only-of-type {\n",
              "        vertical-align: middle;\n",
              "    }\n",
              "\n",
              "    .dataframe tbody tr th {\n",
              "        vertical-align: top;\n",
              "    }\n",
              "\n",
              "    .dataframe thead th {\n",
              "        text-align: right;\n",
              "    }\n",
              "</style>\n",
              "<table border=\"1\" class=\"dataframe\">\n",
              "  <thead>\n",
              "    <tr style=\"text-align: right;\">\n",
              "      <th></th>\n",
              "      <th>Runs</th>\n",
              "      <th>Mins</th>\n",
              "      <th>BF</th>\n",
              "      <th>4s</th>\n",
              "      <th>6s</th>\n",
              "      <th>SR</th>\n",
              "      <th>Inns</th>\n",
              "      <th>Ground</th>\n",
              "      <th>Player_Name</th>\n",
              "      <th>Team</th>\n",
              "      <th>situation_of_player</th>\n",
              "      <th>Format</th>\n",
              "      <th>Opponent Team</th>\n",
              "      <th>year</th>\n",
              "      <th>Day</th>\n",
              "      <th>month</th>\n",
              "    </tr>\n",
              "  </thead>\n",
              "  <tbody>\n",
              "    <tr>\n",
              "      <th>0</th>\n",
              "      <td>0</td>\n",
              "      <td>5</td>\n",
              "      <td>6</td>\n",
              "      <td>0</td>\n",
              "      <td>0</td>\n",
              "      <td>0</td>\n",
              "      <td>1</td>\n",
              "      <td>Leeds</td>\n",
              "      <td>TWM Latham</td>\n",
              "      <td>NZ</td>\n",
              "      <td>out</td>\n",
              "      <td>Test</td>\n",
              "      <td>England</td>\n",
              "      <td>2022</td>\n",
              "      <td>Thursday</td>\n",
              "      <td>June</td>\n",
              "    </tr>\n",
              "    <tr>\n",
              "      <th>1</th>\n",
              "      <td>20</td>\n",
              "      <td>57</td>\n",
              "      <td>42</td>\n",
              "      <td>2</td>\n",
              "      <td>0</td>\n",
              "      <td>47.61</td>\n",
              "      <td>1</td>\n",
              "      <td>Leeds</td>\n",
              "      <td>WA Young</td>\n",
              "      <td>NZ</td>\n",
              "      <td>out</td>\n",
              "      <td>Test</td>\n",
              "      <td>England</td>\n",
              "      <td>2022</td>\n",
              "      <td>Thursday</td>\n",
              "      <td>June</td>\n",
              "    </tr>\n",
              "    <tr>\n",
              "      <th>2</th>\n",
              "      <td>31</td>\n",
              "      <td>97</td>\n",
              "      <td>64</td>\n",
              "      <td>5</td>\n",
              "      <td>0</td>\n",
              "      <td>48.43</td>\n",
              "      <td>1</td>\n",
              "      <td>Leeds</td>\n",
              "      <td>KS Williamson</td>\n",
              "      <td>NZ</td>\n",
              "      <td>out</td>\n",
              "      <td>Test</td>\n",
              "      <td>England</td>\n",
              "      <td>2022</td>\n",
              "      <td>Thursday</td>\n",
              "      <td>June</td>\n",
              "    </tr>\n",
              "    <tr>\n",
              "      <th>3</th>\n",
              "      <td>26</td>\n",
              "      <td>100</td>\n",
              "      <td>62</td>\n",
              "      <td>5</td>\n",
              "      <td>0</td>\n",
              "      <td>41.93</td>\n",
              "      <td>1</td>\n",
              "      <td>Leeds</td>\n",
              "      <td>DP Conway</td>\n",
              "      <td>NZ</td>\n",
              "      <td>out</td>\n",
              "      <td>Test</td>\n",
              "      <td>England</td>\n",
              "      <td>2022</td>\n",
              "      <td>Thursday</td>\n",
              "      <td>June</td>\n",
              "    </tr>\n",
              "    <tr>\n",
              "      <th>4</th>\n",
              "      <td>19</td>\n",
              "      <td>137</td>\n",
              "      <td>99</td>\n",
              "      <td>1</td>\n",
              "      <td>0</td>\n",
              "      <td>19.19</td>\n",
              "      <td>1</td>\n",
              "      <td>Leeds</td>\n",
              "      <td>HM Nicholls</td>\n",
              "      <td>NZ</td>\n",
              "      <td>out</td>\n",
              "      <td>Test</td>\n",
              "      <td>England</td>\n",
              "      <td>2022</td>\n",
              "      <td>Thursday</td>\n",
              "      <td>June</td>\n",
              "    </tr>\n",
              "  </tbody>\n",
              "</table>\n",
              "</div>\n",
              "      <button class=\"colab-df-convert\" onclick=\"convertToInteractive('df-5f4e7b30-80b3-4f76-a7e3-8b869c91a2a7')\"\n",
              "              title=\"Convert this dataframe to an interactive table.\"\n",
              "              style=\"display:none;\">\n",
              "        \n",
              "  <svg xmlns=\"http://www.w3.org/2000/svg\" height=\"24px\"viewBox=\"0 0 24 24\"\n",
              "       width=\"24px\">\n",
              "    <path d=\"M0 0h24v24H0V0z\" fill=\"none\"/>\n",
              "    <path d=\"M18.56 5.44l.94 2.06.94-2.06 2.06-.94-2.06-.94-.94-2.06-.94 2.06-2.06.94zm-11 1L8.5 8.5l.94-2.06 2.06-.94-2.06-.94L8.5 2.5l-.94 2.06-2.06.94zm10 10l.94 2.06.94-2.06 2.06-.94-2.06-.94-.94-2.06-.94 2.06-2.06.94z\"/><path d=\"M17.41 7.96l-1.37-1.37c-.4-.4-.92-.59-1.43-.59-.52 0-1.04.2-1.43.59L10.3 9.45l-7.72 7.72c-.78.78-.78 2.05 0 2.83L4 21.41c.39.39.9.59 1.41.59.51 0 1.02-.2 1.41-.59l7.78-7.78 2.81-2.81c.8-.78.8-2.07 0-2.86zM5.41 20L4 18.59l7.72-7.72 1.47 1.35L5.41 20z\"/>\n",
              "  </svg>\n",
              "      </button>\n",
              "      \n",
              "  <style>\n",
              "    .colab-df-container {\n",
              "      display:flex;\n",
              "      flex-wrap:wrap;\n",
              "      gap: 12px;\n",
              "    }\n",
              "\n",
              "    .colab-df-convert {\n",
              "      background-color: #E8F0FE;\n",
              "      border: none;\n",
              "      border-radius: 50%;\n",
              "      cursor: pointer;\n",
              "      display: none;\n",
              "      fill: #1967D2;\n",
              "      height: 32px;\n",
              "      padding: 0 0 0 0;\n",
              "      width: 32px;\n",
              "    }\n",
              "\n",
              "    .colab-df-convert:hover {\n",
              "      background-color: #E2EBFA;\n",
              "      box-shadow: 0px 1px 2px rgba(60, 64, 67, 0.3), 0px 1px 3px 1px rgba(60, 64, 67, 0.15);\n",
              "      fill: #174EA6;\n",
              "    }\n",
              "\n",
              "    [theme=dark] .colab-df-convert {\n",
              "      background-color: #3B4455;\n",
              "      fill: #D2E3FC;\n",
              "    }\n",
              "\n",
              "    [theme=dark] .colab-df-convert:hover {\n",
              "      background-color: #434B5C;\n",
              "      box-shadow: 0px 1px 3px 1px rgba(0, 0, 0, 0.15);\n",
              "      filter: drop-shadow(0px 1px 2px rgba(0, 0, 0, 0.3));\n",
              "      fill: #FFFFFF;\n",
              "    }\n",
              "  </style>\n",
              "\n",
              "      <script>\n",
              "        const buttonEl =\n",
              "          document.querySelector('#df-5f4e7b30-80b3-4f76-a7e3-8b869c91a2a7 button.colab-df-convert');\n",
              "        buttonEl.style.display =\n",
              "          google.colab.kernel.accessAllowed ? 'block' : 'none';\n",
              "\n",
              "        async function convertToInteractive(key) {\n",
              "          const element = document.querySelector('#df-5f4e7b30-80b3-4f76-a7e3-8b869c91a2a7');\n",
              "          const dataTable =\n",
              "            await google.colab.kernel.invokeFunction('convertToInteractive',\n",
              "                                                     [key], {});\n",
              "          if (!dataTable) return;\n",
              "\n",
              "          const docLinkHtml = 'Like what you see? Visit the ' +\n",
              "            '<a target=\"_blank\" href=https://colab.research.google.com/notebooks/data_table.ipynb>data table notebook</a>'\n",
              "            + ' to learn more about interactive tables.';\n",
              "          element.innerHTML = '';\n",
              "          dataTable['output_type'] = 'display_data';\n",
              "          await google.colab.output.renderOutput(dataTable, element);\n",
              "          const docLink = document.createElement('div');\n",
              "          docLink.innerHTML = docLinkHtml;\n",
              "          element.appendChild(docLink);\n",
              "        }\n",
              "      </script>\n",
              "    </div>\n",
              "  </div>\n",
              "  "
            ]
          },
          "metadata": {},
          "execution_count": 58
        }
      ],
      "source": [
        "final_df.head(5)"
      ]
    },
    {
      "cell_type": "code",
      "execution_count": 59,
      "id": "970b8407",
      "metadata": {
        "execution": {
          "iopub.execute_input": "2022-07-07T16:30:43.200704Z",
          "iopub.status.busy": "2022-07-07T16:30:43.200293Z",
          "iopub.status.idle": "2022-07-07T16:30:43.580542Z",
          "shell.execute_reply": "2022-07-07T16:30:43.579255Z"
        },
        "papermill": {
          "duration": 0.426184,
          "end_time": "2022-07-07T16:30:43.583199",
          "exception": false,
          "start_time": "2022-07-07T16:30:43.157015",
          "status": "completed"
        },
        "tags": [],
        "id": "970b8407"
      },
      "outputs": [],
      "source": [
        "g = final_df.groupby('Player_Name')['year'].unique().reset_index()\n",
        "g['Total_Years_Played'] = [len(i) for i in g['year']]\n",
        "g['stop']=[max(i) for i in g['year']]\n",
        "g['start']=[min(i) for i in g['year']]"
      ]
    },
    {
      "cell_type": "code",
      "execution_count": 60,
      "id": "f5a171fb",
      "metadata": {
        "execution": {
          "iopub.execute_input": "2022-07-07T16:30:43.668072Z",
          "iopub.status.busy": "2022-07-07T16:30:43.667645Z",
          "iopub.status.idle": "2022-07-07T16:30:43.681804Z",
          "shell.execute_reply": "2022-07-07T16:30:43.680612Z"
        },
        "papermill": {
          "duration": 0.058657,
          "end_time": "2022-07-07T16:30:43.684106",
          "exception": false,
          "start_time": "2022-07-07T16:30:43.625449",
          "status": "completed"
        },
        "tags": [],
        "colab": {
          "base_uri": "https://localhost:8080/",
          "height": 143
        },
        "id": "f5a171fb",
        "outputId": "5f9c4987-5bc2-4599-dec4-dd7a027cb89d"
      },
      "outputs": [
        {
          "output_type": "execute_result",
          "data": {
            "text/plain": [
              "      Player_Name                year  Total_Years_Played  stop  start\n",
              "0      A Ahmadhel  [2021, 2020, 2019]                   3  2021   2019\n",
              "1       A Andrews        [2022, 2021]                   2  2022   2021\n",
              "2  A Anemogiannis              [2019]                   1  2019   2019"
            ],
            "text/html": [
              "\n",
              "  <div id=\"df-c4e10234-0424-4550-a873-4094288b3f72\">\n",
              "    <div class=\"colab-df-container\">\n",
              "      <div>\n",
              "<style scoped>\n",
              "    .dataframe tbody tr th:only-of-type {\n",
              "        vertical-align: middle;\n",
              "    }\n",
              "\n",
              "    .dataframe tbody tr th {\n",
              "        vertical-align: top;\n",
              "    }\n",
              "\n",
              "    .dataframe thead th {\n",
              "        text-align: right;\n",
              "    }\n",
              "</style>\n",
              "<table border=\"1\" class=\"dataframe\">\n",
              "  <thead>\n",
              "    <tr style=\"text-align: right;\">\n",
              "      <th></th>\n",
              "      <th>Player_Name</th>\n",
              "      <th>year</th>\n",
              "      <th>Total_Years_Played</th>\n",
              "      <th>stop</th>\n",
              "      <th>start</th>\n",
              "    </tr>\n",
              "  </thead>\n",
              "  <tbody>\n",
              "    <tr>\n",
              "      <th>0</th>\n",
              "      <td>A Ahmadhel</td>\n",
              "      <td>[2021, 2020, 2019]</td>\n",
              "      <td>3</td>\n",
              "      <td>2021</td>\n",
              "      <td>2019</td>\n",
              "    </tr>\n",
              "    <tr>\n",
              "      <th>1</th>\n",
              "      <td>A Andrews</td>\n",
              "      <td>[2022, 2021]</td>\n",
              "      <td>2</td>\n",
              "      <td>2022</td>\n",
              "      <td>2021</td>\n",
              "    </tr>\n",
              "    <tr>\n",
              "      <th>2</th>\n",
              "      <td>A Anemogiannis</td>\n",
              "      <td>[2019]</td>\n",
              "      <td>1</td>\n",
              "      <td>2019</td>\n",
              "      <td>2019</td>\n",
              "    </tr>\n",
              "  </tbody>\n",
              "</table>\n",
              "</div>\n",
              "      <button class=\"colab-df-convert\" onclick=\"convertToInteractive('df-c4e10234-0424-4550-a873-4094288b3f72')\"\n",
              "              title=\"Convert this dataframe to an interactive table.\"\n",
              "              style=\"display:none;\">\n",
              "        \n",
              "  <svg xmlns=\"http://www.w3.org/2000/svg\" height=\"24px\"viewBox=\"0 0 24 24\"\n",
              "       width=\"24px\">\n",
              "    <path d=\"M0 0h24v24H0V0z\" fill=\"none\"/>\n",
              "    <path d=\"M18.56 5.44l.94 2.06.94-2.06 2.06-.94-2.06-.94-.94-2.06-.94 2.06-2.06.94zm-11 1L8.5 8.5l.94-2.06 2.06-.94-2.06-.94L8.5 2.5l-.94 2.06-2.06.94zm10 10l.94 2.06.94-2.06 2.06-.94-2.06-.94-.94-2.06-.94 2.06-2.06.94z\"/><path d=\"M17.41 7.96l-1.37-1.37c-.4-.4-.92-.59-1.43-.59-.52 0-1.04.2-1.43.59L10.3 9.45l-7.72 7.72c-.78.78-.78 2.05 0 2.83L4 21.41c.39.39.9.59 1.41.59.51 0 1.02-.2 1.41-.59l7.78-7.78 2.81-2.81c.8-.78.8-2.07 0-2.86zM5.41 20L4 18.59l7.72-7.72 1.47 1.35L5.41 20z\"/>\n",
              "  </svg>\n",
              "      </button>\n",
              "      \n",
              "  <style>\n",
              "    .colab-df-container {\n",
              "      display:flex;\n",
              "      flex-wrap:wrap;\n",
              "      gap: 12px;\n",
              "    }\n",
              "\n",
              "    .colab-df-convert {\n",
              "      background-color: #E8F0FE;\n",
              "      border: none;\n",
              "      border-radius: 50%;\n",
              "      cursor: pointer;\n",
              "      display: none;\n",
              "      fill: #1967D2;\n",
              "      height: 32px;\n",
              "      padding: 0 0 0 0;\n",
              "      width: 32px;\n",
              "    }\n",
              "\n",
              "    .colab-df-convert:hover {\n",
              "      background-color: #E2EBFA;\n",
              "      box-shadow: 0px 1px 2px rgba(60, 64, 67, 0.3), 0px 1px 3px 1px rgba(60, 64, 67, 0.15);\n",
              "      fill: #174EA6;\n",
              "    }\n",
              "\n",
              "    [theme=dark] .colab-df-convert {\n",
              "      background-color: #3B4455;\n",
              "      fill: #D2E3FC;\n",
              "    }\n",
              "\n",
              "    [theme=dark] .colab-df-convert:hover {\n",
              "      background-color: #434B5C;\n",
              "      box-shadow: 0px 1px 3px 1px rgba(0, 0, 0, 0.15);\n",
              "      filter: drop-shadow(0px 1px 2px rgba(0, 0, 0, 0.3));\n",
              "      fill: #FFFFFF;\n",
              "    }\n",
              "  </style>\n",
              "\n",
              "      <script>\n",
              "        const buttonEl =\n",
              "          document.querySelector('#df-c4e10234-0424-4550-a873-4094288b3f72 button.colab-df-convert');\n",
              "        buttonEl.style.display =\n",
              "          google.colab.kernel.accessAllowed ? 'block' : 'none';\n",
              "\n",
              "        async function convertToInteractive(key) {\n",
              "          const element = document.querySelector('#df-c4e10234-0424-4550-a873-4094288b3f72');\n",
              "          const dataTable =\n",
              "            await google.colab.kernel.invokeFunction('convertToInteractive',\n",
              "                                                     [key], {});\n",
              "          if (!dataTable) return;\n",
              "\n",
              "          const docLinkHtml = 'Like what you see? Visit the ' +\n",
              "            '<a target=\"_blank\" href=https://colab.research.google.com/notebooks/data_table.ipynb>data table notebook</a>'\n",
              "            + ' to learn more about interactive tables.';\n",
              "          element.innerHTML = '';\n",
              "          dataTable['output_type'] = 'display_data';\n",
              "          await google.colab.output.renderOutput(dataTable, element);\n",
              "          const docLink = document.createElement('div');\n",
              "          docLink.innerHTML = docLinkHtml;\n",
              "          element.appendChild(docLink);\n",
              "        }\n",
              "      </script>\n",
              "    </div>\n",
              "  </div>\n",
              "  "
            ]
          },
          "metadata": {},
          "execution_count": 60
        }
      ],
      "source": [
        "g.head(3)"
      ]
    },
    {
      "cell_type": "markdown",
      "source": [
        "#### Using the start and stop columns to define a new column \"Span\" which will show the total span of years for which the player has played"
      ],
      "metadata": {
        "id": "_02RscbKMFTP"
      },
      "id": "_02RscbKMFTP"
    },
    {
      "cell_type": "code",
      "execution_count": 61,
      "id": "3622cb2f",
      "metadata": {
        "execution": {
          "iopub.execute_input": "2022-07-07T16:30:43.768750Z",
          "iopub.status.busy": "2022-07-07T16:30:43.768296Z",
          "iopub.status.idle": "2022-07-07T16:30:43.786835Z",
          "shell.execute_reply": "2022-07-07T16:30:43.785597Z"
        },
        "papermill": {
          "duration": 0.064466,
          "end_time": "2022-07-07T16:30:43.789334",
          "exception": false,
          "start_time": "2022-07-07T16:30:43.724868",
          "status": "completed"
        },
        "tags": [],
        "id": "3622cb2f"
      },
      "outputs": [],
      "source": [
        "g['span']=g['start'].astype('str')+'-'+g['stop'].astype('str')"
      ]
    },
    {
      "cell_type": "code",
      "execution_count": 62,
      "id": "fc148ea1",
      "metadata": {
        "execution": {
          "iopub.execute_input": "2022-07-07T16:30:43.874441Z",
          "iopub.status.busy": "2022-07-07T16:30:43.874028Z",
          "iopub.status.idle": "2022-07-07T16:30:43.886081Z",
          "shell.execute_reply": "2022-07-07T16:30:43.884599Z"
        },
        "papermill": {
          "duration": 0.056905,
          "end_time": "2022-07-07T16:30:43.888396",
          "exception": false,
          "start_time": "2022-07-07T16:30:43.831491",
          "status": "completed"
        },
        "tags": [],
        "colab": {
          "base_uri": "https://localhost:8080/"
        },
        "id": "fc148ea1",
        "outputId": "22b0048d-9a5b-4a6c-cab3-7b780607682e"
      },
      "outputs": [
        {
          "output_type": "execute_result",
          "data": {
            "text/plain": [
              "((192310, 16), (4304, 3))"
            ]
          },
          "metadata": {},
          "execution_count": 62
        }
      ],
      "source": [
        "g.drop(labels=['year','stop','start'],axis=1,inplace=True)\n",
        "final_df.shape,g.shape"
      ]
    },
    {
      "cell_type": "code",
      "execution_count": 63,
      "id": "3231d75a",
      "metadata": {
        "execution": {
          "iopub.execute_input": "2022-07-07T16:30:43.972873Z",
          "iopub.status.busy": "2022-07-07T16:30:43.972462Z",
          "iopub.status.idle": "2022-07-07T16:30:43.984171Z",
          "shell.execute_reply": "2022-07-07T16:30:43.982957Z"
        },
        "papermill": {
          "duration": 0.056681,
          "end_time": "2022-07-07T16:30:43.986496",
          "exception": false,
          "start_time": "2022-07-07T16:30:43.929815",
          "status": "completed"
        },
        "tags": [],
        "colab": {
          "base_uri": "https://localhost:8080/",
          "height": 112
        },
        "id": "3231d75a",
        "outputId": "d4e76e4b-0034-4e3f-e585-385627f8912f"
      },
      "outputs": [
        {
          "output_type": "execute_result",
          "data": {
            "text/plain": [
              "  Player_Name  Total_Years_Played       span\n",
              "0  A Ahmadhel                   3  2019-2021\n",
              "1   A Andrews                   2  2021-2022"
            ],
            "text/html": [
              "\n",
              "  <div id=\"df-2d96a83c-44da-4768-9a41-7f7d582177f9\">\n",
              "    <div class=\"colab-df-container\">\n",
              "      <div>\n",
              "<style scoped>\n",
              "    .dataframe tbody tr th:only-of-type {\n",
              "        vertical-align: middle;\n",
              "    }\n",
              "\n",
              "    .dataframe tbody tr th {\n",
              "        vertical-align: top;\n",
              "    }\n",
              "\n",
              "    .dataframe thead th {\n",
              "        text-align: right;\n",
              "    }\n",
              "</style>\n",
              "<table border=\"1\" class=\"dataframe\">\n",
              "  <thead>\n",
              "    <tr style=\"text-align: right;\">\n",
              "      <th></th>\n",
              "      <th>Player_Name</th>\n",
              "      <th>Total_Years_Played</th>\n",
              "      <th>span</th>\n",
              "    </tr>\n",
              "  </thead>\n",
              "  <tbody>\n",
              "    <tr>\n",
              "      <th>0</th>\n",
              "      <td>A Ahmadhel</td>\n",
              "      <td>3</td>\n",
              "      <td>2019-2021</td>\n",
              "    </tr>\n",
              "    <tr>\n",
              "      <th>1</th>\n",
              "      <td>A Andrews</td>\n",
              "      <td>2</td>\n",
              "      <td>2021-2022</td>\n",
              "    </tr>\n",
              "  </tbody>\n",
              "</table>\n",
              "</div>\n",
              "      <button class=\"colab-df-convert\" onclick=\"convertToInteractive('df-2d96a83c-44da-4768-9a41-7f7d582177f9')\"\n",
              "              title=\"Convert this dataframe to an interactive table.\"\n",
              "              style=\"display:none;\">\n",
              "        \n",
              "  <svg xmlns=\"http://www.w3.org/2000/svg\" height=\"24px\"viewBox=\"0 0 24 24\"\n",
              "       width=\"24px\">\n",
              "    <path d=\"M0 0h24v24H0V0z\" fill=\"none\"/>\n",
              "    <path d=\"M18.56 5.44l.94 2.06.94-2.06 2.06-.94-2.06-.94-.94-2.06-.94 2.06-2.06.94zm-11 1L8.5 8.5l.94-2.06 2.06-.94-2.06-.94L8.5 2.5l-.94 2.06-2.06.94zm10 10l.94 2.06.94-2.06 2.06-.94-2.06-.94-.94-2.06-.94 2.06-2.06.94z\"/><path d=\"M17.41 7.96l-1.37-1.37c-.4-.4-.92-.59-1.43-.59-.52 0-1.04.2-1.43.59L10.3 9.45l-7.72 7.72c-.78.78-.78 2.05 0 2.83L4 21.41c.39.39.9.59 1.41.59.51 0 1.02-.2 1.41-.59l7.78-7.78 2.81-2.81c.8-.78.8-2.07 0-2.86zM5.41 20L4 18.59l7.72-7.72 1.47 1.35L5.41 20z\"/>\n",
              "  </svg>\n",
              "      </button>\n",
              "      \n",
              "  <style>\n",
              "    .colab-df-container {\n",
              "      display:flex;\n",
              "      flex-wrap:wrap;\n",
              "      gap: 12px;\n",
              "    }\n",
              "\n",
              "    .colab-df-convert {\n",
              "      background-color: #E8F0FE;\n",
              "      border: none;\n",
              "      border-radius: 50%;\n",
              "      cursor: pointer;\n",
              "      display: none;\n",
              "      fill: #1967D2;\n",
              "      height: 32px;\n",
              "      padding: 0 0 0 0;\n",
              "      width: 32px;\n",
              "    }\n",
              "\n",
              "    .colab-df-convert:hover {\n",
              "      background-color: #E2EBFA;\n",
              "      box-shadow: 0px 1px 2px rgba(60, 64, 67, 0.3), 0px 1px 3px 1px rgba(60, 64, 67, 0.15);\n",
              "      fill: #174EA6;\n",
              "    }\n",
              "\n",
              "    [theme=dark] .colab-df-convert {\n",
              "      background-color: #3B4455;\n",
              "      fill: #D2E3FC;\n",
              "    }\n",
              "\n",
              "    [theme=dark] .colab-df-convert:hover {\n",
              "      background-color: #434B5C;\n",
              "      box-shadow: 0px 1px 3px 1px rgba(0, 0, 0, 0.15);\n",
              "      filter: drop-shadow(0px 1px 2px rgba(0, 0, 0, 0.3));\n",
              "      fill: #FFFFFF;\n",
              "    }\n",
              "  </style>\n",
              "\n",
              "      <script>\n",
              "        const buttonEl =\n",
              "          document.querySelector('#df-2d96a83c-44da-4768-9a41-7f7d582177f9 button.colab-df-convert');\n",
              "        buttonEl.style.display =\n",
              "          google.colab.kernel.accessAllowed ? 'block' : 'none';\n",
              "\n",
              "        async function convertToInteractive(key) {\n",
              "          const element = document.querySelector('#df-2d96a83c-44da-4768-9a41-7f7d582177f9');\n",
              "          const dataTable =\n",
              "            await google.colab.kernel.invokeFunction('convertToInteractive',\n",
              "                                                     [key], {});\n",
              "          if (!dataTable) return;\n",
              "\n",
              "          const docLinkHtml = 'Like what you see? Visit the ' +\n",
              "            '<a target=\"_blank\" href=https://colab.research.google.com/notebooks/data_table.ipynb>data table notebook</a>'\n",
              "            + ' to learn more about interactive tables.';\n",
              "          element.innerHTML = '';\n",
              "          dataTable['output_type'] = 'display_data';\n",
              "          await google.colab.output.renderOutput(dataTable, element);\n",
              "          const docLink = document.createElement('div');\n",
              "          docLink.innerHTML = docLinkHtml;\n",
              "          element.appendChild(docLink);\n",
              "        }\n",
              "      </script>\n",
              "    </div>\n",
              "  </div>\n",
              "  "
            ]
          },
          "metadata": {},
          "execution_count": 63
        }
      ],
      "source": [
        "g.head(2)"
      ]
    },
    {
      "cell_type": "code",
      "execution_count": 64,
      "id": "398f9e9c",
      "metadata": {
        "execution": {
          "iopub.execute_input": "2022-07-07T16:30:44.075004Z",
          "iopub.status.busy": "2022-07-07T16:30:44.074498Z",
          "iopub.status.idle": "2022-07-07T16:30:44.411194Z",
          "shell.execute_reply": "2022-07-07T16:30:44.409769Z"
        },
        "papermill": {
          "duration": 0.385629,
          "end_time": "2022-07-07T16:30:44.414461",
          "exception": false,
          "start_time": "2022-07-07T16:30:44.028832",
          "status": "completed"
        },
        "tags": [],
        "id": "398f9e9c"
      },
      "outputs": [],
      "source": [
        "final_df=final_df.merge(g,on='Player_Name')"
      ]
    },
    {
      "cell_type": "markdown",
      "id": "2abb55fa",
      "metadata": {
        "papermill": {
          "duration": 0.041724,
          "end_time": "2022-07-07T16:30:44.498561",
          "exception": false,
          "start_time": "2022-07-07T16:30:44.456837",
          "status": "completed"
        },
        "tags": [],
        "id": "2abb55fa"
      },
      "source": [
        "# Final Dataset is ready"
      ]
    },
    {
      "cell_type": "code",
      "execution_count": 65,
      "id": "237916ed",
      "metadata": {
        "execution": {
          "iopub.execute_input": "2022-07-07T16:30:44.583901Z",
          "iopub.status.busy": "2022-07-07T16:30:44.582662Z",
          "iopub.status.idle": "2022-07-07T16:30:44.604965Z",
          "shell.execute_reply": "2022-07-07T16:30:44.603553Z"
        },
        "papermill": {
          "duration": 0.067421,
          "end_time": "2022-07-07T16:30:44.607473",
          "exception": false,
          "start_time": "2022-07-07T16:30:44.540052",
          "status": "completed"
        },
        "tags": [],
        "colab": {
          "base_uri": "https://localhost:8080/",
          "height": 228
        },
        "id": "237916ed",
        "outputId": "54f36c1a-a931-4c99-d577-e2761abd70e0"
      },
      "outputs": [
        {
          "output_type": "execute_result",
          "data": {
            "text/plain": [
              "   Runs Mins  BF 4s 6s     SR Inns      Ground Player_Name Team  \\\n",
              "0     0    5   6  0  0      0    1       Leeds  TWM Latham   NZ   \n",
              "1    26  103  60  6  0  43.33    1  Nottingham  TWM Latham   NZ   \n",
              "\n",
              "  situation_of_player Format Opponent Team  year       Day month  \\\n",
              "0                 out   Test       England  2022  Thursday  June   \n",
              "1                 out   Test       England  2022    Friday  June   \n",
              "\n",
              "   Total_Years_Played       span  \n",
              "0                  11  2012-2022  \n",
              "1                  11  2012-2022  "
            ],
            "text/html": [
              "\n",
              "  <div id=\"df-5dd2284a-8343-4854-8e4f-d4681e9fdbc0\">\n",
              "    <div class=\"colab-df-container\">\n",
              "      <div>\n",
              "<style scoped>\n",
              "    .dataframe tbody tr th:only-of-type {\n",
              "        vertical-align: middle;\n",
              "    }\n",
              "\n",
              "    .dataframe tbody tr th {\n",
              "        vertical-align: top;\n",
              "    }\n",
              "\n",
              "    .dataframe thead th {\n",
              "        text-align: right;\n",
              "    }\n",
              "</style>\n",
              "<table border=\"1\" class=\"dataframe\">\n",
              "  <thead>\n",
              "    <tr style=\"text-align: right;\">\n",
              "      <th></th>\n",
              "      <th>Runs</th>\n",
              "      <th>Mins</th>\n",
              "      <th>BF</th>\n",
              "      <th>4s</th>\n",
              "      <th>6s</th>\n",
              "      <th>SR</th>\n",
              "      <th>Inns</th>\n",
              "      <th>Ground</th>\n",
              "      <th>Player_Name</th>\n",
              "      <th>Team</th>\n",
              "      <th>situation_of_player</th>\n",
              "      <th>Format</th>\n",
              "      <th>Opponent Team</th>\n",
              "      <th>year</th>\n",
              "      <th>Day</th>\n",
              "      <th>month</th>\n",
              "      <th>Total_Years_Played</th>\n",
              "      <th>span</th>\n",
              "    </tr>\n",
              "  </thead>\n",
              "  <tbody>\n",
              "    <tr>\n",
              "      <th>0</th>\n",
              "      <td>0</td>\n",
              "      <td>5</td>\n",
              "      <td>6</td>\n",
              "      <td>0</td>\n",
              "      <td>0</td>\n",
              "      <td>0</td>\n",
              "      <td>1</td>\n",
              "      <td>Leeds</td>\n",
              "      <td>TWM Latham</td>\n",
              "      <td>NZ</td>\n",
              "      <td>out</td>\n",
              "      <td>Test</td>\n",
              "      <td>England</td>\n",
              "      <td>2022</td>\n",
              "      <td>Thursday</td>\n",
              "      <td>June</td>\n",
              "      <td>11</td>\n",
              "      <td>2012-2022</td>\n",
              "    </tr>\n",
              "    <tr>\n",
              "      <th>1</th>\n",
              "      <td>26</td>\n",
              "      <td>103</td>\n",
              "      <td>60</td>\n",
              "      <td>6</td>\n",
              "      <td>0</td>\n",
              "      <td>43.33</td>\n",
              "      <td>1</td>\n",
              "      <td>Nottingham</td>\n",
              "      <td>TWM Latham</td>\n",
              "      <td>NZ</td>\n",
              "      <td>out</td>\n",
              "      <td>Test</td>\n",
              "      <td>England</td>\n",
              "      <td>2022</td>\n",
              "      <td>Friday</td>\n",
              "      <td>June</td>\n",
              "      <td>11</td>\n",
              "      <td>2012-2022</td>\n",
              "    </tr>\n",
              "  </tbody>\n",
              "</table>\n",
              "</div>\n",
              "      <button class=\"colab-df-convert\" onclick=\"convertToInteractive('df-5dd2284a-8343-4854-8e4f-d4681e9fdbc0')\"\n",
              "              title=\"Convert this dataframe to an interactive table.\"\n",
              "              style=\"display:none;\">\n",
              "        \n",
              "  <svg xmlns=\"http://www.w3.org/2000/svg\" height=\"24px\"viewBox=\"0 0 24 24\"\n",
              "       width=\"24px\">\n",
              "    <path d=\"M0 0h24v24H0V0z\" fill=\"none\"/>\n",
              "    <path d=\"M18.56 5.44l.94 2.06.94-2.06 2.06-.94-2.06-.94-.94-2.06-.94 2.06-2.06.94zm-11 1L8.5 8.5l.94-2.06 2.06-.94-2.06-.94L8.5 2.5l-.94 2.06-2.06.94zm10 10l.94 2.06.94-2.06 2.06-.94-2.06-.94-.94-2.06-.94 2.06-2.06.94z\"/><path d=\"M17.41 7.96l-1.37-1.37c-.4-.4-.92-.59-1.43-.59-.52 0-1.04.2-1.43.59L10.3 9.45l-7.72 7.72c-.78.78-.78 2.05 0 2.83L4 21.41c.39.39.9.59 1.41.59.51 0 1.02-.2 1.41-.59l7.78-7.78 2.81-2.81c.8-.78.8-2.07 0-2.86zM5.41 20L4 18.59l7.72-7.72 1.47 1.35L5.41 20z\"/>\n",
              "  </svg>\n",
              "      </button>\n",
              "      \n",
              "  <style>\n",
              "    .colab-df-container {\n",
              "      display:flex;\n",
              "      flex-wrap:wrap;\n",
              "      gap: 12px;\n",
              "    }\n",
              "\n",
              "    .colab-df-convert {\n",
              "      background-color: #E8F0FE;\n",
              "      border: none;\n",
              "      border-radius: 50%;\n",
              "      cursor: pointer;\n",
              "      display: none;\n",
              "      fill: #1967D2;\n",
              "      height: 32px;\n",
              "      padding: 0 0 0 0;\n",
              "      width: 32px;\n",
              "    }\n",
              "\n",
              "    .colab-df-convert:hover {\n",
              "      background-color: #E2EBFA;\n",
              "      box-shadow: 0px 1px 2px rgba(60, 64, 67, 0.3), 0px 1px 3px 1px rgba(60, 64, 67, 0.15);\n",
              "      fill: #174EA6;\n",
              "    }\n",
              "\n",
              "    [theme=dark] .colab-df-convert {\n",
              "      background-color: #3B4455;\n",
              "      fill: #D2E3FC;\n",
              "    }\n",
              "\n",
              "    [theme=dark] .colab-df-convert:hover {\n",
              "      background-color: #434B5C;\n",
              "      box-shadow: 0px 1px 3px 1px rgba(0, 0, 0, 0.15);\n",
              "      filter: drop-shadow(0px 1px 2px rgba(0, 0, 0, 0.3));\n",
              "      fill: #FFFFFF;\n",
              "    }\n",
              "  </style>\n",
              "\n",
              "      <script>\n",
              "        const buttonEl =\n",
              "          document.querySelector('#df-5dd2284a-8343-4854-8e4f-d4681e9fdbc0 button.colab-df-convert');\n",
              "        buttonEl.style.display =\n",
              "          google.colab.kernel.accessAllowed ? 'block' : 'none';\n",
              "\n",
              "        async function convertToInteractive(key) {\n",
              "          const element = document.querySelector('#df-5dd2284a-8343-4854-8e4f-d4681e9fdbc0');\n",
              "          const dataTable =\n",
              "            await google.colab.kernel.invokeFunction('convertToInteractive',\n",
              "                                                     [key], {});\n",
              "          if (!dataTable) return;\n",
              "\n",
              "          const docLinkHtml = 'Like what you see? Visit the ' +\n",
              "            '<a target=\"_blank\" href=https://colab.research.google.com/notebooks/data_table.ipynb>data table notebook</a>'\n",
              "            + ' to learn more about interactive tables.';\n",
              "          element.innerHTML = '';\n",
              "          dataTable['output_type'] = 'display_data';\n",
              "          await google.colab.output.renderOutput(dataTable, element);\n",
              "          const docLink = document.createElement('div');\n",
              "          docLink.innerHTML = docLinkHtml;\n",
              "          element.appendChild(docLink);\n",
              "        }\n",
              "      </script>\n",
              "    </div>\n",
              "  </div>\n",
              "  "
            ]
          },
          "metadata": {},
          "execution_count": 65
        }
      ],
      "source": [
        "final_df.head(2)"
      ]
    },
    {
      "cell_type": "markdown",
      "source": [
        "### Grouping the records based on the Format"
      ],
      "metadata": {
        "id": "QHuDjzhvMcdr"
      },
      "id": "QHuDjzhvMcdr"
    },
    {
      "cell_type": "markdown",
      "id": "1e7f866a",
      "metadata": {
        "papermill": {
          "duration": 0.041397,
          "end_time": "2022-07-07T16:30:44.690315",
          "exception": false,
          "start_time": "2022-07-07T16:30:44.648918",
          "status": "completed"
        },
        "tags": [],
        "id": "1e7f866a"
      },
      "source": [
        "#### Test match Dataset"
      ]
    },
    {
      "cell_type": "code",
      "execution_count": 66,
      "id": "a81daf88",
      "metadata": {
        "execution": {
          "iopub.execute_input": "2022-07-07T16:30:44.776591Z",
          "iopub.status.busy": "2022-07-07T16:30:44.775883Z",
          "iopub.status.idle": "2022-07-07T16:30:44.982746Z",
          "shell.execute_reply": "2022-07-07T16:30:44.981441Z"
        },
        "papermill": {
          "duration": 0.253437,
          "end_time": "2022-07-07T16:30:44.985788",
          "exception": false,
          "start_time": "2022-07-07T16:30:44.732351",
          "status": "completed"
        },
        "tags": [],
        "id": "a81daf88"
      },
      "outputs": [],
      "source": [
        "test_match=final_df.groupby('Format').get_group('Test')"
      ]
    },
    {
      "cell_type": "markdown",
      "id": "dfcae934",
      "metadata": {
        "papermill": {
          "duration": 0.042481,
          "end_time": "2022-07-07T16:30:45.071613",
          "exception": false,
          "start_time": "2022-07-07T16:30:45.029132",
          "status": "completed"
        },
        "tags": [],
        "id": "dfcae934"
      },
      "source": [
        "#### One Day International matches"
      ]
    },
    {
      "cell_type": "code",
      "execution_count": 67,
      "id": "29746707",
      "metadata": {
        "execution": {
          "iopub.execute_input": "2022-07-07T16:30:45.159437Z",
          "iopub.status.busy": "2022-07-07T16:30:45.159016Z",
          "iopub.status.idle": "2022-07-07T16:30:45.250011Z",
          "shell.execute_reply": "2022-07-07T16:30:45.248398Z"
        },
        "papermill": {
          "duration": 0.138457,
          "end_time": "2022-07-07T16:30:45.253151",
          "exception": false,
          "start_time": "2022-07-07T16:30:45.114694",
          "status": "completed"
        },
        "tags": [],
        "id": "29746707"
      },
      "outputs": [],
      "source": [
        "odi_match=final_df.groupby('Format').get_group('ODI')"
      ]
    },
    {
      "cell_type": "markdown",
      "id": "78ec8c3e",
      "metadata": {
        "papermill": {
          "duration": 0.042039,
          "end_time": "2022-07-07T16:30:45.338604",
          "exception": false,
          "start_time": "2022-07-07T16:30:45.296565",
          "status": "completed"
        },
        "tags": [],
        "id": "78ec8c3e"
      },
      "source": [
        "#### T20 International matches"
      ]
    },
    {
      "cell_type": "code",
      "execution_count": 68,
      "id": "13fe3b04",
      "metadata": {
        "execution": {
          "iopub.execute_input": "2022-07-07T16:30:45.425521Z",
          "iopub.status.busy": "2022-07-07T16:30:45.424725Z",
          "iopub.status.idle": "2022-07-07T16:30:45.503612Z",
          "shell.execute_reply": "2022-07-07T16:30:45.502416Z"
        },
        "papermill": {
          "duration": 0.1252,
          "end_time": "2022-07-07T16:30:45.506359",
          "exception": false,
          "start_time": "2022-07-07T16:30:45.381159",
          "status": "completed"
        },
        "tags": [],
        "id": "13fe3b04"
      },
      "outputs": [],
      "source": [
        "t20_match=final_df.groupby('Format').get_group('T20I')"
      ]
    },
    {
      "cell_type": "markdown",
      "id": "99a9e67f",
      "metadata": {
        "papermill": {
          "duration": 0.040875,
          "end_time": "2022-07-07T16:30:45.922354",
          "exception": false,
          "start_time": "2022-07-07T16:30:45.881479",
          "status": "completed"
        },
        "tags": [],
        "id": "99a9e67f"
      },
      "source": [
        "## Starting with the analysis of the full dataset - i.e. across all 3 formats"
      ]
    },
    {
      "cell_type": "markdown",
      "source": [
        "### Top 10 players with most runs across formats"
      ],
      "metadata": {
        "id": "ZwSUVy-cNFin"
      },
      "id": "ZwSUVy-cNFin"
    },
    {
      "cell_type": "code",
      "source": [
        "final_df.groupby(['Player_Name','Total_Years_Played','span'])['Runs'].sum().sort_values(ascending=False).reset_index().head(10)"
      ],
      "metadata": {
        "colab": {
          "base_uri": "https://localhost:8080/",
          "height": 363
        },
        "id": "seyA1oSxNMIx",
        "outputId": "61ff4942-ff06-4482-ddac-3f4d472a2939"
      },
      "id": "seyA1oSxNMIx",
      "execution_count": 69,
      "outputs": [
        {
          "output_type": "execute_result",
          "data": {
            "text/plain": [
              "        Player_Name  Total_Years_Played       span   Runs\n",
              "0      SR Tendulkar                  25  1989-2013  34357\n",
              "1     KC Sangakkara                  16  2000-2015  28016\n",
              "2        RT Ponting                  18  1995-2012  27483\n",
              "3  DPMD Jayawardene                  19  1997-2015  25957\n",
              "4         JH Kallis                  20  1995-2014  25534\n",
              "5          R Dravid                  17  1996-2012  24208\n",
              "6           V Kohli                  15  2008-2022  23650\n",
              "7           BC Lara                  18  1990-2007  22358\n",
              "8     ST Jayasuriya                  23  1989-2011  21032\n",
              "9     S Chanderpaul                  22  1994-2015  20988"
            ],
            "text/html": [
              "\n",
              "  <div id=\"df-046f6a77-d479-40e7-84d5-8328010b60da\">\n",
              "    <div class=\"colab-df-container\">\n",
              "      <div>\n",
              "<style scoped>\n",
              "    .dataframe tbody tr th:only-of-type {\n",
              "        vertical-align: middle;\n",
              "    }\n",
              "\n",
              "    .dataframe tbody tr th {\n",
              "        vertical-align: top;\n",
              "    }\n",
              "\n",
              "    .dataframe thead th {\n",
              "        text-align: right;\n",
              "    }\n",
              "</style>\n",
              "<table border=\"1\" class=\"dataframe\">\n",
              "  <thead>\n",
              "    <tr style=\"text-align: right;\">\n",
              "      <th></th>\n",
              "      <th>Player_Name</th>\n",
              "      <th>Total_Years_Played</th>\n",
              "      <th>span</th>\n",
              "      <th>Runs</th>\n",
              "    </tr>\n",
              "  </thead>\n",
              "  <tbody>\n",
              "    <tr>\n",
              "      <th>0</th>\n",
              "      <td>SR Tendulkar</td>\n",
              "      <td>25</td>\n",
              "      <td>1989-2013</td>\n",
              "      <td>34357</td>\n",
              "    </tr>\n",
              "    <tr>\n",
              "      <th>1</th>\n",
              "      <td>KC Sangakkara</td>\n",
              "      <td>16</td>\n",
              "      <td>2000-2015</td>\n",
              "      <td>28016</td>\n",
              "    </tr>\n",
              "    <tr>\n",
              "      <th>2</th>\n",
              "      <td>RT Ponting</td>\n",
              "      <td>18</td>\n",
              "      <td>1995-2012</td>\n",
              "      <td>27483</td>\n",
              "    </tr>\n",
              "    <tr>\n",
              "      <th>3</th>\n",
              "      <td>DPMD Jayawardene</td>\n",
              "      <td>19</td>\n",
              "      <td>1997-2015</td>\n",
              "      <td>25957</td>\n",
              "    </tr>\n",
              "    <tr>\n",
              "      <th>4</th>\n",
              "      <td>JH Kallis</td>\n",
              "      <td>20</td>\n",
              "      <td>1995-2014</td>\n",
              "      <td>25534</td>\n",
              "    </tr>\n",
              "    <tr>\n",
              "      <th>5</th>\n",
              "      <td>R Dravid</td>\n",
              "      <td>17</td>\n",
              "      <td>1996-2012</td>\n",
              "      <td>24208</td>\n",
              "    </tr>\n",
              "    <tr>\n",
              "      <th>6</th>\n",
              "      <td>V Kohli</td>\n",
              "      <td>15</td>\n",
              "      <td>2008-2022</td>\n",
              "      <td>23650</td>\n",
              "    </tr>\n",
              "    <tr>\n",
              "      <th>7</th>\n",
              "      <td>BC Lara</td>\n",
              "      <td>18</td>\n",
              "      <td>1990-2007</td>\n",
              "      <td>22358</td>\n",
              "    </tr>\n",
              "    <tr>\n",
              "      <th>8</th>\n",
              "      <td>ST Jayasuriya</td>\n",
              "      <td>23</td>\n",
              "      <td>1989-2011</td>\n",
              "      <td>21032</td>\n",
              "    </tr>\n",
              "    <tr>\n",
              "      <th>9</th>\n",
              "      <td>S Chanderpaul</td>\n",
              "      <td>22</td>\n",
              "      <td>1994-2015</td>\n",
              "      <td>20988</td>\n",
              "    </tr>\n",
              "  </tbody>\n",
              "</table>\n",
              "</div>\n",
              "      <button class=\"colab-df-convert\" onclick=\"convertToInteractive('df-046f6a77-d479-40e7-84d5-8328010b60da')\"\n",
              "              title=\"Convert this dataframe to an interactive table.\"\n",
              "              style=\"display:none;\">\n",
              "        \n",
              "  <svg xmlns=\"http://www.w3.org/2000/svg\" height=\"24px\"viewBox=\"0 0 24 24\"\n",
              "       width=\"24px\">\n",
              "    <path d=\"M0 0h24v24H0V0z\" fill=\"none\"/>\n",
              "    <path d=\"M18.56 5.44l.94 2.06.94-2.06 2.06-.94-2.06-.94-.94-2.06-.94 2.06-2.06.94zm-11 1L8.5 8.5l.94-2.06 2.06-.94-2.06-.94L8.5 2.5l-.94 2.06-2.06.94zm10 10l.94 2.06.94-2.06 2.06-.94-2.06-.94-.94-2.06-.94 2.06-2.06.94z\"/><path d=\"M17.41 7.96l-1.37-1.37c-.4-.4-.92-.59-1.43-.59-.52 0-1.04.2-1.43.59L10.3 9.45l-7.72 7.72c-.78.78-.78 2.05 0 2.83L4 21.41c.39.39.9.59 1.41.59.51 0 1.02-.2 1.41-.59l7.78-7.78 2.81-2.81c.8-.78.8-2.07 0-2.86zM5.41 20L4 18.59l7.72-7.72 1.47 1.35L5.41 20z\"/>\n",
              "  </svg>\n",
              "      </button>\n",
              "      \n",
              "  <style>\n",
              "    .colab-df-container {\n",
              "      display:flex;\n",
              "      flex-wrap:wrap;\n",
              "      gap: 12px;\n",
              "    }\n",
              "\n",
              "    .colab-df-convert {\n",
              "      background-color: #E8F0FE;\n",
              "      border: none;\n",
              "      border-radius: 50%;\n",
              "      cursor: pointer;\n",
              "      display: none;\n",
              "      fill: #1967D2;\n",
              "      height: 32px;\n",
              "      padding: 0 0 0 0;\n",
              "      width: 32px;\n",
              "    }\n",
              "\n",
              "    .colab-df-convert:hover {\n",
              "      background-color: #E2EBFA;\n",
              "      box-shadow: 0px 1px 2px rgba(60, 64, 67, 0.3), 0px 1px 3px 1px rgba(60, 64, 67, 0.15);\n",
              "      fill: #174EA6;\n",
              "    }\n",
              "\n",
              "    [theme=dark] .colab-df-convert {\n",
              "      background-color: #3B4455;\n",
              "      fill: #D2E3FC;\n",
              "    }\n",
              "\n",
              "    [theme=dark] .colab-df-convert:hover {\n",
              "      background-color: #434B5C;\n",
              "      box-shadow: 0px 1px 3px 1px rgba(0, 0, 0, 0.15);\n",
              "      filter: drop-shadow(0px 1px 2px rgba(0, 0, 0, 0.3));\n",
              "      fill: #FFFFFF;\n",
              "    }\n",
              "  </style>\n",
              "\n",
              "      <script>\n",
              "        const buttonEl =\n",
              "          document.querySelector('#df-046f6a77-d479-40e7-84d5-8328010b60da button.colab-df-convert');\n",
              "        buttonEl.style.display =\n",
              "          google.colab.kernel.accessAllowed ? 'block' : 'none';\n",
              "\n",
              "        async function convertToInteractive(key) {\n",
              "          const element = document.querySelector('#df-046f6a77-d479-40e7-84d5-8328010b60da');\n",
              "          const dataTable =\n",
              "            await google.colab.kernel.invokeFunction('convertToInteractive',\n",
              "                                                     [key], {});\n",
              "          if (!dataTable) return;\n",
              "\n",
              "          const docLinkHtml = 'Like what you see? Visit the ' +\n",
              "            '<a target=\"_blank\" href=https://colab.research.google.com/notebooks/data_table.ipynb>data table notebook</a>'\n",
              "            + ' to learn more about interactive tables.';\n",
              "          element.innerHTML = '';\n",
              "          dataTable['output_type'] = 'display_data';\n",
              "          await google.colab.output.renderOutput(dataTable, element);\n",
              "          const docLink = document.createElement('div');\n",
              "          docLink.innerHTML = docLinkHtml;\n",
              "          element.appendChild(docLink);\n",
              "        }\n",
              "      </script>\n",
              "    </div>\n",
              "  </div>\n",
              "  "
            ]
          },
          "metadata": {},
          "execution_count": 69
        }
      ]
    },
    {
      "cell_type": "code",
      "source": [
        "final_df.groupby('Player_Name')['Runs'].sum().sort_values(ascending=False).head(10).plot(kind='bar',color=sns.color_palette())"
      ],
      "metadata": {
        "colab": {
          "base_uri": "https://localhost:8080/",
          "height": 385
        },
        "id": "VhnQjHIdNqkv",
        "outputId": "f2840ee7-f6ac-4f89-9161-42c4bcb992b6"
      },
      "id": "VhnQjHIdNqkv",
      "execution_count": 72,
      "outputs": [
        {
          "output_type": "execute_result",
          "data": {
            "text/plain": [
              "<matplotlib.axes._subplots.AxesSubplot at 0x7fa6502e3810>"
            ]
          },
          "metadata": {},
          "execution_count": 72
        },
        {
          "output_type": "display_data",
          "data": {
            "text/plain": [
              "<Figure size 432x288 with 1 Axes>"
            ],
            "image/png": "[encoded data removed]"
          },
          "metadata": {
            "needs_background": "light"
          }
        }
      ]
    },
    {
      "cell_type": "markdown",
      "id": "2f61d459",
      "metadata": {
        "papermill": {
          "duration": 0.041955,
          "end_time": "2022-07-07T16:30:46.341468",
          "exception": false,
          "start_time": "2022-07-07T16:30:46.299513",
          "status": "completed"
        },
        "tags": [],
        "id": "2f61d459"
      },
      "source": [
        "### Players with most International centuries"
      ]
    },
    {
      "cell_type": "code",
      "execution_count": 70,
      "id": "b4392505",
      "metadata": {
        "execution": {
          "iopub.execute_input": "2022-07-07T16:30:46.430072Z",
          "iopub.status.busy": "2022-07-07T16:30:46.429650Z",
          "iopub.status.idle": "2022-07-07T16:30:46.459173Z",
          "shell.execute_reply": "2022-07-07T16:30:46.457910Z"
        },
        "papermill": {
          "duration": 0.077224,
          "end_time": "2022-07-07T16:30:46.461557",
          "exception": false,
          "start_time": "2022-07-07T16:30:46.384333",
          "status": "completed"
        },
        "tags": [],
        "colab": {
          "base_uri": "https://localhost:8080/",
          "height": 363
        },
        "id": "b4392505",
        "outputId": "8405a7cb-3834-4731-cc06-1450ad64366b"
      },
      "outputs": [
        {
          "output_type": "execute_result",
          "data": {
            "text/plain": [
              "        Player_Name  Total_Years_Played       span    0\n",
              "0      SR Tendulkar                  25  1989-2013  100\n",
              "1        RT Ponting                  18  1995-2012   71\n",
              "2           V Kohli                  15  2008-2022   70\n",
              "3     KC Sangakkara                  16  2000-2015   63\n",
              "4         JH Kallis                  20  1995-2014   62\n",
              "5           HM Amla                  16  2004-2019   55\n",
              "6  DPMD Jayawardene                  19  1997-2015   54\n",
              "7           BC Lara                  18  1990-2007   53\n",
              "8          R Dravid                  17  1996-2012   48\n",
              "9    AB de Villiers                  15  2004-2018   47"
            ],
            "text/html": [
              "\n",
              "  <div id=\"df-fce59a69-5e5c-4e66-9cdd-f342dddb7dec\">\n",
              "    <div class=\"colab-df-container\">\n",
              "      <div>\n",
              "<style scoped>\n",
              "    .dataframe tbody tr th:only-of-type {\n",
              "        vertical-align: middle;\n",
              "    }\n",
              "\n",
              "    .dataframe tbody tr th {\n",
              "        vertical-align: top;\n",
              "    }\n",
              "\n",
              "    .dataframe thead th {\n",
              "        text-align: right;\n",
              "    }\n",
              "</style>\n",
              "<table border=\"1\" class=\"dataframe\">\n",
              "  <thead>\n",
              "    <tr style=\"text-align: right;\">\n",
              "      <th></th>\n",
              "      <th>Player_Name</th>\n",
              "      <th>Total_Years_Played</th>\n",
              "      <th>span</th>\n",
              "      <th>0</th>\n",
              "    </tr>\n",
              "  </thead>\n",
              "  <tbody>\n",
              "    <tr>\n",
              "      <th>0</th>\n",
              "      <td>SR Tendulkar</td>\n",
              "      <td>25</td>\n",
              "      <td>1989-2013</td>\n",
              "      <td>100</td>\n",
              "    </tr>\n",
              "    <tr>\n",
              "      <th>1</th>\n",
              "      <td>RT Ponting</td>\n",
              "      <td>18</td>\n",
              "      <td>1995-2012</td>\n",
              "      <td>71</td>\n",
              "    </tr>\n",
              "    <tr>\n",
              "      <th>2</th>\n",
              "      <td>V Kohli</td>\n",
              "      <td>15</td>\n",
              "      <td>2008-2022</td>\n",
              "      <td>70</td>\n",
              "    </tr>\n",
              "    <tr>\n",
              "      <th>3</th>\n",
              "      <td>KC Sangakkara</td>\n",
              "      <td>16</td>\n",
              "      <td>2000-2015</td>\n",
              "      <td>63</td>\n",
              "    </tr>\n",
              "    <tr>\n",
              "      <th>4</th>\n",
              "      <td>JH Kallis</td>\n",
              "      <td>20</td>\n",
              "      <td>1995-2014</td>\n",
              "      <td>62</td>\n",
              "    </tr>\n",
              "    <tr>\n",
              "      <th>5</th>\n",
              "      <td>HM Amla</td>\n",
              "      <td>16</td>\n",
              "      <td>2004-2019</td>\n",
              "      <td>55</td>\n",
              "    </tr>\n",
              "    <tr>\n",
              "      <th>6</th>\n",
              "      <td>DPMD Jayawardene</td>\n",
              "      <td>19</td>\n",
              "      <td>1997-2015</td>\n",
              "      <td>54</td>\n",
              "    </tr>\n",
              "    <tr>\n",
              "      <th>7</th>\n",
              "      <td>BC Lara</td>\n",
              "      <td>18</td>\n",
              "      <td>1990-2007</td>\n",
              "      <td>53</td>\n",
              "    </tr>\n",
              "    <tr>\n",
              "      <th>8</th>\n",
              "      <td>R Dravid</td>\n",
              "      <td>17</td>\n",
              "      <td>1996-2012</td>\n",
              "      <td>48</td>\n",
              "    </tr>\n",
              "    <tr>\n",
              "      <th>9</th>\n",
              "      <td>AB de Villiers</td>\n",
              "      <td>15</td>\n",
              "      <td>2004-2018</td>\n",
              "      <td>47</td>\n",
              "    </tr>\n",
              "  </tbody>\n",
              "</table>\n",
              "</div>\n",
              "      <button class=\"colab-df-convert\" onclick=\"convertToInteractive('df-fce59a69-5e5c-4e66-9cdd-f342dddb7dec')\"\n",
              "              title=\"Convert this dataframe to an interactive table.\"\n",
              "              style=\"display:none;\">\n",
              "        \n",
              "  <svg xmlns=\"http://www.w3.org/2000/svg\" height=\"24px\"viewBox=\"0 0 24 24\"\n",
              "       width=\"24px\">\n",
              "    <path d=\"M0 0h24v24H0V0z\" fill=\"none\"/>\n",
              "    <path d=\"M18.56 5.44l.94 2.06.94-2.06 2.06-.94-2.06-.94-.94-2.06-.94 2.06-2.06.94zm-11 1L8.5 8.5l.94-2.06 2.06-.94-2.06-.94L8.5 2.5l-.94 2.06-2.06.94zm10 10l.94 2.06.94-2.06 2.06-.94-2.06-.94-.94-2.06-.94 2.06-2.06.94z\"/><path d=\"M17.41 7.96l-1.37-1.37c-.4-.4-.92-.59-1.43-.59-.52 0-1.04.2-1.43.59L10.3 9.45l-7.72 7.72c-.78.78-.78 2.05 0 2.83L4 21.41c.39.39.9.59 1.41.59.51 0 1.02-.2 1.41-.59l7.78-7.78 2.81-2.81c.8-.78.8-2.07 0-2.86zM5.41 20L4 18.59l7.72-7.72 1.47 1.35L5.41 20z\"/>\n",
              "  </svg>\n",
              "      </button>\n",
              "      \n",
              "  <style>\n",
              "    .colab-df-container {\n",
              "      display:flex;\n",
              "      flex-wrap:wrap;\n",
              "      gap: 12px;\n",
              "    }\n",
              "\n",
              "    .colab-df-convert {\n",
              "      background-color: #E8F0FE;\n",
              "      border: none;\n",
              "      border-radius: 50%;\n",
              "      cursor: pointer;\n",
              "      display: none;\n",
              "      fill: #1967D2;\n",
              "      height: 32px;\n",
              "      padding: 0 0 0 0;\n",
              "      width: 32px;\n",
              "    }\n",
              "\n",
              "    .colab-df-convert:hover {\n",
              "      background-color: #E2EBFA;\n",
              "      box-shadow: 0px 1px 2px rgba(60, 64, 67, 0.3), 0px 1px 3px 1px rgba(60, 64, 67, 0.15);\n",
              "      fill: #174EA6;\n",
              "    }\n",
              "\n",
              "    [theme=dark] .colab-df-convert {\n",
              "      background-color: #3B4455;\n",
              "      fill: #D2E3FC;\n",
              "    }\n",
              "\n",
              "    [theme=dark] .colab-df-convert:hover {\n",
              "      background-color: #434B5C;\n",
              "      box-shadow: 0px 1px 3px 1px rgba(0, 0, 0, 0.15);\n",
              "      filter: drop-shadow(0px 1px 2px rgba(0, 0, 0, 0.3));\n",
              "      fill: #FFFFFF;\n",
              "    }\n",
              "  </style>\n",
              "\n",
              "      <script>\n",
              "        const buttonEl =\n",
              "          document.querySelector('#df-fce59a69-5e5c-4e66-9cdd-f342dddb7dec button.colab-df-convert');\n",
              "        buttonEl.style.display =\n",
              "          google.colab.kernel.accessAllowed ? 'block' : 'none';\n",
              "\n",
              "        async function convertToInteractive(key) {\n",
              "          const element = document.querySelector('#df-fce59a69-5e5c-4e66-9cdd-f342dddb7dec');\n",
              "          const dataTable =\n",
              "            await google.colab.kernel.invokeFunction('convertToInteractive',\n",
              "                                                     [key], {});\n",
              "          if (!dataTable) return;\n",
              "\n",
              "          const docLinkHtml = 'Like what you see? Visit the ' +\n",
              "            '<a target=\"_blank\" href=https://colab.research.google.com/notebooks/data_table.ipynb>data table notebook</a>'\n",
              "            + ' to learn more about interactive tables.';\n",
              "          element.innerHTML = '';\n",
              "          dataTable['output_type'] = 'display_data';\n",
              "          await google.colab.output.renderOutput(dataTable, element);\n",
              "          const docLink = document.createElement('div');\n",
              "          docLink.innerHTML = docLinkHtml;\n",
              "          element.appendChild(docLink);\n",
              "        }\n",
              "      </script>\n",
              "    </div>\n",
              "  </div>\n",
              "  "
            ]
          },
          "metadata": {},
          "execution_count": 70
        }
      ],
      "source": [
        "final_df[(final_df['Runs']>=100)][['Player_Name','Total_Years_Played','span']].value_counts().sort_values(ascending=False).head(10).reset_index()"
      ]
    },
    {
      "cell_type": "code",
      "execution_count": 71,
      "id": "a944e01f",
      "metadata": {
        "execution": {
          "iopub.execute_input": "2022-07-07T16:30:46.547758Z",
          "iopub.status.busy": "2022-07-07T16:30:46.546933Z",
          "iopub.status.idle": "2022-07-07T16:30:46.794323Z",
          "shell.execute_reply": "2022-07-07T16:30:46.793027Z"
        },
        "papermill": {
          "duration": 0.293383,
          "end_time": "2022-07-07T16:30:46.797110",
          "exception": false,
          "start_time": "2022-07-07T16:30:46.503727",
          "status": "completed"
        },
        "tags": [],
        "colab": {
          "base_uri": "https://localhost:8080/",
          "height": 370
        },
        "id": "a944e01f",
        "outputId": "16ff4693-9f01-4929-efde-72ba1838a962"
      },
      "outputs": [
        {
          "output_type": "execute_result",
          "data": {
            "text/plain": [
              "<matplotlib.axes._subplots.AxesSubplot at 0x7fa653fed590>"
            ]
          },
          "metadata": {},
          "execution_count": 71
        },
        {
          "output_type": "display_data",
          "data": {
            "text/plain": [
              "<Figure size 432x288 with 1 Axes>"
            ],
            "image/png": "[encoded data removed]"
          },
          "metadata": {
            "needs_background": "light"
          }
        }
      ],
      "source": [
        "final_df[(final_df['Runs']>=100)]['Player_Name'].value_counts().head(10).plot(kind='bar',color=sns.color_palette())"
      ]
    },
    {
      "cell_type": "markdown",
      "id": "b01f5573",
      "metadata": {
        "papermill": {
          "duration": 0.045247,
          "end_time": "2022-07-07T16:30:47.559498",
          "exception": false,
          "start_time": "2022-07-07T16:30:47.514251",
          "status": "completed"
        },
        "tags": [],
        "id": "b01f5573"
      },
      "source": [
        "### Top 15 players who scored most half-centuries"
      ]
    },
    {
      "cell_type": "code",
      "execution_count": 73,
      "id": "b5f0cc22",
      "metadata": {
        "execution": {
          "iopub.execute_input": "2022-07-07T16:30:47.648994Z",
          "iopub.status.busy": "2022-07-07T16:30:47.648274Z",
          "iopub.status.idle": "2022-07-07T16:30:47.688317Z",
          "shell.execute_reply": "2022-07-07T16:30:47.686991Z"
        },
        "papermill": {
          "duration": 0.087676,
          "end_time": "2022-07-07T16:30:47.690842",
          "exception": false,
          "start_time": "2022-07-07T16:30:47.603166",
          "status": "completed"
        },
        "tags": [],
        "colab": {
          "base_uri": "https://localhost:8080/",
          "height": 363
        },
        "id": "b5f0cc22",
        "outputId": "1985e168-b2f9-4a36-9dc1-3dfd01f9dacc"
      },
      "outputs": [
        {
          "output_type": "execute_result",
          "data": {
            "text/plain": [
              "        Player_Name  Total_Years_Played       span    0\n",
              "0      SR Tendulkar                  25  1989-2013  164\n",
              "1     KC Sangakkara                  16  2000-2015  153\n",
              "2         JH Kallis                  20  1995-2014  149\n",
              "3          R Dravid                  17  1996-2012  146\n",
              "4        RT Ponting                  18  1995-2012  146\n",
              "5  DPMD Jayawardene                  19  1997-2015  136\n",
              "6    Inzamam-ul-Haq                  17  1991-2007  129\n",
              "7     S Chanderpaul                  22  1994-2015  125\n",
              "8           V Kohli                  15  2008-2022  122\n",
              "9           BC Lara                  18  1990-2007  111"
            ],
            "text/html": [
              "\n",
              "  <div id=\"df-a6263913-f5c8-460d-a709-c0bb217e2984\">\n",
              "    <div class=\"colab-df-container\">\n",
              "      <div>\n",
              "<style scoped>\n",
              "    .dataframe tbody tr th:only-of-type {\n",
              "        vertical-align: middle;\n",
              "    }\n",
              "\n",
              "    .dataframe tbody tr th {\n",
              "        vertical-align: top;\n",
              "    }\n",
              "\n",
              "    .dataframe thead th {\n",
              "        text-align: right;\n",
              "    }\n",
              "</style>\n",
              "<table border=\"1\" class=\"dataframe\">\n",
              "  <thead>\n",
              "    <tr style=\"text-align: right;\">\n",
              "      <th></th>\n",
              "      <th>Player_Name</th>\n",
              "      <th>Total_Years_Played</th>\n",
              "      <th>span</th>\n",
              "      <th>0</th>\n",
              "    </tr>\n",
              "  </thead>\n",
              "  <tbody>\n",
              "    <tr>\n",
              "      <th>0</th>\n",
              "      <td>SR Tendulkar</td>\n",
              "      <td>25</td>\n",
              "      <td>1989-2013</td>\n",
              "      <td>164</td>\n",
              "    </tr>\n",
              "    <tr>\n",
              "      <th>1</th>\n",
              "      <td>KC Sangakkara</td>\n",
              "      <td>16</td>\n",
              "      <td>2000-2015</td>\n",
              "      <td>153</td>\n",
              "    </tr>\n",
              "    <tr>\n",
              "      <th>2</th>\n",
              "      <td>JH Kallis</td>\n",
              "      <td>20</td>\n",
              "      <td>1995-2014</td>\n",
              "      <td>149</td>\n",
              "    </tr>\n",
              "    <tr>\n",
              "      <th>3</th>\n",
              "      <td>R Dravid</td>\n",
              "      <td>17</td>\n",
              "      <td>1996-2012</td>\n",
              "      <td>146</td>\n",
              "    </tr>\n",
              "    <tr>\n",
              "      <th>4</th>\n",
              "      <td>RT Ponting</td>\n",
              "      <td>18</td>\n",
              "      <td>1995-2012</td>\n",
              "      <td>146</td>\n",
              "    </tr>\n",
              "    <tr>\n",
              "      <th>5</th>\n",
              "      <td>DPMD Jayawardene</td>\n",
              "      <td>19</td>\n",
              "      <td>1997-2015</td>\n",
              "      <td>136</td>\n",
              "    </tr>\n",
              "    <tr>\n",
              "      <th>6</th>\n",
              "      <td>Inzamam-ul-Haq</td>\n",
              "      <td>17</td>\n",
              "      <td>1991-2007</td>\n",
              "      <td>129</td>\n",
              "    </tr>\n",
              "    <tr>\n",
              "      <th>7</th>\n",
              "      <td>S Chanderpaul</td>\n",
              "      <td>22</td>\n",
              "      <td>1994-2015</td>\n",
              "      <td>125</td>\n",
              "    </tr>\n",
              "    <tr>\n",
              "      <th>8</th>\n",
              "      <td>V Kohli</td>\n",
              "      <td>15</td>\n",
              "      <td>2008-2022</td>\n",
              "      <td>122</td>\n",
              "    </tr>\n",
              "    <tr>\n",
              "      <th>9</th>\n",
              "      <td>BC Lara</td>\n",
              "      <td>18</td>\n",
              "      <td>1990-2007</td>\n",
              "      <td>111</td>\n",
              "    </tr>\n",
              "  </tbody>\n",
              "</table>\n",
              "</div>\n",
              "      <button class=\"colab-df-convert\" onclick=\"convertToInteractive('df-a6263913-f5c8-460d-a709-c0bb217e2984')\"\n",
              "              title=\"Convert this dataframe to an interactive table.\"\n",
              "              style=\"display:none;\">\n",
              "        \n",
              "  <svg xmlns=\"http://www.w3.org/2000/svg\" height=\"24px\"viewBox=\"0 0 24 24\"\n",
              "       width=\"24px\">\n",
              "    <path d=\"M0 0h24v24H0V0z\" fill=\"none\"/>\n",
              "    <path d=\"M18.56 5.44l.94 2.06.94-2.06 2.06-.94-2.06-.94-.94-2.06-.94 2.06-2.06.94zm-11 1L8.5 8.5l.94-2.06 2.06-.94-2.06-.94L8.5 2.5l-.94 2.06-2.06.94zm10 10l.94 2.06.94-2.06 2.06-.94-2.06-.94-.94-2.06-.94 2.06-2.06.94z\"/><path d=\"M17.41 7.96l-1.37-1.37c-.4-.4-.92-.59-1.43-.59-.52 0-1.04.2-1.43.59L10.3 9.45l-7.72 7.72c-.78.78-.78 2.05 0 2.83L4 21.41c.39.39.9.59 1.41.59.51 0 1.02-.2 1.41-.59l7.78-7.78 2.81-2.81c.8-.78.8-2.07 0-2.86zM5.41 20L4 18.59l7.72-7.72 1.47 1.35L5.41 20z\"/>\n",
              "  </svg>\n",
              "      </button>\n",
              "      \n",
              "  <style>\n",
              "    .colab-df-container {\n",
              "      display:flex;\n",
              "      flex-wrap:wrap;\n",
              "      gap: 12px;\n",
              "    }\n",
              "\n",
              "    .colab-df-convert {\n",
              "      background-color: #E8F0FE;\n",
              "      border: none;\n",
              "      border-radius: 50%;\n",
              "      cursor: pointer;\n",
              "      display: none;\n",
              "      fill: #1967D2;\n",
              "      height: 32px;\n",
              "      padding: 0 0 0 0;\n",
              "      width: 32px;\n",
              "    }\n",
              "\n",
              "    .colab-df-convert:hover {\n",
              "      background-color: #E2EBFA;\n",
              "      box-shadow: 0px 1px 2px rgba(60, 64, 67, 0.3), 0px 1px 3px 1px rgba(60, 64, 67, 0.15);\n",
              "      fill: #174EA6;\n",
              "    }\n",
              "\n",
              "    [theme=dark] .colab-df-convert {\n",
              "      background-color: #3B4455;\n",
              "      fill: #D2E3FC;\n",
              "    }\n",
              "\n",
              "    [theme=dark] .colab-df-convert:hover {\n",
              "      background-color: #434B5C;\n",
              "      box-shadow: 0px 1px 3px 1px rgba(0, 0, 0, 0.15);\n",
              "      filter: drop-shadow(0px 1px 2px rgba(0, 0, 0, 0.3));\n",
              "      fill: #FFFFFF;\n",
              "    }\n",
              "  </style>\n",
              "\n",
              "      <script>\n",
              "        const buttonEl =\n",
              "          document.querySelector('#df-a6263913-f5c8-460d-a709-c0bb217e2984 button.colab-df-convert');\n",
              "        buttonEl.style.display =\n",
              "          google.colab.kernel.accessAllowed ? 'block' : 'none';\n",
              "\n",
              "        async function convertToInteractive(key) {\n",
              "          const element = document.querySelector('#df-a6263913-f5c8-460d-a709-c0bb217e2984');\n",
              "          const dataTable =\n",
              "            await google.colab.kernel.invokeFunction('convertToInteractive',\n",
              "                                                     [key], {});\n",
              "          if (!dataTable) return;\n",
              "\n",
              "          const docLinkHtml = 'Like what you see? Visit the ' +\n",
              "            '<a target=\"_blank\" href=https://colab.research.google.com/notebooks/data_table.ipynb>data table notebook</a>'\n",
              "            + ' to learn more about interactive tables.';\n",
              "          element.innerHTML = '';\n",
              "          dataTable['output_type'] = 'display_data';\n",
              "          await google.colab.output.renderOutput(dataTable, element);\n",
              "          const docLink = document.createElement('div');\n",
              "          docLink.innerHTML = docLinkHtml;\n",
              "          element.appendChild(docLink);\n",
              "        }\n",
              "      </script>\n",
              "    </div>\n",
              "  </div>\n",
              "  "
            ]
          },
          "metadata": {},
          "execution_count": 73
        }
      ],
      "source": [
        "final_df[(final_df['Runs']>=50) & (final_df['Runs']<100)][['Player_Name','Total_Years_Played','span']].value_counts().sort_values(ascending=False).head(10).reset_index()"
      ]
    },
    {
      "cell_type": "code",
      "execution_count": 74,
      "id": "058d545d",
      "metadata": {
        "execution": {
          "iopub.execute_input": "2022-07-07T16:30:47.783754Z",
          "iopub.status.busy": "2022-07-07T16:30:47.782995Z",
          "iopub.status.idle": "2022-07-07T16:30:48.156722Z",
          "shell.execute_reply": "2022-07-07T16:30:48.155400Z"
        },
        "papermill": {
          "duration": 0.42281,
          "end_time": "2022-07-07T16:30:48.159424",
          "exception": false,
          "start_time": "2022-07-07T16:30:47.736614",
          "status": "completed"
        },
        "tags": [],
        "colab": {
          "base_uri": "https://localhost:8080/",
          "height": 370
        },
        "id": "058d545d",
        "outputId": "50e2aef7-2e75-4fdb-a148-cc5d44fc5f8e"
      },
      "outputs": [
        {
          "output_type": "execute_result",
          "data": {
            "text/plain": [
              "<matplotlib.axes._subplots.AxesSubplot at 0x7fa653e9ad90>"
            ]
          },
          "metadata": {},
          "execution_count": 74
        },
        {
          "output_type": "display_data",
          "data": {
            "text/plain": [
              "<Figure size 432x288 with 1 Axes>"
            ],
            "image/png": "[encoded data removed]"
          },
          "metadata": {
            "needs_background": "light"
          }
        }
      ],
      "source": [
        "final_df[(final_df['Runs']>=50) & (final_df['Runs']<100)]['Player_Name'].value_counts().head(12).plot(kind='bar',color=sns.color_palette())"
      ]
    },
    {
      "cell_type": "code",
      "execution_count": 75,
      "id": "3d7b5c1e",
      "metadata": {
        "execution": {
          "iopub.execute_input": "2022-07-07T16:30:48.250124Z",
          "iopub.status.busy": "2022-07-07T16:30:48.249663Z",
          "iopub.status.idle": "2022-07-07T16:30:48.261051Z",
          "shell.execute_reply": "2022-07-07T16:30:48.259818Z"
        },
        "papermill": {
          "duration": 0.059891,
          "end_time": "2022-07-07T16:30:48.263562",
          "exception": false,
          "start_time": "2022-07-07T16:30:48.203671",
          "status": "completed"
        },
        "tags": [],
        "colab": {
          "base_uri": "https://localhost:8080/"
        },
        "id": "3d7b5c1e",
        "outputId": "06001b25-643f-423c-9fb5-69342c8681bd"
      },
      "outputs": [
        {
          "output_type": "execute_result",
          "data": {
            "text/plain": [
              "258"
            ]
          },
          "metadata": {},
          "execution_count": 75
        }
      ],
      "source": [
        "# Number of instances where batsman scored a double century but not a triple century\n",
        "\n",
        "final_df[(final_df['Runs']>=200) & (final_df['Runs']<300)].shape[0]"
      ]
    },
    {
      "cell_type": "markdown",
      "id": "4523ef6b",
      "metadata": {
        "papermill": {
          "duration": 0.043301,
          "end_time": "2022-07-07T16:30:48.350967",
          "exception": false,
          "start_time": "2022-07-07T16:30:48.307666",
          "status": "completed"
        },
        "tags": [],
        "id": "4523ef6b"
      },
      "source": [
        "### Top 15 players with most scores of 200+"
      ]
    },
    {
      "cell_type": "code",
      "execution_count": 76,
      "id": "8fec7946",
      "metadata": {
        "execution": {
          "iopub.execute_input": "2022-07-07T16:30:48.443884Z",
          "iopub.status.busy": "2022-07-07T16:30:48.442763Z",
          "iopub.status.idle": "2022-07-07T16:30:48.459863Z",
          "shell.execute_reply": "2022-07-07T16:30:48.458633Z"
        },
        "papermill": {
          "duration": 0.06542,
          "end_time": "2022-07-07T16:30:48.462446",
          "exception": false,
          "start_time": "2022-07-07T16:30:48.397026",
          "status": "completed"
        },
        "tags": [],
        "colab": {
          "base_uri": "https://localhost:8080/",
          "height": 488
        },
        "id": "8fec7946",
        "outputId": "b07ecaab-6050-4c1b-f2e5-2501d34fd123"
      },
      "outputs": [
        {
          "output_type": "execute_result",
          "data": {
            "text/plain": [
              "               index  Player_Name\n",
              "0      KC Sangakkara           11\n",
              "1            BC Lara            9\n",
              "2            V Kohli            7\n",
              "3   DPMD Jayawardene            7\n",
              "4       SR Tendulkar            7\n",
              "5           V Sehwag            7\n",
              "6         RT Ponting            6\n",
              "7        Younis Khan            6\n",
              "8        MS Atapattu            6\n",
              "9           R Dravid            5\n",
              "10           AN Cook            5\n",
              "11          GC Smith            5\n",
              "12           JE Root            5\n",
              "13     Javed Miandad            5"
            ],
            "text/html": [
              "\n",
              "  <div id=\"df-3abadb7f-384f-41b7-8438-4fc0865ba10f\">\n",
              "    <div class=\"colab-df-container\">\n",
              "      <div>\n",
              "<style scoped>\n",
              "    .dataframe tbody tr th:only-of-type {\n",
              "        vertical-align: middle;\n",
              "    }\n",
              "\n",
              "    .dataframe tbody tr th {\n",
              "        vertical-align: top;\n",
              "    }\n",
              "\n",
              "    .dataframe thead th {\n",
              "        text-align: right;\n",
              "    }\n",
              "</style>\n",
              "<table border=\"1\" class=\"dataframe\">\n",
              "  <thead>\n",
              "    <tr style=\"text-align: right;\">\n",
              "      <th></th>\n",
              "      <th>index</th>\n",
              "      <th>Player_Name</th>\n",
              "    </tr>\n",
              "  </thead>\n",
              "  <tbody>\n",
              "    <tr>\n",
              "      <th>0</th>\n",
              "      <td>KC Sangakkara</td>\n",
              "      <td>11</td>\n",
              "    </tr>\n",
              "    <tr>\n",
              "      <th>1</th>\n",
              "      <td>BC Lara</td>\n",
              "      <td>9</td>\n",
              "    </tr>\n",
              "    <tr>\n",
              "      <th>2</th>\n",
              "      <td>V Kohli</td>\n",
              "      <td>7</td>\n",
              "    </tr>\n",
              "    <tr>\n",
              "      <th>3</th>\n",
              "      <td>DPMD Jayawardene</td>\n",
              "      <td>7</td>\n",
              "    </tr>\n",
              "    <tr>\n",
              "      <th>4</th>\n",
              "      <td>SR Tendulkar</td>\n",
              "      <td>7</td>\n",
              "    </tr>\n",
              "    <tr>\n",
              "      <th>5</th>\n",
              "      <td>V Sehwag</td>\n",
              "      <td>7</td>\n",
              "    </tr>\n",
              "    <tr>\n",
              "      <th>6</th>\n",
              "      <td>RT Ponting</td>\n",
              "      <td>6</td>\n",
              "    </tr>\n",
              "    <tr>\n",
              "      <th>7</th>\n",
              "      <td>Younis Khan</td>\n",
              "      <td>6</td>\n",
              "    </tr>\n",
              "    <tr>\n",
              "      <th>8</th>\n",
              "      <td>MS Atapattu</td>\n",
              "      <td>6</td>\n",
              "    </tr>\n",
              "    <tr>\n",
              "      <th>9</th>\n",
              "      <td>R Dravid</td>\n",
              "      <td>5</td>\n",
              "    </tr>\n",
              "    <tr>\n",
              "      <th>10</th>\n",
              "      <td>AN Cook</td>\n",
              "      <td>5</td>\n",
              "    </tr>\n",
              "    <tr>\n",
              "      <th>11</th>\n",
              "      <td>GC Smith</td>\n",
              "      <td>5</td>\n",
              "    </tr>\n",
              "    <tr>\n",
              "      <th>12</th>\n",
              "      <td>JE Root</td>\n",
              "      <td>5</td>\n",
              "    </tr>\n",
              "    <tr>\n",
              "      <th>13</th>\n",
              "      <td>Javed Miandad</td>\n",
              "      <td>5</td>\n",
              "    </tr>\n",
              "  </tbody>\n",
              "</table>\n",
              "</div>\n",
              "      <button class=\"colab-df-convert\" onclick=\"convertToInteractive('df-3abadb7f-384f-41b7-8438-4fc0865ba10f')\"\n",
              "              title=\"Convert this dataframe to an interactive table.\"\n",
              "              style=\"display:none;\">\n",
              "        \n",
              "  <svg xmlns=\"http://www.w3.org/2000/svg\" height=\"24px\"viewBox=\"0 0 24 24\"\n",
              "       width=\"24px\">\n",
              "    <path d=\"M0 0h24v24H0V0z\" fill=\"none\"/>\n",
              "    <path d=\"M18.56 5.44l.94 2.06.94-2.06 2.06-.94-2.06-.94-.94-2.06-.94 2.06-2.06.94zm-11 1L8.5 8.5l.94-2.06 2.06-.94-2.06-.94L8.5 2.5l-.94 2.06-2.06.94zm10 10l.94 2.06.94-2.06 2.06-.94-2.06-.94-.94-2.06-.94 2.06-2.06.94z\"/><path d=\"M17.41 7.96l-1.37-1.37c-.4-.4-.92-.59-1.43-.59-.52 0-1.04.2-1.43.59L10.3 9.45l-7.72 7.72c-.78.78-.78 2.05 0 2.83L4 21.41c.39.39.9.59 1.41.59.51 0 1.02-.2 1.41-.59l7.78-7.78 2.81-2.81c.8-.78.8-2.07 0-2.86zM5.41 20L4 18.59l7.72-7.72 1.47 1.35L5.41 20z\"/>\n",
              "  </svg>\n",
              "      </button>\n",
              "      \n",
              "  <style>\n",
              "    .colab-df-container {\n",
              "      display:flex;\n",
              "      flex-wrap:wrap;\n",
              "      gap: 12px;\n",
              "    }\n",
              "\n",
              "    .colab-df-convert {\n",
              "      background-color: #E8F0FE;\n",
              "      border: none;\n",
              "      border-radius: 50%;\n",
              "      cursor: pointer;\n",
              "      display: none;\n",
              "      fill: #1967D2;\n",
              "      height: 32px;\n",
              "      padding: 0 0 0 0;\n",
              "      width: 32px;\n",
              "    }\n",
              "\n",
              "    .colab-df-convert:hover {\n",
              "      background-color: #E2EBFA;\n",
              "      box-shadow: 0px 1px 2px rgba(60, 64, 67, 0.3), 0px 1px 3px 1px rgba(60, 64, 67, 0.15);\n",
              "      fill: #174EA6;\n",
              "    }\n",
              "\n",
              "    [theme=dark] .colab-df-convert {\n",
              "      background-color: #3B4455;\n",
              "      fill: #D2E3FC;\n",
              "    }\n",
              "\n",
              "    [theme=dark] .colab-df-convert:hover {\n",
              "      background-color: #434B5C;\n",
              "      box-shadow: 0px 1px 3px 1px rgba(0, 0, 0, 0.15);\n",
              "      filter: drop-shadow(0px 1px 2px rgba(0, 0, 0, 0.3));\n",
              "      fill: #FFFFFF;\n",
              "    }\n",
              "  </style>\n",
              "\n",
              "      <script>\n",
              "        const buttonEl =\n",
              "          document.querySelector('#df-3abadb7f-384f-41b7-8438-4fc0865ba10f button.colab-df-convert');\n",
              "        buttonEl.style.display =\n",
              "          google.colab.kernel.accessAllowed ? 'block' : 'none';\n",
              "\n",
              "        async function convertToInteractive(key) {\n",
              "          const element = document.querySelector('#df-3abadb7f-384f-41b7-8438-4fc0865ba10f');\n",
              "          const dataTable =\n",
              "            await google.colab.kernel.invokeFunction('convertToInteractive',\n",
              "                                                     [key], {});\n",
              "          if (!dataTable) return;\n",
              "\n",
              "          const docLinkHtml = 'Like what you see? Visit the ' +\n",
              "            '<a target=\"_blank\" href=https://colab.research.google.com/notebooks/data_table.ipynb>data table notebook</a>'\n",
              "            + ' to learn more about interactive tables.';\n",
              "          element.innerHTML = '';\n",
              "          dataTable['output_type'] = 'display_data';\n",
              "          await google.colab.output.renderOutput(dataTable, element);\n",
              "          const docLink = document.createElement('div');\n",
              "          docLink.innerHTML = docLinkHtml;\n",
              "          element.appendChild(docLink);\n",
              "        }\n",
              "      </script>\n",
              "    </div>\n",
              "  </div>\n",
              "  "
            ]
          },
          "metadata": {},
          "execution_count": 76
        }
      ],
      "source": [
        "final_df[(final_df['Runs']>=200)]['Player_Name'].value_counts().head(14).reset_index()"
      ]
    },
    {
      "cell_type": "markdown",
      "id": "963aba75",
      "metadata": {
        "papermill": {
          "duration": 0.044188,
          "end_time": "2022-07-07T16:30:48.551346",
          "exception": false,
          "start_time": "2022-07-07T16:30:48.507158",
          "status": "completed"
        },
        "tags": [],
        "id": "963aba75"
      },
      "source": [
        "### Players scoring 300+ runs"
      ]
    },
    {
      "cell_type": "code",
      "execution_count": 77,
      "id": "f1ede697",
      "metadata": {
        "execution": {
          "iopub.execute_input": "2022-07-07T16:30:48.643351Z",
          "iopub.status.busy": "2022-07-07T16:30:48.642485Z",
          "iopub.status.idle": "2022-07-07T16:30:48.659689Z",
          "shell.execute_reply": "2022-07-07T16:30:48.658713Z"
        },
        "papermill": {
          "duration": 0.065661,
          "end_time": "2022-07-07T16:30:48.662068",
          "exception": false,
          "start_time": "2022-07-07T16:30:48.596407",
          "status": "completed"
        },
        "tags": [],
        "colab": {
          "base_uri": "https://localhost:8080/",
          "height": 582
        },
        "id": "f1ede697",
        "outputId": "3fe4334f-a077-4299-8ee9-186cd2137929"
      },
      "outputs": [
        {
          "output_type": "execute_result",
          "data": {
            "text/plain": [
              "               index  Player_Name\n",
              "0            BC Lara            2\n",
              "1           CH Gayle            2\n",
              "2           V Sehwag            2\n",
              "3     Inzamam-ul-Haq            1\n",
              "4        BB McCullum            1\n",
              "5            KK Nair            1\n",
              "6            HM Amla            1\n",
              "7        Younis Khan            1\n",
              "8      KC Sangakkara            1\n",
              "9          MJ Clarke            1\n",
              "10         ML Hayden            1\n",
              "11          GA Gooch            1\n",
              "12         MA Taylor            1\n",
              "13         DA Warner            1\n",
              "14     ST Jayasuriya            1\n",
              "15  DPMD Jayawardene            1\n",
              "16         Azhar Ali            1"
            ],
            "text/html": [
              "\n",
              "  <div id=\"df-c5cfd8d0-e786-4ef9-add2-4954e9e0787c\">\n",
              "    <div class=\"colab-df-container\">\n",
              "      <div>\n",
              "<style scoped>\n",
              "    .dataframe tbody tr th:only-of-type {\n",
              "        vertical-align: middle;\n",
              "    }\n",
              "\n",
              "    .dataframe tbody tr th {\n",
              "        vertical-align: top;\n",
              "    }\n",
              "\n",
              "    .dataframe thead th {\n",
              "        text-align: right;\n",
              "    }\n",
              "</style>\n",
              "<table border=\"1\" class=\"dataframe\">\n",
              "  <thead>\n",
              "    <tr style=\"text-align: right;\">\n",
              "      <th></th>\n",
              "      <th>index</th>\n",
              "      <th>Player_Name</th>\n",
              "    </tr>\n",
              "  </thead>\n",
              "  <tbody>\n",
              "    <tr>\n",
              "      <th>0</th>\n",
              "      <td>BC Lara</td>\n",
              "      <td>2</td>\n",
              "    </tr>\n",
              "    <tr>\n",
              "      <th>1</th>\n",
              "      <td>CH Gayle</td>\n",
              "      <td>2</td>\n",
              "    </tr>\n",
              "    <tr>\n",
              "      <th>2</th>\n",
              "      <td>V Sehwag</td>\n",
              "      <td>2</td>\n",
              "    </tr>\n",
              "    <tr>\n",
              "      <th>3</th>\n",
              "      <td>Inzamam-ul-Haq</td>\n",
              "      <td>1</td>\n",
              "    </tr>\n",
              "    <tr>\n",
              "      <th>4</th>\n",
              "      <td>BB McCullum</td>\n",
              "      <td>1</td>\n",
              "    </tr>\n",
              "    <tr>\n",
              "      <th>5</th>\n",
              "      <td>KK Nair</td>\n",
              "      <td>1</td>\n",
              "    </tr>\n",
              "    <tr>\n",
              "      <th>6</th>\n",
              "      <td>HM Amla</td>\n",
              "      <td>1</td>\n",
              "    </tr>\n",
              "    <tr>\n",
              "      <th>7</th>\n",
              "      <td>Younis Khan</td>\n",
              "      <td>1</td>\n",
              "    </tr>\n",
              "    <tr>\n",
              "      <th>8</th>\n",
              "      <td>KC Sangakkara</td>\n",
              "      <td>1</td>\n",
              "    </tr>\n",
              "    <tr>\n",
              "      <th>9</th>\n",
              "      <td>MJ Clarke</td>\n",
              "      <td>1</td>\n",
              "    </tr>\n",
              "    <tr>\n",
              "      <th>10</th>\n",
              "      <td>ML Hayden</td>\n",
              "      <td>1</td>\n",
              "    </tr>\n",
              "    <tr>\n",
              "      <th>11</th>\n",
              "      <td>GA Gooch</td>\n",
              "      <td>1</td>\n",
              "    </tr>\n",
              "    <tr>\n",
              "      <th>12</th>\n",
              "      <td>MA Taylor</td>\n",
              "      <td>1</td>\n",
              "    </tr>\n",
              "    <tr>\n",
              "      <th>13</th>\n",
              "      <td>DA Warner</td>\n",
              "      <td>1</td>\n",
              "    </tr>\n",
              "    <tr>\n",
              "      <th>14</th>\n",
              "      <td>ST Jayasuriya</td>\n",
              "      <td>1</td>\n",
              "    </tr>\n",
              "    <tr>\n",
              "      <th>15</th>\n",
              "      <td>DPMD Jayawardene</td>\n",
              "      <td>1</td>\n",
              "    </tr>\n",
              "    <tr>\n",
              "      <th>16</th>\n",
              "      <td>Azhar Ali</td>\n",
              "      <td>1</td>\n",
              "    </tr>\n",
              "  </tbody>\n",
              "</table>\n",
              "</div>\n",
              "      <button class=\"colab-df-convert\" onclick=\"convertToInteractive('df-c5cfd8d0-e786-4ef9-add2-4954e9e0787c')\"\n",
              "              title=\"Convert this dataframe to an interactive table.\"\n",
              "              style=\"display:none;\">\n",
              "        \n",
              "  <svg xmlns=\"http://www.w3.org/2000/svg\" height=\"24px\"viewBox=\"0 0 24 24\"\n",
              "       width=\"24px\">\n",
              "    <path d=\"M0 0h24v24H0V0z\" fill=\"none\"/>\n",
              "    <path d=\"M18.56 5.44l.94 2.06.94-2.06 2.06-.94-2.06-.94-.94-2.06-.94 2.06-2.06.94zm-11 1L8.5 8.5l.94-2.06 2.06-.94-2.06-.94L8.5 2.5l-.94 2.06-2.06.94zm10 10l.94 2.06.94-2.06 2.06-.94-2.06-.94-.94-2.06-.94 2.06-2.06.94z\"/><path d=\"M17.41 7.96l-1.37-1.37c-.4-.4-.92-.59-1.43-.59-.52 0-1.04.2-1.43.59L10.3 9.45l-7.72 7.72c-.78.78-.78 2.05 0 2.83L4 21.41c.39.39.9.59 1.41.59.51 0 1.02-.2 1.41-.59l7.78-7.78 2.81-2.81c.8-.78.8-2.07 0-2.86zM5.41 20L4 18.59l7.72-7.72 1.47 1.35L5.41 20z\"/>\n",
              "  </svg>\n",
              "      </button>\n",
              "      \n",
              "  <style>\n",
              "    .colab-df-container {\n",
              "      display:flex;\n",
              "      flex-wrap:wrap;\n",
              "      gap: 12px;\n",
              "    }\n",
              "\n",
              "    .colab-df-convert {\n",
              "      background-color: #E8F0FE;\n",
              "      border: none;\n",
              "      border-radius: 50%;\n",
              "      cursor: pointer;\n",
              "      display: none;\n",
              "      fill: #1967D2;\n",
              "      height: 32px;\n",
              "      padding: 0 0 0 0;\n",
              "      width: 32px;\n",
              "    }\n",
              "\n",
              "    .colab-df-convert:hover {\n",
              "      background-color: #E2EBFA;\n",
              "      box-shadow: 0px 1px 2px rgba(60, 64, 67, 0.3), 0px 1px 3px 1px rgba(60, 64, 67, 0.15);\n",
              "      fill: #174EA6;\n",
              "    }\n",
              "\n",
              "    [theme=dark] .colab-df-convert {\n",
              "      background-color: #3B4455;\n",
              "      fill: #D2E3FC;\n",
              "    }\n",
              "\n",
              "    [theme=dark] .colab-df-convert:hover {\n",
              "      background-color: #434B5C;\n",
              "      box-shadow: 0px 1px 3px 1px rgba(0, 0, 0, 0.15);\n",
              "      filter: drop-shadow(0px 1px 2px rgba(0, 0, 0, 0.3));\n",
              "      fill: #FFFFFF;\n",
              "    }\n",
              "  </style>\n",
              "\n",
              "      <script>\n",
              "        const buttonEl =\n",
              "          document.querySelector('#df-c5cfd8d0-e786-4ef9-add2-4954e9e0787c button.colab-df-convert');\n",
              "        buttonEl.style.display =\n",
              "          google.colab.kernel.accessAllowed ? 'block' : 'none';\n",
              "\n",
              "        async function convertToInteractive(key) {\n",
              "          const element = document.querySelector('#df-c5cfd8d0-e786-4ef9-add2-4954e9e0787c');\n",
              "          const dataTable =\n",
              "            await google.colab.kernel.invokeFunction('convertToInteractive',\n",
              "                                                     [key], {});\n",
              "          if (!dataTable) return;\n",
              "\n",
              "          const docLinkHtml = 'Like what you see? Visit the ' +\n",
              "            '<a target=\"_blank\" href=https://colab.research.google.com/notebooks/data_table.ipynb>data table notebook</a>'\n",
              "            + ' to learn more about interactive tables.';\n",
              "          element.innerHTML = '';\n",
              "          dataTable['output_type'] = 'display_data';\n",
              "          await google.colab.output.renderOutput(dataTable, element);\n",
              "          const docLink = document.createElement('div');\n",
              "          docLink.innerHTML = docLinkHtml;\n",
              "          element.appendChild(docLink);\n",
              "        }\n",
              "      </script>\n",
              "    </div>\n",
              "  </div>\n",
              "  "
            ]
          },
          "metadata": {},
          "execution_count": 77
        }
      ],
      "source": [
        "final_df[(final_df['Runs']>=300)].drop(labels=['Day','month'],axis=1).sort_values(by='Runs',ascending=False)['Player_Name'].value_counts().reset_index()"
      ]
    },
    {
      "cell_type": "markdown",
      "id": "900571ff",
      "metadata": {
        "papermill": {
          "duration": 0.045498,
          "end_time": "2022-07-07T16:30:48.752294",
          "exception": false,
          "start_time": "2022-07-07T16:30:48.706796",
          "status": "completed"
        },
        "tags": [],
        "id": "900571ff"
      },
      "source": [
        "### Players who have scored 400 or more runs in an innings"
      ]
    },
    {
      "cell_type": "code",
      "execution_count": 78,
      "id": "940d0334",
      "metadata": {
        "execution": {
          "iopub.execute_input": "2022-07-07T16:30:48.848802Z",
          "iopub.status.busy": "2022-07-07T16:30:48.847920Z",
          "iopub.status.idle": "2022-07-07T16:30:48.869482Z",
          "shell.execute_reply": "2022-07-07T16:30:48.868490Z"
        },
        "papermill": {
          "duration": 0.072116,
          "end_time": "2022-07-07T16:30:48.871755",
          "exception": false,
          "start_time": "2022-07-07T16:30:48.799639",
          "status": "completed"
        },
        "tags": [],
        "colab": {
          "base_uri": "https://localhost:8080/",
          "height": 179
        },
        "id": "940d0334",
        "outputId": "138156c7-a20c-4502-cb28-49959ab0aa4d"
      },
      "outputs": [
        {
          "output_type": "execute_result",
          "data": {
            "text/plain": [
              "        Runs Mins   BF  4s 6s     SR Inns     Ground Player_Name Team  \\\n",
              "129960   400  778  582  43  4  68.72    1  St John's     BC Lara   WI   \n",
              "\n",
              "       situation_of_player Format Opponent Team  year       Day  month  \\\n",
              "129960             not out   Test       England  2004  Saturday  April   \n",
              "\n",
              "        Total_Years_Played       span  \n",
              "129960                  18  1990-2007  "
            ],
            "text/html": [
              "\n",
              "  <div id=\"df-eeef50f6-44ad-47d3-947f-4eaf3b3facae\">\n",
              "    <div class=\"colab-df-container\">\n",
              "      <div>\n",
              "<style scoped>\n",
              "    .dataframe tbody tr th:only-of-type {\n",
              "        vertical-align: middle;\n",
              "    }\n",
              "\n",
              "    .dataframe tbody tr th {\n",
              "        vertical-align: top;\n",
              "    }\n",
              "\n",
              "    .dataframe thead th {\n",
              "        text-align: right;\n",
              "    }\n",
              "</style>\n",
              "<table border=\"1\" class=\"dataframe\">\n",
              "  <thead>\n",
              "    <tr style=\"text-align: right;\">\n",
              "      <th></th>\n",
              "      <th>Runs</th>\n",
              "      <th>Mins</th>\n",
              "      <th>BF</th>\n",
              "      <th>4s</th>\n",
              "      <th>6s</th>\n",
              "      <th>SR</th>\n",
              "      <th>Inns</th>\n",
              "      <th>Ground</th>\n",
              "      <th>Player_Name</th>\n",
              "      <th>Team</th>\n",
              "      <th>situation_of_player</th>\n",
              "      <th>Format</th>\n",
              "      <th>Opponent Team</th>\n",
              "      <th>year</th>\n",
              "      <th>Day</th>\n",
              "      <th>month</th>\n",
              "      <th>Total_Years_Played</th>\n",
              "      <th>span</th>\n",
              "    </tr>\n",
              "  </thead>\n",
              "  <tbody>\n",
              "    <tr>\n",
              "      <th>129960</th>\n",
              "      <td>400</td>\n",
              "      <td>778</td>\n",
              "      <td>582</td>\n",
              "      <td>43</td>\n",
              "      <td>4</td>\n",
              "      <td>68.72</td>\n",
              "      <td>1</td>\n",
              "      <td>St John's</td>\n",
              "      <td>BC Lara</td>\n",
              "      <td>WI</td>\n",
              "      <td>not out</td>\n",
              "      <td>Test</td>\n",
              "      <td>England</td>\n",
              "      <td>2004</td>\n",
              "      <td>Saturday</td>\n",
              "      <td>April</td>\n",
              "      <td>18</td>\n",
              "      <td>1990-2007</td>\n",
              "    </tr>\n",
              "  </tbody>\n",
              "</table>\n",
              "</div>\n",
              "      <button class=\"colab-df-convert\" onclick=\"convertToInteractive('df-eeef50f6-44ad-47d3-947f-4eaf3b3facae')\"\n",
              "              title=\"Convert this dataframe to an interactive table.\"\n",
              "              style=\"display:none;\">\n",
              "        \n",
              "  <svg xmlns=\"http://www.w3.org/2000/svg\" height=\"24px\"viewBox=\"0 0 24 24\"\n",
              "       width=\"24px\">\n",
              "    <path d=\"M0 0h24v24H0V0z\" fill=\"none\"/>\n",
              "    <path d=\"M18.56 5.44l.94 2.06.94-2.06 2.06-.94-2.06-.94-.94-2.06-.94 2.06-2.06.94zm-11 1L8.5 8.5l.94-2.06 2.06-.94-2.06-.94L8.5 2.5l-.94 2.06-2.06.94zm10 10l.94 2.06.94-2.06 2.06-.94-2.06-.94-.94-2.06-.94 2.06-2.06.94z\"/><path d=\"M17.41 7.96l-1.37-1.37c-.4-.4-.92-.59-1.43-.59-.52 0-1.04.2-1.43.59L10.3 9.45l-7.72 7.72c-.78.78-.78 2.05 0 2.83L4 21.41c.39.39.9.59 1.41.59.51 0 1.02-.2 1.41-.59l7.78-7.78 2.81-2.81c.8-.78.8-2.07 0-2.86zM5.41 20L4 18.59l7.72-7.72 1.47 1.35L5.41 20z\"/>\n",
              "  </svg>\n",
              "      </button>\n",
              "      \n",
              "  <style>\n",
              "    .colab-df-container {\n",
              "      display:flex;\n",
              "      flex-wrap:wrap;\n",
              "      gap: 12px;\n",
              "    }\n",
              "\n",
              "    .colab-df-convert {\n",
              "      background-color: #E8F0FE;\n",
              "      border: none;\n",
              "      border-radius: 50%;\n",
              "      cursor: pointer;\n",
              "      display: none;\n",
              "      fill: #1967D2;\n",
              "      height: 32px;\n",
              "      padding: 0 0 0 0;\n",
              "      width: 32px;\n",
              "    }\n",
              "\n",
              "    .colab-df-convert:hover {\n",
              "      background-color: #E2EBFA;\n",
              "      box-shadow: 0px 1px 2px rgba(60, 64, 67, 0.3), 0px 1px 3px 1px rgba(60, 64, 67, 0.15);\n",
              "      fill: #174EA6;\n",
              "    }\n",
              "\n",
              "    [theme=dark] .colab-df-convert {\n",
              "      background-color: #3B4455;\n",
              "      fill: #D2E3FC;\n",
              "    }\n",
              "\n",
              "    [theme=dark] .colab-df-convert:hover {\n",
              "      background-color: #434B5C;\n",
              "      box-shadow: 0px 1px 3px 1px rgba(0, 0, 0, 0.15);\n",
              "      filter: drop-shadow(0px 1px 2px rgba(0, 0, 0, 0.3));\n",
              "      fill: #FFFFFF;\n",
              "    }\n",
              "  </style>\n",
              "\n",
              "      <script>\n",
              "        const buttonEl =\n",
              "          document.querySelector('#df-eeef50f6-44ad-47d3-947f-4eaf3b3facae button.colab-df-convert');\n",
              "        buttonEl.style.display =\n",
              "          google.colab.kernel.accessAllowed ? 'block' : 'none';\n",
              "\n",
              "        async function convertToInteractive(key) {\n",
              "          const element = document.querySelector('#df-eeef50f6-44ad-47d3-947f-4eaf3b3facae');\n",
              "          const dataTable =\n",
              "            await google.colab.kernel.invokeFunction('convertToInteractive',\n",
              "                                                     [key], {});\n",
              "          if (!dataTable) return;\n",
              "\n",
              "          const docLinkHtml = 'Like what you see? Visit the ' +\n",
              "            '<a target=\"_blank\" href=https://colab.research.google.com/notebooks/data_table.ipynb>data table notebook</a>'\n",
              "            + ' to learn more about interactive tables.';\n",
              "          element.innerHTML = '';\n",
              "          dataTable['output_type'] = 'display_data';\n",
              "          await google.colab.output.renderOutput(dataTable, element);\n",
              "          const docLink = document.createElement('div');\n",
              "          docLink.innerHTML = docLinkHtml;\n",
              "          element.appendChild(docLink);\n",
              "        }\n",
              "      </script>\n",
              "    </div>\n",
              "  </div>\n",
              "  "
            ]
          },
          "metadata": {},
          "execution_count": 78
        }
      ],
      "source": [
        "final_df[final_df['Runs']>=400]"
      ]
    },
    {
      "cell_type": "markdown",
      "source": [
        "#### Only BRIAN LARA has scored 400 runs in an innings in international cricket"
      ],
      "metadata": {
        "id": "7EYG68QxP4_6"
      },
      "id": "7EYG68QxP4_6"
    },
    {
      "cell_type": "markdown",
      "id": "93bb7e49",
      "metadata": {
        "papermill": {
          "duration": 0.045823,
          "end_time": "2022-07-07T16:30:48.963529",
          "exception": false,
          "start_time": "2022-07-07T16:30:48.917706",
          "status": "completed"
        },
        "tags": [],
        "id": "93bb7e49"
      },
      "source": [
        "### Top 10 players who have played for the most number of years"
      ]
    },
    {
      "cell_type": "code",
      "execution_count": 79,
      "id": "4afe9883",
      "metadata": {
        "execution": {
          "iopub.execute_input": "2022-07-07T16:30:49.061201Z",
          "iopub.status.busy": "2022-07-07T16:30:49.060386Z",
          "iopub.status.idle": "2022-07-07T16:30:49.165984Z",
          "shell.execute_reply": "2022-07-07T16:30:49.164715Z"
        },
        "papermill": {
          "duration": 0.157238,
          "end_time": "2022-07-07T16:30:49.168710",
          "exception": false,
          "start_time": "2022-07-07T16:30:49.011472",
          "status": "completed"
        },
        "tags": [],
        "colab": {
          "base_uri": "https://localhost:8080/",
          "height": 363
        },
        "id": "4afe9883",
        "outputId": "470d69be-7fed-41ec-a3a1-a818b8f66d83"
      },
      "outputs": [
        {
          "output_type": "execute_result",
          "data": {
            "text/plain": [
              "     Player_Name  Total_Years_Played       span\n",
              "0   SR Tendulkar                  25  1989-2013\n",
              "1    SC Williams                  24  1994-2022\n",
              "2  ST Jayasuriya                  23  1989-2011\n",
              "3   Shoaib Malik                  23  1999-2021\n",
              "4       CH Gayle                  22  1999-2021\n",
              "5  Shahid Afridi                  22  1996-2018\n",
              "6  S Chanderpaul                  22  1994-2015\n",
              "7    JM Anderson                  21  2002-2022\n",
              "8    PA de Silva                  20  1984-2003\n",
              "9       SR Waugh                  20  1985-2004"
            ],
            "text/html": [
              "\n",
              "  <div id=\"df-4c8d092c-d5d4-465a-b171-1a87d816aae1\">\n",
              "    <div class=\"colab-df-container\">\n",
              "      <div>\n",
              "<style scoped>\n",
              "    .dataframe tbody tr th:only-of-type {\n",
              "        vertical-align: middle;\n",
              "    }\n",
              "\n",
              "    .dataframe tbody tr th {\n",
              "        vertical-align: top;\n",
              "    }\n",
              "\n",
              "    .dataframe thead th {\n",
              "        text-align: right;\n",
              "    }\n",
              "</style>\n",
              "<table border=\"1\" class=\"dataframe\">\n",
              "  <thead>\n",
              "    <tr style=\"text-align: right;\">\n",
              "      <th></th>\n",
              "      <th>Player_Name</th>\n",
              "      <th>Total_Years_Played</th>\n",
              "      <th>span</th>\n",
              "    </tr>\n",
              "  </thead>\n",
              "  <tbody>\n",
              "    <tr>\n",
              "      <th>0</th>\n",
              "      <td>SR Tendulkar</td>\n",
              "      <td>25</td>\n",
              "      <td>1989-2013</td>\n",
              "    </tr>\n",
              "    <tr>\n",
              "      <th>1</th>\n",
              "      <td>SC Williams</td>\n",
              "      <td>24</td>\n",
              "      <td>1994-2022</td>\n",
              "    </tr>\n",
              "    <tr>\n",
              "      <th>2</th>\n",
              "      <td>ST Jayasuriya</td>\n",
              "      <td>23</td>\n",
              "      <td>1989-2011</td>\n",
              "    </tr>\n",
              "    <tr>\n",
              "      <th>3</th>\n",
              "      <td>Shoaib Malik</td>\n",
              "      <td>23</td>\n",
              "      <td>1999-2021</td>\n",
              "    </tr>\n",
              "    <tr>\n",
              "      <th>4</th>\n",
              "      <td>CH Gayle</td>\n",
              "      <td>22</td>\n",
              "      <td>1999-2021</td>\n",
              "    </tr>\n",
              "    <tr>\n",
              "      <th>5</th>\n",
              "      <td>Shahid Afridi</td>\n",
              "      <td>22</td>\n",
              "      <td>1996-2018</td>\n",
              "    </tr>\n",
              "    <tr>\n",
              "      <th>6</th>\n",
              "      <td>S Chanderpaul</td>\n",
              "      <td>22</td>\n",
              "      <td>1994-2015</td>\n",
              "    </tr>\n",
              "    <tr>\n",
              "      <th>7</th>\n",
              "      <td>JM Anderson</td>\n",
              "      <td>21</td>\n",
              "      <td>2002-2022</td>\n",
              "    </tr>\n",
              "    <tr>\n",
              "      <th>8</th>\n",
              "      <td>PA de Silva</td>\n",
              "      <td>20</td>\n",
              "      <td>1984-2003</td>\n",
              "    </tr>\n",
              "    <tr>\n",
              "      <th>9</th>\n",
              "      <td>SR Waugh</td>\n",
              "      <td>20</td>\n",
              "      <td>1985-2004</td>\n",
              "    </tr>\n",
              "  </tbody>\n",
              "</table>\n",
              "</div>\n",
              "      <button class=\"colab-df-convert\" onclick=\"convertToInteractive('df-4c8d092c-d5d4-465a-b171-1a87d816aae1')\"\n",
              "              title=\"Convert this dataframe to an interactive table.\"\n",
              "              style=\"display:none;\">\n",
              "        \n",
              "  <svg xmlns=\"http://www.w3.org/2000/svg\" height=\"24px\"viewBox=\"0 0 24 24\"\n",
              "       width=\"24px\">\n",
              "    <path d=\"M0 0h24v24H0V0z\" fill=\"none\"/>\n",
              "    <path d=\"M18.56 5.44l.94 2.06.94-2.06 2.06-.94-2.06-.94-.94-2.06-.94 2.06-2.06.94zm-11 1L8.5 8.5l.94-2.06 2.06-.94-2.06-.94L8.5 2.5l-.94 2.06-2.06.94zm10 10l.94 2.06.94-2.06 2.06-.94-2.06-.94-.94-2.06-.94 2.06-2.06.94z\"/><path d=\"M17.41 7.96l-1.37-1.37c-.4-.4-.92-.59-1.43-.59-.52 0-1.04.2-1.43.59L10.3 9.45l-7.72 7.72c-.78.78-.78 2.05 0 2.83L4 21.41c.39.39.9.59 1.41.59.51 0 1.02-.2 1.41-.59l7.78-7.78 2.81-2.81c.8-.78.8-2.07 0-2.86zM5.41 20L4 18.59l7.72-7.72 1.47 1.35L5.41 20z\"/>\n",
              "  </svg>\n",
              "      </button>\n",
              "      \n",
              "  <style>\n",
              "    .colab-df-container {\n",
              "      display:flex;\n",
              "      flex-wrap:wrap;\n",
              "      gap: 12px;\n",
              "    }\n",
              "\n",
              "    .colab-df-convert {\n",
              "      background-color: #E8F0FE;\n",
              "      border: none;\n",
              "      border-radius: 50%;\n",
              "      cursor: pointer;\n",
              "      display: none;\n",
              "      fill: #1967D2;\n",
              "      height: 32px;\n",
              "      padding: 0 0 0 0;\n",
              "      width: 32px;\n",
              "    }\n",
              "\n",
              "    .colab-df-convert:hover {\n",
              "      background-color: #E2EBFA;\n",
              "      box-shadow: 0px 1px 2px rgba(60, 64, 67, 0.3), 0px 1px 3px 1px rgba(60, 64, 67, 0.15);\n",
              "      fill: #174EA6;\n",
              "    }\n",
              "\n",
              "    [theme=dark] .colab-df-convert {\n",
              "      background-color: #3B4455;\n",
              "      fill: #D2E3FC;\n",
              "    }\n",
              "\n",
              "    [theme=dark] .colab-df-convert:hover {\n",
              "      background-color: #434B5C;\n",
              "      box-shadow: 0px 1px 3px 1px rgba(0, 0, 0, 0.15);\n",
              "      filter: drop-shadow(0px 1px 2px rgba(0, 0, 0, 0.3));\n",
              "      fill: #FFFFFF;\n",
              "    }\n",
              "  </style>\n",
              "\n",
              "      <script>\n",
              "        const buttonEl =\n",
              "          document.querySelector('#df-4c8d092c-d5d4-465a-b171-1a87d816aae1 button.colab-df-convert');\n",
              "        buttonEl.style.display =\n",
              "          google.colab.kernel.accessAllowed ? 'block' : 'none';\n",
              "\n",
              "        async function convertToInteractive(key) {\n",
              "          const element = document.querySelector('#df-4c8d092c-d5d4-465a-b171-1a87d816aae1');\n",
              "          const dataTable =\n",
              "            await google.colab.kernel.invokeFunction('convertToInteractive',\n",
              "                                                     [key], {});\n",
              "          if (!dataTable) return;\n",
              "\n",
              "          const docLinkHtml = 'Like what you see? Visit the ' +\n",
              "            '<a target=\"_blank\" href=https://colab.research.google.com/notebooks/data_table.ipynb>data table notebook</a>'\n",
              "            + ' to learn more about interactive tables.';\n",
              "          element.innerHTML = '';\n",
              "          dataTable['output_type'] = 'display_data';\n",
              "          await google.colab.output.renderOutput(dataTable, element);\n",
              "          const docLink = document.createElement('div');\n",
              "          docLink.innerHTML = docLinkHtml;\n",
              "          element.appendChild(docLink);\n",
              "        }\n",
              "      </script>\n",
              "    </div>\n",
              "  </div>\n",
              "  "
            ]
          },
          "metadata": {},
          "execution_count": 79
        }
      ],
      "source": [
        "final_df.groupby('Player_Name')[['Total_Years_Played','span']].first().sort_values(by='Total_Years_Played',ascending=False).head(10).reset_index()"
      ]
    },
    {
      "cell_type": "markdown",
      "source": [
        "### Number of instances when the players have missed scoring century by 1 run"
      ],
      "metadata": {
        "id": "--eanpqYQggM"
      },
      "id": "--eanpqYQggM"
    },
    {
      "cell_type": "code",
      "execution_count": 80,
      "id": "67c45f78",
      "metadata": {
        "execution": {
          "iopub.execute_input": "2022-07-07T16:30:49.264301Z",
          "iopub.status.busy": "2022-07-07T16:30:49.263853Z",
          "iopub.status.idle": "2022-07-07T16:30:49.274436Z",
          "shell.execute_reply": "2022-07-07T16:30:49.273026Z"
        },
        "papermill": {
          "duration": 0.06209,
          "end_time": "2022-07-07T16:30:49.277184",
          "exception": false,
          "start_time": "2022-07-07T16:30:49.215094",
          "status": "completed"
        },
        "tags": [],
        "colab": {
          "base_uri": "https://localhost:8080/"
        },
        "id": "67c45f78",
        "outputId": "22b09643-bfdb-4300-e4de-5b804f29f52c"
      },
      "outputs": [
        {
          "output_type": "execute_result",
          "data": {
            "text/plain": [
              "91"
            ]
          },
          "metadata": {},
          "execution_count": 80
        }
      ],
      "source": [
        "final_df[final_df['Runs']==99]['Player_Name'].nunique()"
      ]
    },
    {
      "cell_type": "markdown",
      "source": [
        "### Number of instances when the players have missed scoring half-century by 1 run"
      ],
      "metadata": {
        "id": "4kdQSW6fRdAt"
      },
      "id": "4kdQSW6fRdAt"
    },
    {
      "cell_type": "code",
      "execution_count": 81,
      "id": "662d8ac8",
      "metadata": {
        "execution": {
          "iopub.execute_input": "2022-07-07T16:30:49.464226Z",
          "iopub.status.busy": "2022-07-07T16:30:49.463180Z",
          "iopub.status.idle": "2022-07-07T16:30:49.473808Z",
          "shell.execute_reply": "2022-07-07T16:30:49.472525Z"
        },
        "papermill": {
          "duration": 0.059961,
          "end_time": "2022-07-07T16:30:49.476313",
          "exception": false,
          "start_time": "2022-07-07T16:30:49.416352",
          "status": "completed"
        },
        "tags": [],
        "colab": {
          "base_uri": "https://localhost:8080/"
        },
        "id": "662d8ac8",
        "outputId": "fedfccb3-434c-4932-973f-57a470d1a4f9"
      },
      "outputs": [
        {
          "output_type": "execute_result",
          "data": {
            "text/plain": [
              "380"
            ]
          },
          "metadata": {},
          "execution_count": 81
        }
      ],
      "source": [
        "final_df[final_df['Runs']==49]['Player_Name'].nunique()"
      ]
    },
    {
      "cell_type": "markdown",
      "id": "8a516368",
      "metadata": {
        "papermill": {
          "duration": 0.046632,
          "end_time": "2022-07-07T16:30:49.569985",
          "exception": false,
          "start_time": "2022-07-07T16:30:49.523353",
          "status": "completed"
        },
        "tags": [],
        "id": "8a516368"
      },
      "source": [
        "### Number of instances when the players have missed scoring double century by 1 run"
      ]
    },
    {
      "cell_type": "code",
      "execution_count": 82,
      "id": "3d14ba29",
      "metadata": {
        "execution": {
          "iopub.execute_input": "2022-07-07T16:30:49.665607Z",
          "iopub.status.busy": "2022-07-07T16:30:49.664794Z",
          "iopub.status.idle": "2022-07-07T16:30:49.673843Z",
          "shell.execute_reply": "2022-07-07T16:30:49.672637Z"
        },
        "papermill": {
          "duration": 0.059035,
          "end_time": "2022-07-07T16:30:49.676266",
          "exception": false,
          "start_time": "2022-07-07T16:30:49.617231",
          "status": "completed"
        },
        "tags": [],
        "colab": {
          "base_uri": "https://localhost:8080/"
        },
        "id": "3d14ba29",
        "outputId": "c69e3bfe-40cf-41e2-c5ce-fa837ad8eb98"
      },
      "outputs": [
        {
          "output_type": "execute_result",
          "data": {
            "text/plain": [
              "14"
            ]
          },
          "metadata": {},
          "execution_count": 82
        }
      ],
      "source": [
        "final_df[final_df['Runs']==199]['Player_Name'].nunique()\n"
      ]
    },
    {
      "cell_type": "markdown",
      "id": "dba0ff33",
      "metadata": {
        "papermill": {
          "duration": 0.045261,
          "end_time": "2022-07-07T16:30:49.767659",
          "exception": false,
          "start_time": "2022-07-07T16:30:49.722398",
          "status": "completed"
        },
        "tags": [],
        "id": "dba0ff33"
      },
      "source": [
        "### Number of instances when the players have missed scoring triple century by 1 run"
      ]
    },
    {
      "cell_type": "code",
      "execution_count": 83,
      "id": "f9d3689e",
      "metadata": {
        "execution": {
          "iopub.execute_input": "2022-07-07T16:30:50.045956Z",
          "iopub.status.busy": "2022-07-07T16:30:50.045519Z",
          "iopub.status.idle": "2022-07-07T16:30:50.069119Z",
          "shell.execute_reply": "2022-07-07T16:30:50.067585Z"
        },
        "papermill": {
          "duration": 0.073784,
          "end_time": "2022-07-07T16:30:50.071614",
          "exception": false,
          "start_time": "2022-07-07T16:30:49.997830",
          "status": "completed"
        },
        "tags": [],
        "colab": {
          "base_uri": "https://localhost:8080/",
          "height": 179
        },
        "id": "f9d3689e",
        "outputId": "fcc52f6f-94d7-47ca-954f-eb270233f8ed"
      },
      "outputs": [
        {
          "output_type": "execute_result",
          "data": {
            "text/plain": [
              "        Runs Mins   BF  4s 6s     SR Inns      Ground Player_Name Team  \\\n",
              "171126   299  610  523  29  3  57.17    3  Wellington    MD Crowe   NZ   \n",
              "\n",
              "       situation_of_player Format Opponent Team  year       Day    month  \\\n",
              "171126                 out   Test     Sri Lanka  1991  Thursday  January   \n",
              "\n",
              "        Total_Years_Played       span  \n",
              "171126                  14  1982-1995  "
            ],
            "text/html": [
              "\n",
              "  <div id=\"df-e0d40610-ca77-4a7a-acee-b7b37aa1efbe\">\n",
              "    <div class=\"colab-df-container\">\n",
              "      <div>\n",
              "<style scoped>\n",
              "    .dataframe tbody tr th:only-of-type {\n",
              "        vertical-align: middle;\n",
              "    }\n",
              "\n",
              "    .dataframe tbody tr th {\n",
              "        vertical-align: top;\n",
              "    }\n",
              "\n",
              "    .dataframe thead th {\n",
              "        text-align: right;\n",
              "    }\n",
              "</style>\n",
              "<table border=\"1\" class=\"dataframe\">\n",
              "  <thead>\n",
              "    <tr style=\"text-align: right;\">\n",
              "      <th></th>\n",
              "      <th>Runs</th>\n",
              "      <th>Mins</th>\n",
              "      <th>BF</th>\n",
              "      <th>4s</th>\n",
              "      <th>6s</th>\n",
              "      <th>SR</th>\n",
              "      <th>Inns</th>\n",
              "      <th>Ground</th>\n",
              "      <th>Player_Name</th>\n",
              "      <th>Team</th>\n",
              "      <th>situation_of_player</th>\n",
              "      <th>Format</th>\n",
              "      <th>Opponent Team</th>\n",
              "      <th>year</th>\n",
              "      <th>Day</th>\n",
              "      <th>month</th>\n",
              "      <th>Total_Years_Played</th>\n",
              "      <th>span</th>\n",
              "    </tr>\n",
              "  </thead>\n",
              "  <tbody>\n",
              "    <tr>\n",
              "      <th>171126</th>\n",
              "      <td>299</td>\n",
              "      <td>610</td>\n",
              "      <td>523</td>\n",
              "      <td>29</td>\n",
              "      <td>3</td>\n",
              "      <td>57.17</td>\n",
              "      <td>3</td>\n",
              "      <td>Wellington</td>\n",
              "      <td>MD Crowe</td>\n",
              "      <td>NZ</td>\n",
              "      <td>out</td>\n",
              "      <td>Test</td>\n",
              "      <td>Sri Lanka</td>\n",
              "      <td>1991</td>\n",
              "      <td>Thursday</td>\n",
              "      <td>January</td>\n",
              "      <td>14</td>\n",
              "      <td>1982-1995</td>\n",
              "    </tr>\n",
              "  </tbody>\n",
              "</table>\n",
              "</div>\n",
              "      <button class=\"colab-df-convert\" onclick=\"convertToInteractive('df-e0d40610-ca77-4a7a-acee-b7b37aa1efbe')\"\n",
              "              title=\"Convert this dataframe to an interactive table.\"\n",
              "              style=\"display:none;\">\n",
              "        \n",
              "  <svg xmlns=\"http://www.w3.org/2000/svg\" height=\"24px\"viewBox=\"0 0 24 24\"\n",
              "       width=\"24px\">\n",
              "    <path d=\"M0 0h24v24H0V0z\" fill=\"none\"/>\n",
              "    <path d=\"M18.56 5.44l.94 2.06.94-2.06 2.06-.94-2.06-.94-.94-2.06-.94 2.06-2.06.94zm-11 1L8.5 8.5l.94-2.06 2.06-.94-2.06-.94L8.5 2.5l-.94 2.06-2.06.94zm10 10l.94 2.06.94-2.06 2.06-.94-2.06-.94-.94-2.06-.94 2.06-2.06.94z\"/><path d=\"M17.41 7.96l-1.37-1.37c-.4-.4-.92-.59-1.43-.59-.52 0-1.04.2-1.43.59L10.3 9.45l-7.72 7.72c-.78.78-.78 2.05 0 2.83L4 21.41c.39.39.9.59 1.41.59.51 0 1.02-.2 1.41-.59l7.78-7.78 2.81-2.81c.8-.78.8-2.07 0-2.86zM5.41 20L4 18.59l7.72-7.72 1.47 1.35L5.41 20z\"/>\n",
              "  </svg>\n",
              "      </button>\n",
              "      \n",
              "  <style>\n",
              "    .colab-df-container {\n",
              "      display:flex;\n",
              "      flex-wrap:wrap;\n",
              "      gap: 12px;\n",
              "    }\n",
              "\n",
              "    .colab-df-convert {\n",
              "      background-color: #E8F0FE;\n",
              "      border: none;\n",
              "      border-radius: 50%;\n",
              "      cursor: pointer;\n",
              "      display: none;\n",
              "      fill: #1967D2;\n",
              "      height: 32px;\n",
              "      padding: 0 0 0 0;\n",
              "      width: 32px;\n",
              "    }\n",
              "\n",
              "    .colab-df-convert:hover {\n",
              "      background-color: #E2EBFA;\n",
              "      box-shadow: 0px 1px 2px rgba(60, 64, 67, 0.3), 0px 1px 3px 1px rgba(60, 64, 67, 0.15);\n",
              "      fill: #174EA6;\n",
              "    }\n",
              "\n",
              "    [theme=dark] .colab-df-convert {\n",
              "      background-color: #3B4455;\n",
              "      fill: #D2E3FC;\n",
              "    }\n",
              "\n",
              "    [theme=dark] .colab-df-convert:hover {\n",
              "      background-color: #434B5C;\n",
              "      box-shadow: 0px 1px 3px 1px rgba(0, 0, 0, 0.15);\n",
              "      filter: drop-shadow(0px 1px 2px rgba(0, 0, 0, 0.3));\n",
              "      fill: #FFFFFF;\n",
              "    }\n",
              "  </style>\n",
              "\n",
              "      <script>\n",
              "        const buttonEl =\n",
              "          document.querySelector('#df-e0d40610-ca77-4a7a-acee-b7b37aa1efbe button.colab-df-convert');\n",
              "        buttonEl.style.display =\n",
              "          google.colab.kernel.accessAllowed ? 'block' : 'none';\n",
              "\n",
              "        async function convertToInteractive(key) {\n",
              "          const element = document.querySelector('#df-e0d40610-ca77-4a7a-acee-b7b37aa1efbe');\n",
              "          const dataTable =\n",
              "            await google.colab.kernel.invokeFunction('convertToInteractive',\n",
              "                                                     [key], {});\n",
              "          if (!dataTable) return;\n",
              "\n",
              "          const docLinkHtml = 'Like what you see? Visit the ' +\n",
              "            '<a target=\"_blank\" href=https://colab.research.google.com/notebooks/data_table.ipynb>data table notebook</a>'\n",
              "            + ' to learn more about interactive tables.';\n",
              "          element.innerHTML = '';\n",
              "          dataTable['output_type'] = 'display_data';\n",
              "          await google.colab.output.renderOutput(dataTable, element);\n",
              "          const docLink = document.createElement('div');\n",
              "          docLink.innerHTML = docLinkHtml;\n",
              "          element.appendChild(docLink);\n",
              "        }\n",
              "      </script>\n",
              "    </div>\n",
              "  </div>\n",
              "  "
            ]
          },
          "metadata": {},
          "execution_count": 83
        }
      ],
      "source": [
        "final_df[final_df['Runs']==299]"
      ]
    },
    {
      "cell_type": "markdown",
      "source": [
        "#### MD Crowe of New Zealand is the only player who got out on 299."
      ],
      "metadata": {
        "id": "58nQuEOPR2Wh"
      },
      "id": "58nQuEOPR2Wh"
    },
    {
      "cell_type": "markdown",
      "id": "e50b68d8",
      "metadata": {
        "papermill": {
          "duration": 0.046875,
          "end_time": "2022-07-07T16:30:50.165495",
          "exception": false,
          "start_time": "2022-07-07T16:30:50.118620",
          "status": "completed"
        },
        "tags": [],
        "id": "e50b68d8"
      },
      "source": [
        "###\tTop 15 teams who played most international matches"
      ]
    },
    {
      "cell_type": "code",
      "execution_count": 84,
      "id": "f277cedb",
      "metadata": {
        "execution": {
          "iopub.execute_input": "2022-07-07T16:30:50.258134Z",
          "iopub.status.busy": "2022-07-07T16:30:50.257718Z",
          "iopub.status.idle": "2022-07-07T16:30:50.316638Z",
          "shell.execute_reply": "2022-07-07T16:30:50.315428Z"
        },
        "papermill": {
          "duration": 0.108366,
          "end_time": "2022-07-07T16:30:50.319172",
          "exception": false,
          "start_time": "2022-07-07T16:30:50.210806",
          "status": "completed"
        },
        "tags": [],
        "colab": {
          "base_uri": "https://localhost:8080/"
        },
        "id": "f277cedb",
        "outputId": "449c8ce9-9e6a-439c-82e6-43a04d13ef54"
      },
      "outputs": [
        {
          "output_type": "execute_result",
          "data": {
            "text/plain": [
              "Index(['AUS', 'INDIA', 'ENG', 'PAK', 'WI', 'SL', 'NZ', 'SA', 'ZIM', 'BAN',\n",
              "       'IRE', 'AFG', 'SCOT', 'KENYA', 'NED'],\n",
              "      dtype='object')"
            ]
          },
          "metadata": {},
          "execution_count": 84
        }
      ],
      "source": [
        "final_df['Team'].value_counts().sort_values(ascending=False).head(15).index"
      ]
    },
    {
      "cell_type": "markdown",
      "id": "589df6a1",
      "metadata": {
        "papermill": {
          "duration": 0.04696,
          "end_time": "2022-07-07T16:30:50.414618",
          "exception": false,
          "start_time": "2022-07-07T16:30:50.367658",
          "status": "completed"
        },
        "tags": [],
        "id": "589df6a1"
      },
      "source": [
        "### Best individual score of each player"
      ]
    },
    {
      "cell_type": "code",
      "execution_count": 85,
      "id": "05c6dced",
      "metadata": {
        "execution": {
          "iopub.execute_input": "2022-07-07T16:30:50.508401Z",
          "iopub.status.busy": "2022-07-07T16:30:50.507994Z",
          "iopub.status.idle": "2022-07-07T16:30:50.584138Z",
          "shell.execute_reply": "2022-07-07T16:30:50.583247Z"
        },
        "papermill": {
          "duration": 0.125714,
          "end_time": "2022-07-07T16:30:50.586300",
          "exception": false,
          "start_time": "2022-07-07T16:30:50.460586",
          "status": "completed"
        },
        "tags": [],
        "colab": {
          "base_uri": "https://localhost:8080/"
        },
        "id": "05c6dced",
        "outputId": "b126196a-ca4c-4763-aa2d-efaefcca1ed8"
      },
      "outputs": [
        {
          "output_type": "execute_result",
          "data": {
            "text/plain": [
              "Player_Name\n",
              "BC Lara             400\n",
              "ML Hayden           380\n",
              "DPMD Jayawardene    374\n",
              "ST Jayasuriya       340\n",
              "DA Warner           335\n",
              "                   ... \n",
              "M Gherasim            0\n",
              "Aman Ali              0\n",
              "Shohidul Islam        0\n",
              "S Mohan               0\n",
              "R Brar                0\n",
              "Name: Runs, Length: 4304, dtype: int64"
            ]
          },
          "metadata": {},
          "execution_count": 85
        }
      ],
      "source": [
        "final_df.groupby('Player_Name')['Runs'].max().sort_values(ascending=False)"
      ]
    },
    {
      "cell_type": "markdown",
      "id": "722f1782",
      "metadata": {
        "papermill": {
          "duration": 0.046372,
          "end_time": "2022-07-07T16:30:50.679665",
          "exception": false,
          "start_time": "2022-07-07T16:30:50.633293",
          "status": "completed"
        },
        "tags": [],
        "id": "722f1782"
      },
      "source": [
        "### Best score on each ground"
      ]
    },
    {
      "cell_type": "code",
      "execution_count": 98,
      "id": "735c8664",
      "metadata": {
        "execution": {
          "iopub.execute_input": "2022-07-07T16:30:50.774678Z",
          "iopub.status.busy": "2022-07-07T16:30:50.774267Z",
          "iopub.status.idle": "2022-07-07T16:30:50.800909Z",
          "shell.execute_reply": "2022-07-07T16:30:50.799973Z"
        },
        "papermill": {
          "duration": 0.077307,
          "end_time": "2022-07-07T16:30:50.803381",
          "exception": false,
          "start_time": "2022-07-07T16:30:50.726074",
          "status": "completed"
        },
        "tags": [],
        "colab": {
          "base_uri": "https://localhost:8080/"
        },
        "id": "735c8664",
        "outputId": "0fc5074c-764c-4392-8a75-d559c905c9b0"
      },
      "outputs": [
        {
          "output_type": "execute_result",
          "data": {
            "text/plain": [
              "Ground\n",
              "Aberdeen      166\n",
              "Abu Dhabi     278\n",
              "Adelaide      335\n",
              "Ahmedabad     275\n",
              "Al Amerat     173\n",
              "             ... \n",
              "Waterloo      100\n",
              "Wellington    302\n",
              "Whangarei     146\n",
              "Windhoek      101\n",
              "Worcester     105\n",
              "Name: Runs, Length: 224, dtype: int64"
            ]
          },
          "metadata": {},
          "execution_count": 98
        }
      ],
      "source": [
        "final_df.groupby('Ground')['Runs'].max()"
      ]
    },
    {
      "cell_type": "markdown",
      "source": [
        "### Teams who have played international matches"
      ],
      "metadata": {
        "id": "sFxlPeykSpq1"
      },
      "id": "sFxlPeykSpq1"
    },
    {
      "cell_type": "code",
      "execution_count": 99,
      "id": "1067a191",
      "metadata": {
        "execution": {
          "iopub.execute_input": "2022-07-07T16:30:50.897875Z",
          "iopub.status.busy": "2022-07-07T16:30:50.897520Z",
          "iopub.status.idle": "2022-07-07T16:30:50.960331Z",
          "shell.execute_reply": "2022-07-07T16:30:50.959125Z"
        },
        "papermill": {
          "duration": 0.113113,
          "end_time": "2022-07-07T16:30:50.962613",
          "exception": false,
          "start_time": "2022-07-07T16:30:50.849500",
          "status": "completed"
        },
        "tags": [],
        "colab": {
          "base_uri": "https://localhost:8080/"
        },
        "id": "1067a191",
        "outputId": "4edcdfb5-bdd6-4428-ffde-c9955cb625fc"
      },
      "outputs": [
        {
          "output_type": "execute_result",
          "data": {
            "text/plain": [
              "91"
            ]
          },
          "metadata": {},
          "execution_count": 99
        }
      ],
      "source": [
        "final_df['Opponent Team'].nunique()"
      ]
    },
    {
      "cell_type": "code",
      "execution_count": 100,
      "id": "fb79a269",
      "metadata": {
        "execution": {
          "iopub.execute_input": "2022-07-07T16:30:51.059000Z",
          "iopub.status.busy": "2022-07-07T16:30:51.058584Z",
          "iopub.status.idle": "2022-07-07T16:30:51.122282Z",
          "shell.execute_reply": "2022-07-07T16:30:51.120984Z"
        },
        "papermill": {
          "duration": 0.114341,
          "end_time": "2022-07-07T16:30:51.124841",
          "exception": false,
          "start_time": "2022-07-07T16:30:51.010500",
          "status": "completed"
        },
        "tags": [],
        "colab": {
          "base_uri": "https://localhost:8080/"
        },
        "id": "fb79a269",
        "outputId": "83e7a96b-f949-4f87-fc05-9f4d9c335b1a"
      },
      "outputs": [
        {
          "output_type": "execute_result",
          "data": {
            "text/plain": [
              "array(['England', 'Netherlands', 'South Africa', 'Bangladesh', 'India',\n",
              "       'Pakistan', 'West Indies', 'Australia', 'Sri Lanka', 'Afghanistan',\n",
              "       'Ireland', 'Zimbabwe', 'Namibia', 'Scotland', 'Canada', 'Kenya',\n",
              "       'New Zealand', 'Malaysia', 'Nepal', 'P.N.G.', 'U.A.E.', 'Bermuda',\n",
              "       'Singapore', 'Hong Kong', 'Oman', 'Estonia', 'Denmark', 'Sweden',\n",
              "       'Spain', 'Finland', 'Isle of Man', 'Cyprus', 'Belize', 'Cayman Is',\n",
              "       'Bahamas', 'Argentina', 'Panama', 'U.S.A.', 'Philippines',\n",
              "       'Maldives', 'Bhutan', 'Kuwait', 'Qatar', 'Thailand', 'Bahrain',\n",
              "       'Jersey', 'Nigeria', 'Austria', 'World-XI', 'ICC World XI',\n",
              "       'Germany', 'Hungary', 'Belgium', 'Czech Rep.', 'Luxembourg',\n",
              "       'Romania', 'Turkey', 'Italy', 'Norway', 'France', 'Guernsey',\n",
              "       'Malta', 'Bulgaria', 'Gibraltar', 'Portugal', 'Switzerland',\n",
              "       'Saudi Arabia', 'Iran', 'Uganda', 'Botswana', 'Ghana', 'Serbia',\n",
              "       'Greece', 'Vanuatu', 'Samoa', 'Tanzania', 'Seychelles',\n",
              "       'Swaziland', 'Lesotho', 'Rwanda', 'Malawi', 'Cameroon',\n",
              "       'Sierra Leone', 'Mozambique', 'Mexico', 'Chile', 'Brazil', 'Peru',\n",
              "       'Costa Rica', 'Asia XI', 'Africa XI'], dtype=object)"
            ]
          },
          "metadata": {},
          "execution_count": 100
        }
      ],
      "source": [
        "final_df['Opponent Team'].unique()"
      ]
    },
    {
      "cell_type": "markdown",
      "id": "03532f22",
      "metadata": {
        "papermill": {
          "duration": 0.047293,
          "end_time": "2022-07-07T16:30:51.220078",
          "exception": false,
          "start_time": "2022-07-07T16:30:51.172785",
          "status": "completed"
        },
        "tags": [],
        "id": "03532f22"
      },
      "source": [
        "#### The teams like 'ICC World XI','World-XI', 'Africa XI', 'Asia XI','ASIA','ICC' are not country teams. Sometimes such teams are created with players from different countries to play charity or friendly matches."
      ]
    },
    {
      "cell_type": "markdown",
      "source": [
        "### Function to count the number of times a player was not out or did not bat"
      ],
      "metadata": {
        "id": "KKyunw6ITgvs"
      },
      "id": "KKyunw6ITgvs"
    },
    {
      "cell_type": "code",
      "execution_count": 105,
      "id": "25c1102f",
      "metadata": {
        "execution": {
          "iopub.execute_input": "2022-07-07T16:30:51.413475Z",
          "iopub.status.busy": "2022-07-07T16:30:51.413027Z",
          "iopub.status.idle": "2022-07-07T16:30:51.419628Z",
          "shell.execute_reply": "2022-07-07T16:30:51.418223Z"
        },
        "papermill": {
          "duration": 0.059476,
          "end_time": "2022-07-07T16:30:51.422217",
          "exception": false,
          "start_time": "2022-07-07T16:30:51.362741",
          "status": "completed"
        },
        "tags": [],
        "id": "25c1102f"
      },
      "outputs": [],
      "source": [
        "def notout_count(player):\n",
        "    x=final_df[final_df['Player_Name']==player]['situation_of_player'].value_counts()\n",
        "    return x.sum(),x"
      ]
    },
    {
      "cell_type": "code",
      "execution_count": 106,
      "id": "e93f8c95",
      "metadata": {
        "execution": {
          "iopub.execute_input": "2022-07-07T16:30:51.525690Z",
          "iopub.status.busy": "2022-07-07T16:30:51.525285Z",
          "iopub.status.idle": "2022-07-07T16:30:51.575070Z",
          "shell.execute_reply": "2022-07-07T16:30:51.573809Z"
        },
        "papermill": {
          "duration": 0.106914,
          "end_time": "2022-07-07T16:30:51.577474",
          "exception": false,
          "start_time": "2022-07-07T16:30:51.470560",
          "status": "completed"
        },
        "tags": [],
        "colab": {
          "base_uri": "https://localhost:8080/"
        },
        "id": "e93f8c95",
        "outputId": "7e54cabc-f9d2-424d-d4db-65b5def97cdf"
      },
      "outputs": [
        {
          "output_type": "execute_result",
          "data": {
            "text/plain": [
              "(811, out        708\n",
              " not out     74\n",
              " DNB         22\n",
              " TDNB         7\n",
              " Name: situation_of_player, dtype: int64)"
            ]
          },
          "metadata": {},
          "execution_count": 106
        }
      ],
      "source": [
        "notout_count('SR Tendulkar')"
      ]
    },
    {
      "cell_type": "code",
      "execution_count": 107,
      "id": "becbd581",
      "metadata": {
        "execution": {
          "iopub.execute_input": "2022-07-07T16:30:51.672458Z",
          "iopub.status.busy": "2022-07-07T16:30:51.672082Z",
          "iopub.status.idle": "2022-07-07T16:30:51.723934Z",
          "shell.execute_reply": "2022-07-07T16:30:51.722608Z"
        },
        "papermill": {
          "duration": 0.102543,
          "end_time": "2022-07-07T16:30:51.726917",
          "exception": false,
          "start_time": "2022-07-07T16:30:51.624374",
          "status": "completed"
        },
        "tags": [],
        "colab": {
          "base_uri": "https://localhost:8080/"
        },
        "id": "becbd581",
        "outputId": "8981ee23-de89-4eae-fc9a-d9f059c4e142"
      },
      "outputs": [
        {
          "output_type": "execute_result",
          "data": {
            "text/plain": [
              "(641, out        533\n",
              " not out     72\n",
              " DNB         31\n",
              " TDNB         5\n",
              " Name: situation_of_player, dtype: int64)"
            ]
          },
          "metadata": {},
          "execution_count": 107
        }
      ],
      "source": [
        "notout_count('R Dravid')"
      ]
    },
    {
      "cell_type": "markdown",
      "id": "b0977d21",
      "metadata": {
        "papermill": {
          "duration": 0.046694,
          "end_time": "2022-07-07T16:30:51.822340",
          "exception": false,
          "start_time": "2022-07-07T16:30:51.775646",
          "status": "completed"
        },
        "tags": [],
        "id": "b0977d21"
      },
      "source": [
        "## Analysis of T20I format"
      ]
    },
    {
      "cell_type": "markdown",
      "id": "ad4b16b8",
      "metadata": {
        "papermill": {
          "duration": 0.046784,
          "end_time": "2022-07-07T16:30:52.492758",
          "exception": false,
          "start_time": "2022-07-07T16:30:52.445974",
          "status": "completed"
        },
        "tags": [],
        "id": "ad4b16b8"
      },
      "source": [
        "### Players with most 100+ scores in T20I"
      ]
    },
    {
      "cell_type": "code",
      "execution_count": 109,
      "id": "b6bfdebf",
      "metadata": {
        "execution": {
          "iopub.execute_input": "2022-07-07T16:30:52.593911Z",
          "iopub.status.busy": "2022-07-07T16:30:52.593495Z",
          "iopub.status.idle": "2022-07-07T16:30:52.615927Z",
          "shell.execute_reply": "2022-07-07T16:30:52.614570Z"
        },
        "papermill": {
          "duration": 0.077451,
          "end_time": "2022-07-07T16:30:52.618546",
          "exception": false,
          "start_time": "2022-07-07T16:30:52.541095",
          "status": "completed"
        },
        "tags": [],
        "colab": {
          "base_uri": "https://localhost:8080/",
          "height": 394
        },
        "id": "b6bfdebf",
        "outputId": "6f977e09-a4d8-4fe9-ebb8-32d9e8ba1f77"
      },
      "outputs": [
        {
          "output_type": "execute_result",
          "data": {
            "text/plain": [
              "        Player_Name  Total_Years_Played       span  0\n",
              "0         RG Sharma                  16  2007-2022  4\n",
              "1        GJ Maxwell                  11  2012-2022  3\n",
              "2           C Munro                   9  2012-2020  3\n",
              "3          CH Gayle                  22  1999-2021  2\n",
              "4          AJ Finch                  12  2011-2022  2\n",
              "5       BB McCullum                  15  2002-2016  2\n",
              "6        MJ Guptill                  14  2009-2022  2\n",
              "7          S Davizi                   4  2019-2022  2\n",
              "8          KL Rahul                   9  2014-2022  2\n",
              "9   Muhammad Waseem                   2  2021-2022  2\n",
              "10          E Lewis                   6  2016-2021  2"
            ],
            "text/html": [
              "\n",
              "  <div id=\"df-b138d116-a315-4df6-9308-0eab8d105c16\">\n",
              "    <div class=\"colab-df-container\">\n",
              "      <div>\n",
              "<style scoped>\n",
              "    .dataframe tbody tr th:only-of-type {\n",
              "        vertical-align: middle;\n",
              "    }\n",
              "\n",
              "    .dataframe tbody tr th {\n",
              "        vertical-align: top;\n",
              "    }\n",
              "\n",
              "    .dataframe thead th {\n",
              "        text-align: right;\n",
              "    }\n",
              "</style>\n",
              "<table border=\"1\" class=\"dataframe\">\n",
              "  <thead>\n",
              "    <tr style=\"text-align: right;\">\n",
              "      <th></th>\n",
              "      <th>Player_Name</th>\n",
              "      <th>Total_Years_Played</th>\n",
              "      <th>span</th>\n",
              "      <th>0</th>\n",
              "    </tr>\n",
              "  </thead>\n",
              "  <tbody>\n",
              "    <tr>\n",
              "      <th>0</th>\n",
              "      <td>RG Sharma</td>\n",
              "      <td>16</td>\n",
              "      <td>2007-2022</td>\n",
              "      <td>4</td>\n",
              "    </tr>\n",
              "    <tr>\n",
              "      <th>1</th>\n",
              "      <td>GJ Maxwell</td>\n",
              "      <td>11</td>\n",
              "      <td>2012-2022</td>\n",
              "      <td>3</td>\n",
              "    </tr>\n",
              "    <tr>\n",
              "      <th>2</th>\n",
              "      <td>C Munro</td>\n",
              "      <td>9</td>\n",
              "      <td>2012-2020</td>\n",
              "      <td>3</td>\n",
              "    </tr>\n",
              "    <tr>\n",
              "      <th>3</th>\n",
              "      <td>CH Gayle</td>\n",
              "      <td>22</td>\n",
              "      <td>1999-2021</td>\n",
              "      <td>2</td>\n",
              "    </tr>\n",
              "    <tr>\n",
              "      <th>4</th>\n",
              "      <td>AJ Finch</td>\n",
              "      <td>12</td>\n",
              "      <td>2011-2022</td>\n",
              "      <td>2</td>\n",
              "    </tr>\n",
              "    <tr>\n",
              "      <th>5</th>\n",
              "      <td>BB McCullum</td>\n",
              "      <td>15</td>\n",
              "      <td>2002-2016</td>\n",
              "      <td>2</td>\n",
              "    </tr>\n",
              "    <tr>\n",
              "      <th>6</th>\n",
              "      <td>MJ Guptill</td>\n",
              "      <td>14</td>\n",
              "      <td>2009-2022</td>\n",
              "      <td>2</td>\n",
              "    </tr>\n",
              "    <tr>\n",
              "      <th>7</th>\n",
              "      <td>S Davizi</td>\n",
              "      <td>4</td>\n",
              "      <td>2019-2022</td>\n",
              "      <td>2</td>\n",
              "    </tr>\n",
              "    <tr>\n",
              "      <th>8</th>\n",
              "      <td>KL Rahul</td>\n",
              "      <td>9</td>\n",
              "      <td>2014-2022</td>\n",
              "      <td>2</td>\n",
              "    </tr>\n",
              "    <tr>\n",
              "      <th>9</th>\n",
              "      <td>Muhammad Waseem</td>\n",
              "      <td>2</td>\n",
              "      <td>2021-2022</td>\n",
              "      <td>2</td>\n",
              "    </tr>\n",
              "    <tr>\n",
              "      <th>10</th>\n",
              "      <td>E Lewis</td>\n",
              "      <td>6</td>\n",
              "      <td>2016-2021</td>\n",
              "      <td>2</td>\n",
              "    </tr>\n",
              "  </tbody>\n",
              "</table>\n",
              "</div>\n",
              "      <button class=\"colab-df-convert\" onclick=\"convertToInteractive('df-b138d116-a315-4df6-9308-0eab8d105c16')\"\n",
              "              title=\"Convert this dataframe to an interactive table.\"\n",
              "              style=\"display:none;\">\n",
              "        \n",
              "  <svg xmlns=\"http://www.w3.org/2000/svg\" height=\"24px\"viewBox=\"0 0 24 24\"\n",
              "       width=\"24px\">\n",
              "    <path d=\"M0 0h24v24H0V0z\" fill=\"none\"/>\n",
              "    <path d=\"M18.56 5.44l.94 2.06.94-2.06 2.06-.94-2.06-.94-.94-2.06-.94 2.06-2.06.94zm-11 1L8.5 8.5l.94-2.06 2.06-.94-2.06-.94L8.5 2.5l-.94 2.06-2.06.94zm10 10l.94 2.06.94-2.06 2.06-.94-2.06-.94-.94-2.06-.94 2.06-2.06.94z\"/><path d=\"M17.41 7.96l-1.37-1.37c-.4-.4-.92-.59-1.43-.59-.52 0-1.04.2-1.43.59L10.3 9.45l-7.72 7.72c-.78.78-.78 2.05 0 2.83L4 21.41c.39.39.9.59 1.41.59.51 0 1.02-.2 1.41-.59l7.78-7.78 2.81-2.81c.8-.78.8-2.07 0-2.86zM5.41 20L4 18.59l7.72-7.72 1.47 1.35L5.41 20z\"/>\n",
              "  </svg>\n",
              "      </button>\n",
              "      \n",
              "  <style>\n",
              "    .colab-df-container {\n",
              "      display:flex;\n",
              "      flex-wrap:wrap;\n",
              "      gap: 12px;\n",
              "    }\n",
              "\n",
              "    .colab-df-convert {\n",
              "      background-color: #E8F0FE;\n",
              "      border: none;\n",
              "      border-radius: 50%;\n",
              "      cursor: pointer;\n",
              "      display: none;\n",
              "      fill: #1967D2;\n",
              "      height: 32px;\n",
              "      padding: 0 0 0 0;\n",
              "      width: 32px;\n",
              "    }\n",
              "\n",
              "    .colab-df-convert:hover {\n",
              "      background-color: #E2EBFA;\n",
              "      box-shadow: 0px 1px 2px rgba(60, 64, 67, 0.3), 0px 1px 3px 1px rgba(60, 64, 67, 0.15);\n",
              "      fill: #174EA6;\n",
              "    }\n",
              "\n",
              "    [theme=dark] .colab-df-convert {\n",
              "      background-color: #3B4455;\n",
              "      fill: #D2E3FC;\n",
              "    }\n",
              "\n",
              "    [theme=dark] .colab-df-convert:hover {\n",
              "      background-color: #434B5C;\n",
              "      box-shadow: 0px 1px 3px 1px rgba(0, 0, 0, 0.15);\n",
              "      filter: drop-shadow(0px 1px 2px rgba(0, 0, 0, 0.3));\n",
              "      fill: #FFFFFF;\n",
              "    }\n",
              "  </style>\n",
              "\n",
              "      <script>\n",
              "        const buttonEl =\n",
              "          document.querySelector('#df-b138d116-a315-4df6-9308-0eab8d105c16 button.colab-df-convert');\n",
              "        buttonEl.style.display =\n",
              "          google.colab.kernel.accessAllowed ? 'block' : 'none';\n",
              "\n",
              "        async function convertToInteractive(key) {\n",
              "          const element = document.querySelector('#df-b138d116-a315-4df6-9308-0eab8d105c16');\n",
              "          const dataTable =\n",
              "            await google.colab.kernel.invokeFunction('convertToInteractive',\n",
              "                                                     [key], {});\n",
              "          if (!dataTable) return;\n",
              "\n",
              "          const docLinkHtml = 'Like what you see? Visit the ' +\n",
              "            '<a target=\"_blank\" href=https://colab.research.google.com/notebooks/data_table.ipynb>data table notebook</a>'\n",
              "            + ' to learn more about interactive tables.';\n",
              "          element.innerHTML = '';\n",
              "          dataTable['output_type'] = 'display_data';\n",
              "          await google.colab.output.renderOutput(dataTable, element);\n",
              "          const docLink = document.createElement('div');\n",
              "          docLink.innerHTML = docLinkHtml;\n",
              "          element.appendChild(docLink);\n",
              "        }\n",
              "      </script>\n",
              "    </div>\n",
              "  </div>\n",
              "  "
            ]
          },
          "metadata": {},
          "execution_count": 109
        }
      ],
      "source": [
        "t20_match[(t20_match['Runs']>=100)][['Player_Name','Total_Years_Played','span']].value_counts().sort_values(ascending=False).head(11).reset_index()"
      ]
    },
    {
      "cell_type": "markdown",
      "id": "18aebecb",
      "metadata": {
        "papermill": {
          "duration": 0.047882,
          "end_time": "2022-07-07T16:30:52.714976",
          "exception": false,
          "start_time": "2022-07-07T16:30:52.667094",
          "status": "completed"
        },
        "tags": [],
        "id": "18aebecb"
      },
      "source": [
        "### Players with most 50+ scores in T20I"
      ]
    },
    {
      "cell_type": "code",
      "execution_count": 110,
      "id": "7dd9e724",
      "metadata": {
        "execution": {
          "iopub.execute_input": "2022-07-07T16:30:52.812092Z",
          "iopub.status.busy": "2022-07-07T16:30:52.811631Z",
          "iopub.status.idle": "2022-07-07T16:30:53.061393Z",
          "shell.execute_reply": "2022-07-07T16:30:53.060525Z"
        },
        "papermill": {
          "duration": 0.301589,
          "end_time": "2022-07-07T16:30:53.064119",
          "exception": false,
          "start_time": "2022-07-07T16:30:52.762530",
          "status": "completed"
        },
        "tags": [],
        "colab": {
          "base_uri": "https://localhost:8080/",
          "height": 363
        },
        "id": "7dd9e724",
        "outputId": "702febb3-f902-455a-d6e2-094143800558"
      },
      "outputs": [
        {
          "output_type": "execute_result",
          "data": {
            "text/plain": [
              "     Player_Name  Total_Years_Played       span   0\n",
              "0        V Kohli                  15  2008-2022  30\n",
              "1     Babar Azam                   8  2015-2022  26\n",
              "2      RG Sharma                  16  2007-2022  26\n",
              "3      DA Warner                  14  2009-2022  22\n",
              "4    PR Stirling                  15  2008-2022  20\n",
              "5     MJ Guptill                  14  2009-2022  20\n",
              "6       AJ Finch                  12  2011-2022  17\n",
              "7       KL Rahul                   9  2014-2022  16\n",
              "8     JC Buttler                  12  2011-2022  15\n",
              "9  KS Williamson                  13  2010-2022  14"
            ],
            "text/html": [
              "\n",
              "  <div id=\"df-99235c09-a223-480b-851d-ba6ce204f2d0\">\n",
              "    <div class=\"colab-df-container\">\n",
              "      <div>\n",
              "<style scoped>\n",
              "    .dataframe tbody tr th:only-of-type {\n",
              "        vertical-align: middle;\n",
              "    }\n",
              "\n",
              "    .dataframe tbody tr th {\n",
              "        vertical-align: top;\n",
              "    }\n",
              "\n",
              "    .dataframe thead th {\n",
              "        text-align: right;\n",
              "    }\n",
              "</style>\n",
              "<table border=\"1\" class=\"dataframe\">\n",
              "  <thead>\n",
              "    <tr style=\"text-align: right;\">\n",
              "      <th></th>\n",
              "      <th>Player_Name</th>\n",
              "      <th>Total_Years_Played</th>\n",
              "      <th>span</th>\n",
              "      <th>0</th>\n",
              "    </tr>\n",
              "  </thead>\n",
              "  <tbody>\n",
              "    <tr>\n",
              "      <th>0</th>\n",
              "      <td>V Kohli</td>\n",
              "      <td>15</td>\n",
              "      <td>2008-2022</td>\n",
              "      <td>30</td>\n",
              "    </tr>\n",
              "    <tr>\n",
              "      <th>1</th>\n",
              "      <td>Babar Azam</td>\n",
              "      <td>8</td>\n",
              "      <td>2015-2022</td>\n",
              "      <td>26</td>\n",
              "    </tr>\n",
              "    <tr>\n",
              "      <th>2</th>\n",
              "      <td>RG Sharma</td>\n",
              "      <td>16</td>\n",
              "      <td>2007-2022</td>\n",
              "      <td>26</td>\n",
              "    </tr>\n",
              "    <tr>\n",
              "      <th>3</th>\n",
              "      <td>DA Warner</td>\n",
              "      <td>14</td>\n",
              "      <td>2009-2022</td>\n",
              "      <td>22</td>\n",
              "    </tr>\n",
              "    <tr>\n",
              "      <th>4</th>\n",
              "      <td>PR Stirling</td>\n",
              "      <td>15</td>\n",
              "      <td>2008-2022</td>\n",
              "      <td>20</td>\n",
              "    </tr>\n",
              "    <tr>\n",
              "      <th>5</th>\n",
              "      <td>MJ Guptill</td>\n",
              "      <td>14</td>\n",
              "      <td>2009-2022</td>\n",
              "      <td>20</td>\n",
              "    </tr>\n",
              "    <tr>\n",
              "      <th>6</th>\n",
              "      <td>AJ Finch</td>\n",
              "      <td>12</td>\n",
              "      <td>2011-2022</td>\n",
              "      <td>17</td>\n",
              "    </tr>\n",
              "    <tr>\n",
              "      <th>7</th>\n",
              "      <td>KL Rahul</td>\n",
              "      <td>9</td>\n",
              "      <td>2014-2022</td>\n",
              "      <td>16</td>\n",
              "    </tr>\n",
              "    <tr>\n",
              "      <th>8</th>\n",
              "      <td>JC Buttler</td>\n",
              "      <td>12</td>\n",
              "      <td>2011-2022</td>\n",
              "      <td>15</td>\n",
              "    </tr>\n",
              "    <tr>\n",
              "      <th>9</th>\n",
              "      <td>KS Williamson</td>\n",
              "      <td>13</td>\n",
              "      <td>2010-2022</td>\n",
              "      <td>14</td>\n",
              "    </tr>\n",
              "  </tbody>\n",
              "</table>\n",
              "</div>\n",
              "      <button class=\"colab-df-convert\" onclick=\"convertToInteractive('df-99235c09-a223-480b-851d-ba6ce204f2d0')\"\n",
              "              title=\"Convert this dataframe to an interactive table.\"\n",
              "              style=\"display:none;\">\n",
              "        \n",
              "  <svg xmlns=\"http://www.w3.org/2000/svg\" height=\"24px\"viewBox=\"0 0 24 24\"\n",
              "       width=\"24px\">\n",
              "    <path d=\"M0 0h24v24H0V0z\" fill=\"none\"/>\n",
              "    <path d=\"M18.56 5.44l.94 2.06.94-2.06 2.06-.94-2.06-.94-.94-2.06-.94 2.06-2.06.94zm-11 1L8.5 8.5l.94-2.06 2.06-.94-2.06-.94L8.5 2.5l-.94 2.06-2.06.94zm10 10l.94 2.06.94-2.06 2.06-.94-2.06-.94-.94-2.06-.94 2.06-2.06.94z\"/><path d=\"M17.41 7.96l-1.37-1.37c-.4-.4-.92-.59-1.43-.59-.52 0-1.04.2-1.43.59L10.3 9.45l-7.72 7.72c-.78.78-.78 2.05 0 2.83L4 21.41c.39.39.9.59 1.41.59.51 0 1.02-.2 1.41-.59l7.78-7.78 2.81-2.81c.8-.78.8-2.07 0-2.86zM5.41 20L4 18.59l7.72-7.72 1.47 1.35L5.41 20z\"/>\n",
              "  </svg>\n",
              "      </button>\n",
              "      \n",
              "  <style>\n",
              "    .colab-df-container {\n",
              "      display:flex;\n",
              "      flex-wrap:wrap;\n",
              "      gap: 12px;\n",
              "    }\n",
              "\n",
              "    .colab-df-convert {\n",
              "      background-color: #E8F0FE;\n",
              "      border: none;\n",
              "      border-radius: 50%;\n",
              "      cursor: pointer;\n",
              "      display: none;\n",
              "      fill: #1967D2;\n",
              "      height: 32px;\n",
              "      padding: 0 0 0 0;\n",
              "      width: 32px;\n",
              "    }\n",
              "\n",
              "    .colab-df-convert:hover {\n",
              "      background-color: #E2EBFA;\n",
              "      box-shadow: 0px 1px 2px rgba(60, 64, 67, 0.3), 0px 1px 3px 1px rgba(60, 64, 67, 0.15);\n",
              "      fill: #174EA6;\n",
              "    }\n",
              "\n",
              "    [theme=dark] .colab-df-convert {\n",
              "      background-color: #3B4455;\n",
              "      fill: #D2E3FC;\n",
              "    }\n",
              "\n",
              "    [theme=dark] .colab-df-convert:hover {\n",
              "      background-color: #434B5C;\n",
              "      box-shadow: 0px 1px 3px 1px rgba(0, 0, 0, 0.15);\n",
              "      filter: drop-shadow(0px 1px 2px rgba(0, 0, 0, 0.3));\n",
              "      fill: #FFFFFF;\n",
              "    }\n",
              "  </style>\n",
              "\n",
              "      <script>\n",
              "        const buttonEl =\n",
              "          document.querySelector('#df-99235c09-a223-480b-851d-ba6ce204f2d0 button.colab-df-convert');\n",
              "        buttonEl.style.display =\n",
              "          google.colab.kernel.accessAllowed ? 'block' : 'none';\n",
              "\n",
              "        async function convertToInteractive(key) {\n",
              "          const element = document.querySelector('#df-99235c09-a223-480b-851d-ba6ce204f2d0');\n",
              "          const dataTable =\n",
              "            await google.colab.kernel.invokeFunction('convertToInteractive',\n",
              "                                                     [key], {});\n",
              "          if (!dataTable) return;\n",
              "\n",
              "          const docLinkHtml = 'Like what you see? Visit the ' +\n",
              "            '<a target=\"_blank\" href=https://colab.research.google.com/notebooks/data_table.ipynb>data table notebook</a>'\n",
              "            + ' to learn more about interactive tables.';\n",
              "          element.innerHTML = '';\n",
              "          dataTable['output_type'] = 'display_data';\n",
              "          await google.colab.output.renderOutput(dataTable, element);\n",
              "          const docLink = document.createElement('div');\n",
              "          docLink.innerHTML = docLinkHtml;\n",
              "          element.appendChild(docLink);\n",
              "        }\n",
              "      </script>\n",
              "    </div>\n",
              "  </div>\n",
              "  "
            ]
          },
          "metadata": {},
          "execution_count": 110
        }
      ],
      "source": [
        "t20_match[(t20_match['Runs']>=50) & (final_df['Runs']<100)][['Player_Name','Total_Years_Played','span']].value_counts().sort_values(ascending=False).head(10).reset_index()"
      ]
    },
    {
      "cell_type": "markdown",
      "id": "4d99c5c1",
      "metadata": {
        "papermill": {
          "duration": 0.047464,
          "end_time": "2022-07-07T16:30:53.159550",
          "exception": false,
          "start_time": "2022-07-07T16:30:53.112086",
          "status": "completed"
        },
        "tags": [],
        "id": "4d99c5c1"
      },
      "source": [
        "### Top 10 players with highest runs aggregate in T20I"
      ]
    },
    {
      "cell_type": "code",
      "execution_count": 111,
      "id": "0e380f69",
      "metadata": {
        "execution": {
          "iopub.execute_input": "2022-07-07T16:30:53.277960Z",
          "iopub.status.busy": "2022-07-07T16:30:53.277395Z",
          "iopub.status.idle": "2022-07-07T16:30:53.321462Z",
          "shell.execute_reply": "2022-07-07T16:30:53.320473Z"
        },
        "papermill": {
          "duration": 0.116293,
          "end_time": "2022-07-07T16:30:53.324017",
          "exception": false,
          "start_time": "2022-07-07T16:30:53.207724",
          "status": "completed"
        },
        "tags": [],
        "colab": {
          "base_uri": "https://localhost:8080/",
          "height": 363
        },
        "id": "0e380f69",
        "outputId": "c68910bf-b874-49c4-f91d-5ab520e4d0c1"
      },
      "outputs": [
        {
          "output_type": "execute_result",
          "data": {
            "text/plain": [
              "       Player_Name  Total_Years_Played       span  Runs\n",
              "0        RG Sharma                  16  2007-2022  3313\n",
              "1       MJ Guptill                  14  2009-2022  3299\n",
              "2          V Kohli                  15  2008-2022  3296\n",
              "3         AJ Finch                  12  2011-2022  2855\n",
              "4      PR Stirling                  15  2008-2022  2776\n",
              "5       Babar Azam                   8  2015-2022  2686\n",
              "6        DA Warner                  14  2009-2022  2684\n",
              "7  Mohammad Hafeez                  16  2003-2021  2514\n",
              "8       EJG Morgan                  17  2006-2022  2458\n",
              "9     Shoaib Malik                  23  1999-2021  2435"
            ],
            "text/html": [
              "\n",
              "  <div id=\"df-f4798139-30e4-44bd-b1de-09292ec341c4\">\n",
              "    <div class=\"colab-df-container\">\n",
              "      <div>\n",
              "<style scoped>\n",
              "    .dataframe tbody tr th:only-of-type {\n",
              "        vertical-align: middle;\n",
              "    }\n",
              "\n",
              "    .dataframe tbody tr th {\n",
              "        vertical-align: top;\n",
              "    }\n",
              "\n",
              "    .dataframe thead th {\n",
              "        text-align: right;\n",
              "    }\n",
              "</style>\n",
              "<table border=\"1\" class=\"dataframe\">\n",
              "  <thead>\n",
              "    <tr style=\"text-align: right;\">\n",
              "      <th></th>\n",
              "      <th>Player_Name</th>\n",
              "      <th>Total_Years_Played</th>\n",
              "      <th>span</th>\n",
              "      <th>Runs</th>\n",
              "    </tr>\n",
              "  </thead>\n",
              "  <tbody>\n",
              "    <tr>\n",
              "      <th>0</th>\n",
              "      <td>RG Sharma</td>\n",
              "      <td>16</td>\n",
              "      <td>2007-2022</td>\n",
              "      <td>3313</td>\n",
              "    </tr>\n",
              "    <tr>\n",
              "      <th>1</th>\n",
              "      <td>MJ Guptill</td>\n",
              "      <td>14</td>\n",
              "      <td>2009-2022</td>\n",
              "      <td>3299</td>\n",
              "    </tr>\n",
              "    <tr>\n",
              "      <th>2</th>\n",
              "      <td>V Kohli</td>\n",
              "      <td>15</td>\n",
              "      <td>2008-2022</td>\n",
              "      <td>3296</td>\n",
              "    </tr>\n",
              "    <tr>\n",
              "      <th>3</th>\n",
              "      <td>AJ Finch</td>\n",
              "      <td>12</td>\n",
              "      <td>2011-2022</td>\n",
              "      <td>2855</td>\n",
              "    </tr>\n",
              "    <tr>\n",
              "      <th>4</th>\n",
              "      <td>PR Stirling</td>\n",
              "      <td>15</td>\n",
              "      <td>2008-2022</td>\n",
              "      <td>2776</td>\n",
              "    </tr>\n",
              "    <tr>\n",
              "      <th>5</th>\n",
              "      <td>Babar Azam</td>\n",
              "      <td>8</td>\n",
              "      <td>2015-2022</td>\n",
              "      <td>2686</td>\n",
              "    </tr>\n",
              "    <tr>\n",
              "      <th>6</th>\n",
              "      <td>DA Warner</td>\n",
              "      <td>14</td>\n",
              "      <td>2009-2022</td>\n",
              "      <td>2684</td>\n",
              "    </tr>\n",
              "    <tr>\n",
              "      <th>7</th>\n",
              "      <td>Mohammad Hafeez</td>\n",
              "      <td>16</td>\n",
              "      <td>2003-2021</td>\n",
              "      <td>2514</td>\n",
              "    </tr>\n",
              "    <tr>\n",
              "      <th>8</th>\n",
              "      <td>EJG Morgan</td>\n",
              "      <td>17</td>\n",
              "      <td>2006-2022</td>\n",
              "      <td>2458</td>\n",
              "    </tr>\n",
              "    <tr>\n",
              "      <th>9</th>\n",
              "      <td>Shoaib Malik</td>\n",
              "      <td>23</td>\n",
              "      <td>1999-2021</td>\n",
              "      <td>2435</td>\n",
              "    </tr>\n",
              "  </tbody>\n",
              "</table>\n",
              "</div>\n",
              "      <button class=\"colab-df-convert\" onclick=\"convertToInteractive('df-f4798139-30e4-44bd-b1de-09292ec341c4')\"\n",
              "              title=\"Convert this dataframe to an interactive table.\"\n",
              "              style=\"display:none;\">\n",
              "        \n",
              "  <svg xmlns=\"http://www.w3.org/2000/svg\" height=\"24px\"viewBox=\"0 0 24 24\"\n",
              "       width=\"24px\">\n",
              "    <path d=\"M0 0h24v24H0V0z\" fill=\"none\"/>\n",
              "    <path d=\"M18.56 5.44l.94 2.06.94-2.06 2.06-.94-2.06-.94-.94-2.06-.94 2.06-2.06.94zm-11 1L8.5 8.5l.94-2.06 2.06-.94-2.06-.94L8.5 2.5l-.94 2.06-2.06.94zm10 10l.94 2.06.94-2.06 2.06-.94-2.06-.94-.94-2.06-.94 2.06-2.06.94z\"/><path d=\"M17.41 7.96l-1.37-1.37c-.4-.4-.92-.59-1.43-.59-.52 0-1.04.2-1.43.59L10.3 9.45l-7.72 7.72c-.78.78-.78 2.05 0 2.83L4 21.41c.39.39.9.59 1.41.59.51 0 1.02-.2 1.41-.59l7.78-7.78 2.81-2.81c.8-.78.8-2.07 0-2.86zM5.41 20L4 18.59l7.72-7.72 1.47 1.35L5.41 20z\"/>\n",
              "  </svg>\n",
              "      </button>\n",
              "      \n",
              "  <style>\n",
              "    .colab-df-container {\n",
              "      display:flex;\n",
              "      flex-wrap:wrap;\n",
              "      gap: 12px;\n",
              "    }\n",
              "\n",
              "    .colab-df-convert {\n",
              "      background-color: #E8F0FE;\n",
              "      border: none;\n",
              "      border-radius: 50%;\n",
              "      cursor: pointer;\n",
              "      display: none;\n",
              "      fill: #1967D2;\n",
              "      height: 32px;\n",
              "      padding: 0 0 0 0;\n",
              "      width: 32px;\n",
              "    }\n",
              "\n",
              "    .colab-df-convert:hover {\n",
              "      background-color: #E2EBFA;\n",
              "      box-shadow: 0px 1px 2px rgba(60, 64, 67, 0.3), 0px 1px 3px 1px rgba(60, 64, 67, 0.15);\n",
              "      fill: #174EA6;\n",
              "    }\n",
              "\n",
              "    [theme=dark] .colab-df-convert {\n",
              "      background-color: #3B4455;\n",
              "      fill: #D2E3FC;\n",
              "    }\n",
              "\n",
              "    [theme=dark] .colab-df-convert:hover {\n",
              "      background-color: #434B5C;\n",
              "      box-shadow: 0px 1px 3px 1px rgba(0, 0, 0, 0.15);\n",
              "      filter: drop-shadow(0px 1px 2px rgba(0, 0, 0, 0.3));\n",
              "      fill: #FFFFFF;\n",
              "    }\n",
              "  </style>\n",
              "\n",
              "      <script>\n",
              "        const buttonEl =\n",
              "          document.querySelector('#df-f4798139-30e4-44bd-b1de-09292ec341c4 button.colab-df-convert');\n",
              "        buttonEl.style.display =\n",
              "          google.colab.kernel.accessAllowed ? 'block' : 'none';\n",
              "\n",
              "        async function convertToInteractive(key) {\n",
              "          const element = document.querySelector('#df-f4798139-30e4-44bd-b1de-09292ec341c4');\n",
              "          const dataTable =\n",
              "            await google.colab.kernel.invokeFunction('convertToInteractive',\n",
              "                                                     [key], {});\n",
              "          if (!dataTable) return;\n",
              "\n",
              "          const docLinkHtml = 'Like what you see? Visit the ' +\n",
              "            '<a target=\"_blank\" href=https://colab.research.google.com/notebooks/data_table.ipynb>data table notebook</a>'\n",
              "            + ' to learn more about interactive tables.';\n",
              "          element.innerHTML = '';\n",
              "          dataTable['output_type'] = 'display_data';\n",
              "          await google.colab.output.renderOutput(dataTable, element);\n",
              "          const docLink = document.createElement('div');\n",
              "          docLink.innerHTML = docLinkHtml;\n",
              "          element.appendChild(docLink);\n",
              "        }\n",
              "      </script>\n",
              "    </div>\n",
              "  </div>\n",
              "  "
            ]
          },
          "metadata": {},
          "execution_count": 111
        }
      ],
      "source": [
        "t20_match.groupby(['Player_Name','Total_Years_Played','span'])['Runs'].sum().sort_values(ascending=False).reset_index().head(10)\n"
      ]
    },
    {
      "cell_type": "code",
      "execution_count": 112,
      "id": "e4e04d52",
      "metadata": {
        "execution": {
          "iopub.execute_input": "2022-07-07T16:30:53.425575Z",
          "iopub.status.busy": "2022-07-07T16:30:53.424893Z",
          "iopub.status.idle": "2022-07-07T16:30:53.456615Z",
          "shell.execute_reply": "2022-07-07T16:30:53.455180Z"
        },
        "papermill": {
          "duration": 0.085692,
          "end_time": "2022-07-07T16:30:53.459573",
          "exception": false,
          "start_time": "2022-07-07T16:30:53.373881",
          "status": "completed"
        },
        "tags": [],
        "id": "e4e04d52"
      },
      "outputs": [],
      "source": [
        "t20_match['4s']=t20_match['4s'].astype(int)\n",
        "t20_match['6s']=t20_match['6s'].astype(int)"
      ]
    },
    {
      "cell_type": "markdown",
      "id": "e26a7bf1",
      "metadata": {
        "papermill": {
          "duration": 0.04821,
          "end_time": "2022-07-07T16:30:53.556991",
          "exception": false,
          "start_time": "2022-07-07T16:30:53.508781",
          "status": "completed"
        },
        "tags": [],
        "id": "e26a7bf1"
      },
      "source": [
        "### Most number of sixes hit by players (Top 10)"
      ]
    },
    {
      "cell_type": "code",
      "execution_count": 113,
      "id": "04cb2343",
      "metadata": {
        "execution": {
          "iopub.execute_input": "2022-07-07T16:30:53.657868Z",
          "iopub.status.busy": "2022-07-07T16:30:53.657072Z",
          "iopub.status.idle": "2022-07-07T16:30:53.682462Z",
          "shell.execute_reply": "2022-07-07T16:30:53.681039Z"
        },
        "papermill": {
          "duration": 0.079411,
          "end_time": "2022-07-07T16:30:53.685026",
          "exception": false,
          "start_time": "2022-07-07T16:30:53.605615",
          "status": "completed"
        },
        "tags": [],
        "colab": {
          "base_uri": "https://localhost:8080/",
          "height": 363
        },
        "id": "04cb2343",
        "outputId": "85306ea2-defc-4a51-cb69-bc79b730ded2"
      },
      "outputs": [
        {
          "output_type": "execute_result",
          "data": {
            "text/plain": [
              "  Player_Name   6s\n",
              "0  MJ Guptill  165\n",
              "1   RG Sharma  155\n",
              "2    CH Gayle  124\n",
              "3  EJG Morgan  120\n",
              "4    AJ Finch  117\n",
              "5     E Lewis  110\n",
              "6     C Munro  107\n",
              "7   DA Warner  100\n",
              "8  KA Pollard   99\n",
              "9  GJ Maxwell   99"
            ],
            "text/html": [
              "\n",
              "  <div id=\"df-6fbf2a20-3663-44dc-bd63-34c40619c5eb\">\n",
              "    <div class=\"colab-df-container\">\n",
              "      <div>\n",
              "<style scoped>\n",
              "    .dataframe tbody tr th:only-of-type {\n",
              "        vertical-align: middle;\n",
              "    }\n",
              "\n",
              "    .dataframe tbody tr th {\n",
              "        vertical-align: top;\n",
              "    }\n",
              "\n",
              "    .dataframe thead th {\n",
              "        text-align: right;\n",
              "    }\n",
              "</style>\n",
              "<table border=\"1\" class=\"dataframe\">\n",
              "  <thead>\n",
              "    <tr style=\"text-align: right;\">\n",
              "      <th></th>\n",
              "      <th>Player_Name</th>\n",
              "      <th>6s</th>\n",
              "    </tr>\n",
              "  </thead>\n",
              "  <tbody>\n",
              "    <tr>\n",
              "      <th>0</th>\n",
              "      <td>MJ Guptill</td>\n",
              "      <td>165</td>\n",
              "    </tr>\n",
              "    <tr>\n",
              "      <th>1</th>\n",
              "      <td>RG Sharma</td>\n",
              "      <td>155</td>\n",
              "    </tr>\n",
              "    <tr>\n",
              "      <th>2</th>\n",
              "      <td>CH Gayle</td>\n",
              "      <td>124</td>\n",
              "    </tr>\n",
              "    <tr>\n",
              "      <th>3</th>\n",
              "      <td>EJG Morgan</td>\n",
              "      <td>120</td>\n",
              "    </tr>\n",
              "    <tr>\n",
              "      <th>4</th>\n",
              "      <td>AJ Finch</td>\n",
              "      <td>117</td>\n",
              "    </tr>\n",
              "    <tr>\n",
              "      <th>5</th>\n",
              "      <td>E Lewis</td>\n",
              "      <td>110</td>\n",
              "    </tr>\n",
              "    <tr>\n",
              "      <th>6</th>\n",
              "      <td>C Munro</td>\n",
              "      <td>107</td>\n",
              "    </tr>\n",
              "    <tr>\n",
              "      <th>7</th>\n",
              "      <td>DA Warner</td>\n",
              "      <td>100</td>\n",
              "    </tr>\n",
              "    <tr>\n",
              "      <th>8</th>\n",
              "      <td>KA Pollard</td>\n",
              "      <td>99</td>\n",
              "    </tr>\n",
              "    <tr>\n",
              "      <th>9</th>\n",
              "      <td>GJ Maxwell</td>\n",
              "      <td>99</td>\n",
              "    </tr>\n",
              "  </tbody>\n",
              "</table>\n",
              "</div>\n",
              "      <button class=\"colab-df-convert\" onclick=\"convertToInteractive('df-6fbf2a20-3663-44dc-bd63-34c40619c5eb')\"\n",
              "              title=\"Convert this dataframe to an interactive table.\"\n",
              "              style=\"display:none;\">\n",
              "        \n",
              "  <svg xmlns=\"http://www.w3.org/2000/svg\" height=\"24px\"viewBox=\"0 0 24 24\"\n",
              "       width=\"24px\">\n",
              "    <path d=\"M0 0h24v24H0V0z\" fill=\"none\"/>\n",
              "    <path d=\"M18.56 5.44l.94 2.06.94-2.06 2.06-.94-2.06-.94-.94-2.06-.94 2.06-2.06.94zm-11 1L8.5 8.5l.94-2.06 2.06-.94-2.06-.94L8.5 2.5l-.94 2.06-2.06.94zm10 10l.94 2.06.94-2.06 2.06-.94-2.06-.94-.94-2.06-.94 2.06-2.06.94z\"/><path d=\"M17.41 7.96l-1.37-1.37c-.4-.4-.92-.59-1.43-.59-.52 0-1.04.2-1.43.59L10.3 9.45l-7.72 7.72c-.78.78-.78 2.05 0 2.83L4 21.41c.39.39.9.59 1.41.59.51 0 1.02-.2 1.41-.59l7.78-7.78 2.81-2.81c.8-.78.8-2.07 0-2.86zM5.41 20L4 18.59l7.72-7.72 1.47 1.35L5.41 20z\"/>\n",
              "  </svg>\n",
              "      </button>\n",
              "      \n",
              "  <style>\n",
              "    .colab-df-container {\n",
              "      display:flex;\n",
              "      flex-wrap:wrap;\n",
              "      gap: 12px;\n",
              "    }\n",
              "\n",
              "    .colab-df-convert {\n",
              "      background-color: #E8F0FE;\n",
              "      border: none;\n",
              "      border-radius: 50%;\n",
              "      cursor: pointer;\n",
              "      display: none;\n",
              "      fill: #1967D2;\n",
              "      height: 32px;\n",
              "      padding: 0 0 0 0;\n",
              "      width: 32px;\n",
              "    }\n",
              "\n",
              "    .colab-df-convert:hover {\n",
              "      background-color: #E2EBFA;\n",
              "      box-shadow: 0px 1px 2px rgba(60, 64, 67, 0.3), 0px 1px 3px 1px rgba(60, 64, 67, 0.15);\n",
              "      fill: #174EA6;\n",
              "    }\n",
              "\n",
              "    [theme=dark] .colab-df-convert {\n",
              "      background-color: #3B4455;\n",
              "      fill: #D2E3FC;\n",
              "    }\n",
              "\n",
              "    [theme=dark] .colab-df-convert:hover {\n",
              "      background-color: #434B5C;\n",
              "      box-shadow: 0px 1px 3px 1px rgba(0, 0, 0, 0.15);\n",
              "      filter: drop-shadow(0px 1px 2px rgba(0, 0, 0, 0.3));\n",
              "      fill: #FFFFFF;\n",
              "    }\n",
              "  </style>\n",
              "\n",
              "      <script>\n",
              "        const buttonEl =\n",
              "          document.querySelector('#df-6fbf2a20-3663-44dc-bd63-34c40619c5eb button.colab-df-convert');\n",
              "        buttonEl.style.display =\n",
              "          google.colab.kernel.accessAllowed ? 'block' : 'none';\n",
              "\n",
              "        async function convertToInteractive(key) {\n",
              "          const element = document.querySelector('#df-6fbf2a20-3663-44dc-bd63-34c40619c5eb');\n",
              "          const dataTable =\n",
              "            await google.colab.kernel.invokeFunction('convertToInteractive',\n",
              "                                                     [key], {});\n",
              "          if (!dataTable) return;\n",
              "\n",
              "          const docLinkHtml = 'Like what you see? Visit the ' +\n",
              "            '<a target=\"_blank\" href=https://colab.research.google.com/notebooks/data_table.ipynb>data table notebook</a>'\n",
              "            + ' to learn more about interactive tables.';\n",
              "          element.innerHTML = '';\n",
              "          dataTable['output_type'] = 'display_data';\n",
              "          await google.colab.output.renderOutput(dataTable, element);\n",
              "          const docLink = document.createElement('div');\n",
              "          docLink.innerHTML = docLinkHtml;\n",
              "          element.appendChild(docLink);\n",
              "        }\n",
              "      </script>\n",
              "    </div>\n",
              "  </div>\n",
              "  "
            ]
          },
          "metadata": {},
          "execution_count": 113
        }
      ],
      "source": [
        "t20_match.groupby('Player_Name')['6s'].sum().sort_values(ascending=False).head(10).reset_index()"
      ]
    },
    {
      "cell_type": "markdown",
      "id": "21b01998",
      "metadata": {
        "papermill": {
          "duration": 0.048586,
          "end_time": "2022-07-07T16:30:53.783696",
          "exception": false,
          "start_time": "2022-07-07T16:30:53.735110",
          "status": "completed"
        },
        "tags": [],
        "id": "21b01998"
      },
      "source": [
        "### Most number of fours hit by players (Top 10)"
      ]
    },
    {
      "cell_type": "code",
      "execution_count": 114,
      "id": "ecfc20a5",
      "metadata": {
        "execution": {
          "iopub.execute_input": "2022-07-07T16:30:53.883342Z",
          "iopub.status.busy": "2022-07-07T16:30:53.882931Z",
          "iopub.status.idle": "2022-07-07T16:30:53.907637Z",
          "shell.execute_reply": "2022-07-07T16:30:53.906471Z"
        },
        "papermill": {
          "duration": 0.077569,
          "end_time": "2022-07-07T16:30:53.910079",
          "exception": false,
          "start_time": "2022-07-07T16:30:53.832510",
          "status": "completed"
        },
        "tags": [],
        "colab": {
          "base_uri": "https://localhost:8080/",
          "height": 363
        },
        "id": "ecfc20a5",
        "outputId": "0f7dceea-a2dd-4419-aa5f-e04c5d206139"
      },
      "outputs": [
        {
          "output_type": "execute_result",
          "data": {
            "text/plain": [
              "        Player_Name   4s\n",
              "0       PR Stirling  319\n",
              "1           V Kohli  298\n",
              "2         RG Sharma  293\n",
              "3        MJ Guptill  287\n",
              "4          AJ Finch  286\n",
              "5        Babar Azam  278\n",
              "6         DA Warner  268\n",
              "7   Mohammad Hafeez  251\n",
              "8  Mohammad Shahzad  250\n",
              "9        TM Dilshan  223"
            ],
            "text/html": [
              "\n",
              "  <div id=\"df-381482fc-e052-496a-80ae-d4b723865383\">\n",
              "    <div class=\"colab-df-container\">\n",
              "      <div>\n",
              "<style scoped>\n",
              "    .dataframe tbody tr th:only-of-type {\n",
              "        vertical-align: middle;\n",
              "    }\n",
              "\n",
              "    .dataframe tbody tr th {\n",
              "        vertical-align: top;\n",
              "    }\n",
              "\n",
              "    .dataframe thead th {\n",
              "        text-align: right;\n",
              "    }\n",
              "</style>\n",
              "<table border=\"1\" class=\"dataframe\">\n",
              "  <thead>\n",
              "    <tr style=\"text-align: right;\">\n",
              "      <th></th>\n",
              "      <th>Player_Name</th>\n",
              "      <th>4s</th>\n",
              "    </tr>\n",
              "  </thead>\n",
              "  <tbody>\n",
              "    <tr>\n",
              "      <th>0</th>\n",
              "      <td>PR Stirling</td>\n",
              "      <td>319</td>\n",
              "    </tr>\n",
              "    <tr>\n",
              "      <th>1</th>\n",
              "      <td>V Kohli</td>\n",
              "      <td>298</td>\n",
              "    </tr>\n",
              "    <tr>\n",
              "      <th>2</th>\n",
              "      <td>RG Sharma</td>\n",
              "      <td>293</td>\n",
              "    </tr>\n",
              "    <tr>\n",
              "      <th>3</th>\n",
              "      <td>MJ Guptill</td>\n",
              "      <td>287</td>\n",
              "    </tr>\n",
              "    <tr>\n",
              "      <th>4</th>\n",
              "      <td>AJ Finch</td>\n",
              "      <td>286</td>\n",
              "    </tr>\n",
              "    <tr>\n",
              "      <th>5</th>\n",
              "      <td>Babar Azam</td>\n",
              "      <td>278</td>\n",
              "    </tr>\n",
              "    <tr>\n",
              "      <th>6</th>\n",
              "      <td>DA Warner</td>\n",
              "      <td>268</td>\n",
              "    </tr>\n",
              "    <tr>\n",
              "      <th>7</th>\n",
              "      <td>Mohammad Hafeez</td>\n",
              "      <td>251</td>\n",
              "    </tr>\n",
              "    <tr>\n",
              "      <th>8</th>\n",
              "      <td>Mohammad Shahzad</td>\n",
              "      <td>250</td>\n",
              "    </tr>\n",
              "    <tr>\n",
              "      <th>9</th>\n",
              "      <td>TM Dilshan</td>\n",
              "      <td>223</td>\n",
              "    </tr>\n",
              "  </tbody>\n",
              "</table>\n",
              "</div>\n",
              "      <button class=\"colab-df-convert\" onclick=\"convertToInteractive('df-381482fc-e052-496a-80ae-d4b723865383')\"\n",
              "              title=\"Convert this dataframe to an interactive table.\"\n",
              "              style=\"display:none;\">\n",
              "        \n",
              "  <svg xmlns=\"http://www.w3.org/2000/svg\" height=\"24px\"viewBox=\"0 0 24 24\"\n",
              "       width=\"24px\">\n",
              "    <path d=\"M0 0h24v24H0V0z\" fill=\"none\"/>\n",
              "    <path d=\"M18.56 5.44l.94 2.06.94-2.06 2.06-.94-2.06-.94-.94-2.06-.94 2.06-2.06.94zm-11 1L8.5 8.5l.94-2.06 2.06-.94-2.06-.94L8.5 2.5l-.94 2.06-2.06.94zm10 10l.94 2.06.94-2.06 2.06-.94-2.06-.94-.94-2.06-.94 2.06-2.06.94z\"/><path d=\"M17.41 7.96l-1.37-1.37c-.4-.4-.92-.59-1.43-.59-.52 0-1.04.2-1.43.59L10.3 9.45l-7.72 7.72c-.78.78-.78 2.05 0 2.83L4 21.41c.39.39.9.59 1.41.59.51 0 1.02-.2 1.41-.59l7.78-7.78 2.81-2.81c.8-.78.8-2.07 0-2.86zM5.41 20L4 18.59l7.72-7.72 1.47 1.35L5.41 20z\"/>\n",
              "  </svg>\n",
              "      </button>\n",
              "      \n",
              "  <style>\n",
              "    .colab-df-container {\n",
              "      display:flex;\n",
              "      flex-wrap:wrap;\n",
              "      gap: 12px;\n",
              "    }\n",
              "\n",
              "    .colab-df-convert {\n",
              "      background-color: #E8F0FE;\n",
              "      border: none;\n",
              "      border-radius: 50%;\n",
              "      cursor: pointer;\n",
              "      display: none;\n",
              "      fill: #1967D2;\n",
              "      height: 32px;\n",
              "      padding: 0 0 0 0;\n",
              "      width: 32px;\n",
              "    }\n",
              "\n",
              "    .colab-df-convert:hover {\n",
              "      background-color: #E2EBFA;\n",
              "      box-shadow: 0px 1px 2px rgba(60, 64, 67, 0.3), 0px 1px 3px 1px rgba(60, 64, 67, 0.15);\n",
              "      fill: #174EA6;\n",
              "    }\n",
              "\n",
              "    [theme=dark] .colab-df-convert {\n",
              "      background-color: #3B4455;\n",
              "      fill: #D2E3FC;\n",
              "    }\n",
              "\n",
              "    [theme=dark] .colab-df-convert:hover {\n",
              "      background-color: #434B5C;\n",
              "      box-shadow: 0px 1px 3px 1px rgba(0, 0, 0, 0.15);\n",
              "      filter: drop-shadow(0px 1px 2px rgba(0, 0, 0, 0.3));\n",
              "      fill: #FFFFFF;\n",
              "    }\n",
              "  </style>\n",
              "\n",
              "      <script>\n",
              "        const buttonEl =\n",
              "          document.querySelector('#df-381482fc-e052-496a-80ae-d4b723865383 button.colab-df-convert');\n",
              "        buttonEl.style.display =\n",
              "          google.colab.kernel.accessAllowed ? 'block' : 'none';\n",
              "\n",
              "        async function convertToInteractive(key) {\n",
              "          const element = document.querySelector('#df-381482fc-e052-496a-80ae-d4b723865383');\n",
              "          const dataTable =\n",
              "            await google.colab.kernel.invokeFunction('convertToInteractive',\n",
              "                                                     [key], {});\n",
              "          if (!dataTable) return;\n",
              "\n",
              "          const docLinkHtml = 'Like what you see? Visit the ' +\n",
              "            '<a target=\"_blank\" href=https://colab.research.google.com/notebooks/data_table.ipynb>data table notebook</a>'\n",
              "            + ' to learn more about interactive tables.';\n",
              "          element.innerHTML = '';\n",
              "          dataTable['output_type'] = 'display_data';\n",
              "          await google.colab.output.renderOutput(dataTable, element);\n",
              "          const docLink = document.createElement('div');\n",
              "          docLink.innerHTML = docLinkHtml;\n",
              "          element.appendChild(docLink);\n",
              "        }\n",
              "      </script>\n",
              "    </div>\n",
              "  </div>\n",
              "  "
            ]
          },
          "metadata": {},
          "execution_count": 114
        }
      ],
      "source": [
        "t20_match.groupby('Player_Name')['4s'].sum().sort_values(ascending=False).head(10).reset_index()"
      ]
    },
    {
      "cell_type": "markdown",
      "id": "9b1092e7",
      "metadata": {
        "papermill": {
          "duration": 0.048913,
          "end_time": "2022-07-07T16:30:54.206079",
          "exception": false,
          "start_time": "2022-07-07T16:30:54.157166",
          "status": "completed"
        },
        "tags": [],
        "id": "9b1092e7"
      },
      "source": [
        "## Player Profile - Analysis for each player"
      ]
    },
    {
      "cell_type": "code",
      "execution_count": 115,
      "id": "f91a28b7",
      "metadata": {
        "execution": {
          "iopub.execute_input": "2022-07-07T16:30:54.612658Z",
          "iopub.status.busy": "2022-07-07T16:30:54.612253Z",
          "iopub.status.idle": "2022-07-07T16:30:54.678414Z",
          "shell.execute_reply": "2022-07-07T16:30:54.677261Z"
        },
        "papermill": {
          "duration": 0.119557,
          "end_time": "2022-07-07T16:30:54.680931",
          "exception": false,
          "start_time": "2022-07-07T16:30:54.561374",
          "status": "completed"
        },
        "tags": [],
        "colab": {
          "base_uri": "https://localhost:8080/"
        },
        "id": "f91a28b7",
        "outputId": "679d8fc4-5ae8-4a34-9bdc-7561cf90f750"
      },
      "outputs": [
        {
          "output_type": "execute_result",
          "data": {
            "text/plain": [
              "array(['TWM Latham', 'WA Young', 'KS Williamson', ..., 'Randhir Singh',\n",
              "       'MR Pydanna', 'RC Shukla'], dtype=object)"
            ]
          },
          "metadata": {},
          "execution_count": 115
        }
      ],
      "source": [
        "final_df['Player_Name'].unique()"
      ]
    },
    {
      "cell_type": "code",
      "execution_count": 117,
      "id": "e4d4b6db",
      "metadata": {
        "execution": {
          "iopub.execute_input": "2022-07-07T16:30:54.780089Z",
          "iopub.status.busy": "2022-07-07T16:30:54.779648Z",
          "iopub.status.idle": "2022-07-07T16:30:54.785356Z",
          "shell.execute_reply": "2022-07-07T16:30:54.784172Z"
        },
        "papermill": {
          "duration": 0.058008,
          "end_time": "2022-07-07T16:30:54.787753",
          "exception": false,
          "start_time": "2022-07-07T16:30:54.729745",
          "status": "completed"
        },
        "tags": [],
        "id": "e4d4b6db"
      },
      "outputs": [],
      "source": [
        "x = final_df.groupby('Player_Name')"
      ]
    },
    {
      "cell_type": "code",
      "execution_count": 118,
      "id": "401e6cad",
      "metadata": {
        "execution": {
          "iopub.execute_input": "2022-07-07T16:30:54.889565Z",
          "iopub.status.busy": "2022-07-07T16:30:54.889160Z",
          "iopub.status.idle": "2022-07-07T16:30:54.900339Z",
          "shell.execute_reply": "2022-07-07T16:30:54.898973Z"
        },
        "papermill": {
          "duration": 0.065256,
          "end_time": "2022-07-07T16:30:54.902660",
          "exception": false,
          "start_time": "2022-07-07T16:30:54.837404",
          "status": "completed"
        },
        "tags": [],
        "id": "401e6cad"
      },
      "outputs": [],
      "source": [
        "def player_profile(player_name):\n",
        "    v=x.get_group(player_name)\n",
        "    v.replace('-',0,inplace=True)\n",
        "    v=v.astype({'Runs':int,'BF':int, '4s':int, '6s':int, 'SR':float, 'Inns':int})\n",
        "    print('Total runs scored in each different format:',v.groupby('Format')['Runs'].sum().reset_index())\n",
        "    print('Total 4s in each different format:', v.groupby('Format')['4s'].sum())\n",
        "    print('Total 6s in each different format:', v.groupby('Format')['6s'].sum())\n",
        "    print(player_name,' played against',v['Opponent Team'].nunique(),' these teams',v['Opponent Team'].unique())\n",
        "    print('Strike rate in each different format:' ,v.groupby('Format')['SR'].median())\n",
        "    print('Strike Rate against each opponent team:',v.groupby(['Opponent Team','Format'])['SR'].median())\n",
        "    print('Maximum runs againt each opponent team:',v.groupby('Opponent Team')['Runs'].max())\n",
        "    print('Maximum strike rate against each Opponent Team:',v.groupby('Opponent Team')['SR'].max())\n",
        "    print(v.groupby(['Opponent Team','Format'])['Runs'].sum())\n",
        "    o_n(player_name)\n",
        "    "
      ]
    },
    {
      "cell_type": "code",
      "execution_count": 119,
      "id": "46bbade8",
      "metadata": {
        "execution": {
          "iopub.execute_input": "2022-07-07T16:30:55.002289Z",
          "iopub.status.busy": "2022-07-07T16:30:55.001860Z",
          "iopub.status.idle": "2022-07-07T16:30:55.150158Z",
          "shell.execute_reply": "2022-07-07T16:30:55.148309Z"
        },
        "papermill": {
          "duration": 0.201503,
          "end_time": "2022-07-07T16:30:55.153057",
          "exception": false,
          "start_time": "2022-07-07T16:30:54.951554",
          "status": "completed"
        },
        "tags": [],
        "colab": {
          "base_uri": "https://localhost:8080/"
        },
        "id": "46bbade8",
        "outputId": "8d1b6ece-4d46-4e8f-b722-0a3bd9340bda"
      },
      "outputs": [
        {
          "output_type": "stream",
          "name": "stdout",
          "text": [
            "Total runs scored in each different format:   Format  Runs\n",
            "0    ODI  8273\n",
            "1   T20I   394\n",
            "2   Test  8586\n",
            "Total 4s in each different format: Format\n",
            "ODI     1132\n",
            "T20I      43\n",
            "Test    1233\n",
            "Name: 4s, dtype: int64\n",
            "Total 6s in each different format: Format\n",
            "ODI     136\n",
            "T20I     16\n",
            "Test     91\n",
            "Name: 6s, dtype: int64\n",
            "V Sehwag  played against 20  these teams ['Australia' 'Pakistan' 'England' 'South Africa' 'Afghanistan'\n",
            " 'New Zealand' 'Sri Lanka' 'West Indies' 'Netherlands' 'Ireland'\n",
            " 'Bangladesh' 'Hong Kong' 'Africa XI' 'Bermuda' 'Zimbabwe' 'ICC World XI'\n",
            " 'Kenya' 'U.A.E.' 'Namibia' 'Scotland']\n",
            "Strike rate in each different format: Format\n",
            "ODI      90.90\n",
            "T20I    125.00\n",
            "Test     78.12\n",
            "Name: SR, dtype: float64\n",
            "Strike Rate against each opponent team: Opponent Team  Format\n",
            "Afghanistan    T20I       80.000\n",
            "Africa XI      ODI       100.000\n",
            "Australia      ODI        90.185\n",
            "               T20I      125.000\n",
            "               Test       70.490\n",
            "Bangladesh     ODI       124.260\n",
            "               Test       74.900\n",
            "Bermuda        ODI       131.030\n",
            "England        ODI        87.930\n",
            "               T20I      130.760\n",
            "               Test       61.550\n",
            "Hong Kong      ODI       177.270\n",
            "ICC World XI   ODI       115.380\n",
            "Ireland        ODI       166.660\n",
            "Kenya          ODI        62.960\n",
            "Namibia        ODI       100.000\n",
            "Netherlands    ODI       108.330\n",
            "New Zealand    ODI        90.750\n",
            "               T20I      235.290\n",
            "               Test       92.365\n",
            "Pakistan       ODI        87.750\n",
            "               T20I      143.745\n",
            "               Test       72.090\n",
            "Scotland       T20I        0.000\n",
            "South Africa   ODI        83.710\n",
            "               T20I      117.240\n",
            "               Test       74.570\n",
            "Sri Lanka      ODI       100.000\n",
            "               T20I      177.770\n",
            "               Test       99.005\n",
            "U.A.E.         ODI         0.000\n",
            "West Indies    ODI        80.000\n",
            "               Test       93.840\n",
            "Zimbabwe       ODI        88.230\n",
            "               Test       91.660\n",
            "Name: SR, dtype: float64\n",
            "Maximum runs againt each opponent team: Opponent Team\n",
            "Afghanistan       8\n",
            "Africa XI        52\n",
            "Australia       195\n",
            "Bangladesh      175\n",
            "Bermuda         114\n",
            "England         126\n",
            "Hong Kong        78\n",
            "ICC World XI     45\n",
            "Ireland           5\n",
            "Kenya            55\n",
            "Namibia          24\n",
            "Netherlands      39\n",
            "New Zealand     173\n",
            "Pakistan        309\n",
            "Scotland          0\n",
            "South Africa    319\n",
            "Sri Lanka       293\n",
            "U.A.E.            0\n",
            "West Indies     219\n",
            "Zimbabwe         90\n",
            "Name: Runs, dtype: int64\n",
            "Maximum strike rate against each Opponent Team: Opponent Team\n",
            "Afghanistan      80.00\n",
            "Africa XI       136.84\n",
            "Australia       171.42\n",
            "Bangladesh      200.00\n",
            "Bermuda         131.03\n",
            "England         225.00\n",
            "Hong Kong       177.27\n",
            "ICC World XI    115.38\n",
            "Ireland         166.66\n",
            "Kenya           239.13\n",
            "Namibia         100.00\n",
            "Netherlands     150.00\n",
            "New Zealand     260.00\n",
            "Pakistan        185.00\n",
            "Scotland          0.00\n",
            "South Africa    183.33\n",
            "Sri Lanka       260.00\n",
            "U.A.E.            0.00\n",
            "West Indies     146.97\n",
            "Zimbabwe        133.33\n",
            "Name: SR, dtype: float64\n",
            "Opponent Team  Format\n",
            "Afghanistan    T20I         8\n",
            "Africa XI      ODI        169\n",
            "Australia      ODI        629\n",
            "               T20I        41\n",
            "               Test      1821\n",
            "Bangladesh     ODI        503\n",
            "               Test       176\n",
            "Bermuda        ODI        114\n",
            "England        ODI       1008\n",
            "               T20I        68\n",
            "               Test       821\n",
            "Hong Kong      ODI         78\n",
            "ICC World XI   ODI         45\n",
            "Ireland        ODI          5\n",
            "Kenya          ODI        163\n",
            "Namibia        ODI         24\n",
            "Netherlands    ODI         45\n",
            "New Zealand    ODI       1157\n",
            "               T20I        90\n",
            "               Test       883\n",
            "Pakistan       ODI       1071\n",
            "               T20I        34\n",
            "               Test      1276\n",
            "Scotland       T20I         0\n",
            "South Africa   ODI        497\n",
            "               T20I        62\n",
            "               Test      1306\n",
            "Sri Lanka      ODI       1699\n",
            "               T20I        91\n",
            "               Test      1239\n",
            "U.A.E.         ODI          0\n",
            "West Indies    ODI        836\n",
            "               Test       888\n",
            "Zimbabwe       ODI        230\n",
            "               Test       176\n",
            "Name: Runs, dtype: int64\n"
          ]
        }
      ],
      "source": [
        "player_profile('V Sehwag')"
      ]
    },
    {
      "cell_type": "code",
      "execution_count": 120,
      "id": "4c4dcc71",
      "metadata": {
        "execution": {
          "iopub.execute_input": "2022-07-07T16:30:55.253062Z",
          "iopub.status.busy": "2022-07-07T16:30:55.252635Z",
          "iopub.status.idle": "2022-07-07T16:30:55.257113Z",
          "shell.execute_reply": "2022-07-07T16:30:55.255975Z"
        },
        "papermill": {
          "duration": 0.057805,
          "end_time": "2022-07-07T16:30:55.259590",
          "exception": false,
          "start_time": "2022-07-07T16:30:55.201785",
          "status": "completed"
        },
        "tags": [],
        "colab": {
          "base_uri": "https://localhost:8080/"
        },
        "id": "4c4dcc71",
        "outputId": "4801d586-e297-41d9-e38b-31ce4d8b687c"
      },
      "outputs": [
        {
          "output_type": "stream",
          "name": "stdout",
          "text": [
            "Total runs scored in each different format:   Format  Runs\n",
            "0    ODI  9577\n",
            "1   T20I  1672\n",
            "2   Test  8765\n",
            "Total 4s in each different format: Format\n",
            "ODI      840\n",
            "T20I     140\n",
            "Test    1024\n",
            "Name: 4s, dtype: int64\n",
            "Total 6s in each different format: Format\n",
            "ODI     204\n",
            "T20I     60\n",
            "Test     64\n",
            "Name: 6s, dtype: int64\n",
            "AB de Villiers  played against 16  these teams ['Australia' 'India' 'Zimbabwe' 'Bangladesh' 'England' 'Pakistan'\n",
            " 'Sri Lanka' 'New Zealand' 'West Indies' 'Afghanistan' 'U.A.E.' 'Ireland'\n",
            " 'Netherlands' 'Scotland' 'Kenya' 'Asia XI']\n",
            "Strike rate in each different format: Format\n",
            "ODI      89.120\n",
            "T20I    112.845\n",
            "Test     48.730\n",
            "Name: SR, dtype: float64\n",
            "Strike Rate against each opponent team: Opponent Team  Format\n",
            "Afghanistan    T20I      150.815\n",
            "Asia XI        ODI       111.110\n",
            "Australia      ODI        91.210\n",
            "               T20I       43.750\n",
            "               Test       43.260\n",
            "Bangladesh     ODI        81.390\n",
            "               T20I      125.485\n",
            "               Test       23.750\n",
            "England        ODI        68.570\n",
            "               T20I      128.570\n",
            "               Test       48.730\n",
            "India          ODI        94.435\n",
            "               T20I      125.000\n",
            "               Test       44.785\n",
            "Ireland        ODI       114.280\n",
            "Kenya          ODI        95.985\n",
            "Netherlands    ODI         0.000\n",
            "               T20I      100.000\n",
            "New Zealand    ODI        92.100\n",
            "               T20I      120.510\n",
            "               Test       53.895\n",
            "Pakistan       ODI        83.635\n",
            "               T20I       78.330\n",
            "               Test       55.240\n",
            "Scotland       ODI       137.770\n",
            "               T20I      232.350\n",
            "Sri Lanka      ODI       100.000\n",
            "               T20I      143.180\n",
            "               Test       52.380\n",
            "U.A.E.         ODI       120.730\n",
            "West Indies    ODI        86.835\n",
            "               T20I      111.760\n",
            "               Test       48.715\n",
            "Zimbabwe       ODI       100.000\n",
            "               T20I        0.000\n",
            "               Test       64.380\n",
            "Name: SR, dtype: float64\n",
            "Maximum runs againt each opponent team: Opponent Team\n",
            "Afghanistan     64\n",
            "Asia XI         70\n",
            "Australia      169\n",
            "Bangladesh     176\n",
            "England        174\n",
            "India          217\n",
            "Ireland         40\n",
            "Kenya           28\n",
            "Netherlands    134\n",
            "New Zealand    106\n",
            "Pakistan       278\n",
            "Scotland        79\n",
            "Sri Lanka      160\n",
            "U.A.E.          99\n",
            "West Indies    178\n",
            "Zimbabwe       109\n",
            "Name: Runs, dtype: int64\n",
            "Maximum strike rate against each Opponent Team: Opponent Team\n",
            "Afghanistan    220.68\n",
            "Asia XI        200.00\n",
            "Australia      152.94\n",
            "Bangladesh     200.00\n",
            "England        246.42\n",
            "India          206.66\n",
            "Ireland        266.66\n",
            "Kenya          127.27\n",
            "Netherlands    136.73\n",
            "New Zealand    187.50\n",
            "Pakistan       164.44\n",
            "Scotland       232.35\n",
            "Sri Lanka      230.76\n",
            "U.A.E.         120.73\n",
            "West Indies    400.00\n",
            "Zimbabwe       175.00\n",
            "Name: SR, dtype: float64\n",
            "Opponent Team  Format\n",
            "Afghanistan    T20I        81\n",
            "Asia XI        ODI        150\n",
            "Australia      ODI       1250\n",
            "               T20I        52\n",
            "               Test      2068\n",
            "Bangladesh     ODI        409\n",
            "               T20I       161\n",
            "               Test        69\n",
            "England        ODI        862\n",
            "               T20I       390\n",
            "               Test      1393\n",
            "India          ODI       1357\n",
            "               T20I       208\n",
            "               Test      1334\n",
            "Ireland        ODI         64\n",
            "Kenya          ODI         39\n",
            "Netherlands    ODI        134\n",
            "               T20I        21\n",
            "New Zealand    ODI        991\n",
            "               T20I       270\n",
            "               Test       546\n",
            "Pakistan       ODI       1423\n",
            "               T20I       144\n",
            "               Test      1112\n",
            "Scotland       ODI         62\n",
            "               T20I        79\n",
            "Sri Lanka      ODI        931\n",
            "               T20I       168\n",
            "               Test       691\n",
            "U.A.E.         ODI         99\n",
            "West Indies    ODI       1279\n",
            "               T20I        98\n",
            "               Test      1347\n",
            "Zimbabwe       ODI        527\n",
            "               T20I         0\n",
            "               Test       205\n",
            "Name: Runs, dtype: int64\n"
          ]
        }
      ],
      "source": [
        "player_profile('AB de Villiers')"
      ]
    }
  ],
  "metadata": {
    "kernelspec": {
      "display_name": "Python 3",
      "language": "python",
      "name": "python3"
    },
    "language_info": {
      "codemirror_mode": {
        "name": "ipython",
        "version": 3
      },
      "file_extension": ".py",
      "mimetype": "text/x-python",
      "name": "python",
      "nbconvert_exporter": "python",
      "pygments_lexer": "ipython3",
      "version": "3.7.12"
    },
    "papermill": {
      "default_parameters": {},
      "duration": 57.405273,
      "end_time": "2022-07-07T16:30:56.433955",
      "environment_variables": {},
      "exception": null,
      "input_path": "__notebook__.ipynb",
      "output_path": "__notebook__.ipynb",
      "parameters": {},
      "start_time": "2022-07-07T16:29:59.028682",
      "version": "2.3.4"
    },
    "colab": {
      "name": "eda-and-feature-engineering-on-cricket-data.ipynb",
      "provenance": [],
      "collapsed_sections": []
    }
  },
  "nbformat": 4,
  "nbformat_minor": 5
}